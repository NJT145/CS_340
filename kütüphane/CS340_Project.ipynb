{
 "cells": [
  {
   "cell_type": "code",
   "execution_count": 1,
   "metadata": {
    "scrolled": true
   },
   "outputs": [],
   "source": [
    "#import pyspark\n",
    "#sc = pyspark.SparkContext.getOrCreate()\n",
    "#sqlContext = pyspark.sql.SQLContext(sc)\n",
    "from pyspark.sql import Row\n",
    "from pyspark.sql.functions import *\n",
    "from pyspark.sql.functions import udf\n",
    "from pyspark.sql.types import ArrayType, IntegerType\n",
    "import pandas as pd\n",
    "import xlrd\n",
    "import seaborn as sns\n",
    "import numpy as np\n",
    "import matplotlib.pyplot as plt\n",
    "#%matplotlib inline"
   ]
  },
  {
   "cell_type": "code",
   "execution_count": 2,
   "metadata": {
    "scrolled": true
   },
   "outputs": [
    {
     "data": {
      "text/html": [
       "\n",
       "        <div>\n",
       "            <p><b>SparkContext</b></p>\n",
       "\n",
       "            <p><a href=\"http://DESKTOP-IUICSM2:4040\">Spark UI</a></p>\n",
       "\n",
       "            <dl>\n",
       "              <dt>Version</dt>\n",
       "                <dd><code>v2.3.0</code></dd>\n",
       "              <dt>Master</dt>\n",
       "                <dd><code>local[*]</code></dd>\n",
       "              <dt>AppName</dt>\n",
       "                <dd><code>PySparkShell</code></dd>\n",
       "            </dl>\n",
       "        </div>\n",
       "        "
      ],
      "text/plain": [
       "<SparkContext master=local[*] appName=PySparkShell>"
      ]
     },
     "execution_count": 2,
     "metadata": {},
     "output_type": "execute_result"
    }
   ],
   "source": [
    "sc"
   ]
  },
  {
   "cell_type": "code",
   "execution_count": 3,
   "metadata": {},
   "outputs": [],
   "source": [
    "class project:\n",
    "    def read_excel_xlrd(path):\n",
    "        xl_workbook = xlrd.open_workbook(path)\n",
    "        #sheet_names = xl_workbook.sheet_names()\n",
    "        #print('Sheet Names', sheet_names)\n",
    "        #xl_sheet = xl_workbook.sheet_by_name(sheet_names[0])\n",
    "        xl_sheet = xl_workbook.sheet_by_index(0)\n",
    "        #print ('Sheet name: %s' % xl_sheet.name)\n",
    "        data = []\n",
    "        for row in range(xl_sheet.nrows):\n",
    "            line = []\n",
    "            for col in range(xl_sheet.ncols):\n",
    "                line.append(str(xl_sheet.cell(row, col).value))\n",
    "            data.append(line)\n",
    "        columnNames = data[0]\n",
    "        dataValues = data[1:]\n",
    "        dataPairs = []\n",
    "        for row in range(len(dataValues)):\n",
    "            line = {}\n",
    "            for col in range(len(columnNames)):\n",
    "                line[columnNames[col]] = dataValues[row][col]\n",
    "            dataPairs.append(Row(**line))\n",
    "        dataRDD = sc.parallelize(dataPairs)\n",
    "        df = dataRDD.toDF()\n",
    "        return df\n",
    "    \n",
    "    def topics_get(df, columnName, delimiter):\n",
    "        rows = df.groupBy(columnName).count().collect()\n",
    "        results = []\n",
    "        for row in rows:\n",
    "            for item in row[columnName].split(delimiter):\n",
    "                if item not in results:\n",
    "                    results.append(item)\n",
    "        results.sort()\n",
    "        return results\n",
    "    \n",
    "    def exist_list(list_all, list_compared):\n",
    "        results = []\n",
    "        for item in list_all:\n",
    "            if item in list_compared:\n",
    "                results.append(1)\n",
    "            else:\n",
    "                results.append(0)\n",
    "        return results\n",
    "    \n",
    "    def df_add_withColumn(df, columnName_input, columnName_output, function, returnType):\n",
    "        function_udf = udf(lambda item: function, returnType)\n",
    "        return df.withColumn(columnName_output, function_udf(col(columnName_input)))\n",
    "    "
   ]
  },
  {
   "cell_type": "code",
   "execution_count": null,
   "metadata": {},
   "outputs": [],
   "source": []
  },
  {
   "cell_type": "code",
   "execution_count": 4,
   "metadata": {},
   "outputs": [
    {
     "name": "stdout",
     "output_type": "stream",
     "text": [
      "0\n",
      "598\n",
      "598\n",
      "0\n"
     ]
    }
   ],
   "source": [
    "df = project.read_excel_xlrd(\"lib-statistics.xlsx\")\n",
    "print(df.filter(df['Ödünç Sayısı'].isNull()).count())\n",
    "print(df.filter(df['Ödünç Sayısı']=='').count())\n",
    "df = df.withColumn('Sınıflama', split(df['Sınıflama'], \" \")[0])\n",
    "df = df.withColumn('Ödünç Sayısı', df['Ödünç Sayısı'].cast('float'))\n",
    "print(df.filter(df['Ödünç Sayısı'].isNull()).count())\n",
    "df = df.fillna({'Sınıflama' : 'noInfo', 'Eser Adı' : 'noInfo', 'Yazar' : 'noInfo', 'Dil' : 'noInfo', 'Konu Başlıkları' : 'noInfo' , 'Ödünç Sayısı' : 0.0})\n",
    "print(df.filter(df['Ödünç Sayısı'].isNull()).count())"
   ]
  },
  {
   "cell_type": "code",
   "execution_count": 5,
   "metadata": {},
   "outputs": [
    {
     "name": "stdout",
     "output_type": "stream",
     "text": [
      "+-----------------+\n",
      "|sum(Ödünç Sayısı)|\n",
      "+-----------------+\n",
      "|            339.0|\n",
      "+-----------------+\n",
      "\n"
     ]
    }
   ],
   "source": [
    "df.select(sum(df['Ödünç Sayısı'])).show()"
   ]
  },
  {
   "cell_type": "code",
   "execution_count": 6,
   "metadata": {},
   "outputs": [
    {
     "name": "stdout",
     "output_type": "stream",
     "text": [
      "root\n",
      " |-- Dil: string (nullable = false)\n",
      " |-- Eser Adı: string (nullable = false)\n",
      " |-- Konu Başlıkları: string (nullable = false)\n",
      " |-- Sınıflama: string (nullable = false)\n",
      " |-- Yazar: string (nullable = false)\n",
      " |-- Ödünç Sayısı: float (nullable = false)\n",
      "\n"
     ]
    }
   ],
   "source": [
    "df.printSchema()"
   ]
  },
  {
   "cell_type": "code",
   "execution_count": 7,
   "metadata": {},
   "outputs": [
    {
     "name": "stdout",
     "output_type": "stream",
     "text": [
      "+---+--------------------+--------------------+---------+--------------------+------------+\n",
      "|Dil|            Eser Adı|     Konu Başlıkları|Sınıflama|               Yazar|Ödünç Sayısı|\n",
      "+---+--------------------+--------------------+---------+--------------------+------------+\n",
      "|eng|Museum frictions ...|Museums--Social A...|       AM|                    |         0.0|\n",
      "|tur|Tahayyül gücünü y...|Imagination (Phil...|        B|                    |         0.0|\n",
      "|tur|Bir yol var : Min...|Ontology\n",
      "Stress M...|        B|        Damcı, Taner|         0.0|\n",
      "|tur|Psikoloji şerhi =...|Aristotle\n",
      "Aristot...|        B|            İbn Rüşd|         2.0|\n",
      "|eng|An examination of...|Özel, İsmet, 1944...|        B|      Kaya, Vefa Can|         0.0|\n",
      "|eng|An examination of...|Özel, İsmet, 1944...|        B|      Kaya, Vefa Can|         0.0|\n",
      "|tur|Ruhun uyanışı, ya...|Philosophy, Islam...|        B|İbn Ṭufeyl, Muḥam...|         0.0|\n",
      "|tur|Çağımızın sorunla...|Philosophy, Moder...|        B|   Russell, Bertrand|         1.0|\n",
      "|tur|Heidegger'in kulü...|Entity (Philosoph...|       BD|         Sharr, Adam|         1.0|\n",
      "|tur|İnsan ve tabiat =...|Philosophical Ant...|       BD|Nasr, Seyyid Hüseyin|         0.0|\n",
      "|tur|Erich Fromm'un ve...|Psychoanalysis\n",
      "Fr...|       BF|     Dobrenkov, V.İ.|         0.0|\n",
      "|tur|Hayatı kolaylaştı...|Happiness\n",
      "Persona...|       BF|        Yüter, Ahmet|         0.0|\n",
      "|tur|Üzüntüden kurtulm...|Worry\n",
      "Success\n",
      "Üzü...|       BF|ebu yusuf s-Sabba...|         0.0|\n",
      "|tur|Çağdaş yaşam ve n...|Psychology, Patho...|       BF|       Geçtan, Engin|         0.0|\n",
      "|tur|Düşünce gücüyle t...|Self-Actualizatio...|       BF|      Hay, Louise L.|         0.0|\n",
      "|tur|Bana bilgiçlik ta...|Sex Differences (...|       BF|     Solnit, Rebecca|         2.0|\n",
      "|tur|Sahip olmak ya da...|Personality\n",
      "Ontol...|       BF|        Fromm, Erich|         1.0|\n",
      "|tur|Geliştiren anne baba|Parent-Child Rela...|       BF|    Cüceloğlu, Doğan|         2.0|\n",
      "|eng|Research design a...|Psychology--Resea...|       BF| Bordens, Kenneth S.|         4.0|\n",
      "|tur|İslam büyüklerini...|Islamic Ethics\n",
      "İs...|       BJ|        İmam Şa’rani|         0.0|\n",
      "+---+--------------------+--------------------+---------+--------------------+------------+\n",
      "only showing top 20 rows\n",
      "\n"
     ]
    }
   ],
   "source": [
    "df.show()"
   ]
  },
  {
   "cell_type": "code",
   "execution_count": 8,
   "metadata": {},
   "outputs": [
    {
     "data": {
      "text/plain": [
       "'Museums--Social Aspects--Congresses\\nMuseums--Economic Aspects--Congresses\\nMuseums--Political Aspects--Congresses\\nGlobalization--Social Aspects--Congresses\\nMuseum Techniques--Congresses\\nMuseum Exhibits--Congresses\\nPopular Culture--Congresses\\nCulture Diffusion--Congresses\\nCultural Pluralism--Congresses\\nMüzeler--Sosyal Yönler--Kongreler\\nMüzeler--Ekonomik Yönler--Kongreler\\nMüzeler--Siyasi Yönler--Kongreler\\nKüreselleşme--Sosyal Yönler--Kongreler\\nMüze Teknikleri--Kongreler\\nMüze Sergileri--Kongreler\\nPopüler Kültür--Kongreler\\nKültür Yayılımı--Kongreler\\nKültürel Çoğulculuk--Kongreler'"
      ]
     },
     "execution_count": 8,
     "metadata": {},
     "output_type": "execute_result"
    }
   ],
   "source": [
    "df.collect()[0]['Konu Başlıkları']"
   ]
  },
  {
   "cell_type": "code",
   "execution_count": 9,
   "metadata": {},
   "outputs": [
    {
     "data": {
      "text/plain": [
       "[Row(Dil='tur', Eser Adı='Edebiyat tarihi yazıları : arşiv kayıtları, yazma eserler ve kayıp metinler', Konu Başlıkları='', Sınıflama='PL', Yazar='Erünsal, İsmail E.', Ödünç Sayısı=1.0)]"
      ]
     },
     "execution_count": 9,
     "metadata": {},
     "output_type": "execute_result"
    }
   ],
   "source": [
    "df.filter(df['Konu Başlıkları']=='').collect()"
   ]
  },
  {
   "cell_type": "code",
   "execution_count": 10,
   "metadata": {},
   "outputs": [
    {
     "data": {
      "text/plain": [
       "[]"
      ]
     },
     "execution_count": 10,
     "metadata": {},
     "output_type": "execute_result"
    }
   ],
   "source": [
    "df.filter(df['Konu Başlıkları']=='noInfo').collect()"
   ]
  },
  {
   "cell_type": "code",
   "execution_count": 11,
   "metadata": {},
   "outputs": [
    {
     "data": {
      "text/plain": [
       "[]"
      ]
     },
     "execution_count": 11,
     "metadata": {},
     "output_type": "execute_result"
    }
   ],
   "source": [
    "df.filter(df['Konu Başlıkları']=='None').collect()"
   ]
  },
  {
   "cell_type": "code",
   "execution_count": 12,
   "metadata": {},
   "outputs": [
    {
     "data": {
      "text/plain": [
       "[]"
      ]
     },
     "execution_count": 12,
     "metadata": {},
     "output_type": "execute_result"
    }
   ],
   "source": [
    "df.filter(df['Konu Başlıkları'].isNull()).collect()"
   ]
  },
  {
   "cell_type": "code",
   "execution_count": 13,
   "metadata": {},
   "outputs": [],
   "source": [
    "def countEmptyAndNull(df):\n",
    "    for columnName in df.columns:\n",
    "        print(r\"Column '%s' has %d '', %d 'noInfo', %d 'None', %d filled, and %d null rows.\" \n",
    "              % (columnName, df.filter(df[columnName]=='').count(), df.filter(df[columnName]=='noInfo').count(),\n",
    "                 df.filter(df[columnName]=='None').count(), df.filter(df[columnName]!='').count(),\n",
    "                 df.filter(df[columnName].isNull()).count()))\n"
   ]
  },
  {
   "cell_type": "code",
   "execution_count": 14,
   "metadata": {
    "scrolled": true
   },
   "outputs": [
    {
     "name": "stdout",
     "output_type": "stream",
     "text": [
      "Column 'Dil' has 0 '', 0 'noInfo', 0 'None', 751 filled, and 0 null rows.\n",
      "Column 'Eser Adı' has 0 '', 0 'noInfo', 0 'None', 751 filled, and 0 null rows.\n",
      "Column 'Konu Başlıkları' has 1 '', 0 'noInfo', 0 'None', 750 filled, and 0 null rows.\n",
      "Column 'Sınıflama' has 0 '', 0 'noInfo', 0 'None', 751 filled, and 0 null rows.\n",
      "Column 'Yazar' has 294 '', 0 'noInfo', 0 'None', 457 filled, and 0 null rows.\n",
      "Column 'Ödünç Sayısı' has 0 '', 0 'noInfo', 0 'None', 0 filled, and 0 null rows.\n"
     ]
    }
   ],
   "source": [
    "countEmptyAndNull(df)"
   ]
  },
  {
   "cell_type": "code",
   "execution_count": 15,
   "metadata": {},
   "outputs": [
    {
     "data": {
      "text/plain": [
       "751"
      ]
     },
     "execution_count": 15,
     "metadata": {},
     "output_type": "execute_result"
    }
   ],
   "source": [
    "df.count()"
   ]
  },
  {
   "cell_type": "code",
   "execution_count": 16,
   "metadata": {},
   "outputs": [
    {
     "name": "stdout",
     "output_type": "stream",
     "text": [
      "['', 'Abraham, Ecchellensis, 1605-1664--Congresses', 'Abraham, Ecchellensis, 1605-1664--Kongreler', 'Acara (Gürcistan)--Görsel Çalışmalar', 'Action Films', 'Adalet', 'Administrative Jurisdiction--Turkey', 'Administrative Law--Turkey', 'Adventure Films', 'Advices', 'Advisory Council--Turkey--History--Periodicals', 'Advisory Council--Turkey--Proceedings--Periodicals', 'Aegean Islands (Greece and Turkey)', 'Aegean Islands (Greece and Turkey)--Politics and Government', 'Aegean Sea--History', 'Africa, North--Relations--Italy--Congresses', 'African Americans--Civil Rights--History--20th Century--Sources', 'African Literature--History and Criticism', 'Afrika Edebiyatı--Tarih ve Eleştiri', 'Afrika, Kuzey--İlişkiler--İtalya--Kongreler', 'Afrikalı Amerikalılar--Medeni Haklar--Tarih--20. Yüzyıl--Kaynaklar', 'Agricultural Laborers--Great Britain--History--19th Century', 'Agriculture--Turkey--Statistics', 'Ahlaki Eğitim--Süreli Yayınlar', 'Ahmed Şefik Midhat Paşa, 1822-1884', 'Ahmet Paşa, Kimbaracıbaşı, 1675-1747', 'Ahmet Paşa, Tarhuncu, -1653', 'Ahmet Paşa, Kimbaracıbaşı, 1675-1747', 'Ahmet Paşa, Tarhuncu, -1653', 'Aile', 'Aile Canlandırmaları--Kaliforniya, Güney--Rehberler', 'Aile Filmleri', 'Aile Politikası--Almanya', 'Aile ve Çocuklar', 'Aile İçi İletişim', 'Aile--Ahlak--Türkiye', 'Ajaria (Georgia)--Pictorial Works', 'Akaid and Theology', 'Akaid ve Teoloji', 'Akdeniz Bölgesi--Ticaret--Tarih', 'Akdeniz Bölgesi--Ticaret--Tarih--Kongreler', 'Akdeniz--Navigasyon--Tarih', 'Akseki, Ahmet Hamdi, 1887-1951', 'Aksiyon Filmleri', 'Alaeddin Darüşşifası--Konya', 'Alawi, Ahmad İbn Mustafá, 1869-1934', 'Aleppo (Syria)--Description and Travel--Early Works to 1800', 'Algebras, Linear--Textbooks', 'Allah (İslam)--Nitelikler', 'Allah (İslam)--İsim', 'Alman Edebiyatı--Roman', 'Alman Edebiyatı--Öykü', 'Alman Zollverein--Tarih--19. Yüzyıl', 'Alman Özgürlük Ordusu', 'Almanya--Roman--19. Yüzyıl', 'Almanya--Tarih--1918-1933', 'Ambassadors--Turkey--Diaries', 'American Fiction', 'American Literature--Fiction', 'Amerikan Edebiyatı--Roman', 'Amerikan Romanı', 'Analysis of Variance ', 'Animasyon Filmleri', 'Animation Films', 'Arab Countries--History--1517-1918', 'Arab-Israeli Conflict--1973-1993--Public Opinion', 'Arabian Nights', 'Arabian Peninsula--Guidebooks', 'Arabic Language', 'Arabic Language--Dictionaries--Arabic', 'Arabic Language--Dictionaries--Turkish--Early Works to 1800', 'Arabic Language--Practices', 'Arabic Language--Verb--Tables', 'Arabic Literature--History and Criticism', 'Arabic Literature--Islamic Influences', 'Arap Dili', 'Arap Dili--Fiil--Tablolar', 'Arap Dili--Sözlükler--Arapça', 'Arap Dili--Sözlükler--Türkçe--1800’den Önceki Çalışmalar', 'Arap Dili--Uygulamalar', 'Arap Edebiyatı--Tarih ve Eleştiri', 'Arap Edebiyatı--İslam Etkileri', 'Arap Geceleri', 'Arap Yarımadası--Rehber Kitaplar', 'Arap Ülkeleri--Tarih--1517-1918', 'Arap-İsrail Çatışması--1973-1993--Kamuoyu', 'Architecture, Islamic--History', 'Architecture, Islamic--Turkey', 'Architecture, Seljuk--Turkey--Konya', 'Architecture--Switzerland--History--20th Century--Exhibitions', 'Aristotales', 'Aristotales. Animalizm', 'Aristotle', 'Aristotle. De Anima', 'Armenia (Republic)--Politics and Government--Periodicals', 'Armenia--History--Periodicals', 'Armenian Activities--Turkey--History--Resources', 'Armenian Litareture', 'Armenian Literature--Fiction', 'Armenian Literature--History and Criticism', 'Armenian Question--Periodicals', 'Armenians--Turkey--History', 'Armenians--Turkey--History--Congresses', 'Armenians--Turkey--Interviews', 'Armies--Officers', 'Art Criticism', 'Art, Ottoman', 'Art--Turkey--Exhibitions', 'Artificial Intelligence', 'Artists, Turkish--Biography', 'Arts, Turkish', 'Arts, Turkish--Western Influences', 'Arts--Turkey', 'Asia, Central--History--1991---Congresses', 'Asia, Central--Politics and Government--1991---Congresses', 'Asia, Central--Social Conditions--1991---Congresses', 'Astronomi, Arap', 'Astronomi--İslam Ülkeleri--Tarih', 'Astronomical Observatories--History', 'Astronomical Observatories--Islamic Countries--History', 'Astronomik Rasathaneler--Tarih', 'Astronomik Rasathaneler--İslam Ülkeleri--Tarih', 'Astronomy, Arab', 'Astronomy--Islamic Countries--History', 'Asya, Orta--Siyaset ve Yönetim--1991---Kongreler', 'Asya, Orta--Sosyal Koşullar--1991---Kongreler', 'Asya, Orta--Tarih--1991---Kongreler', 'Ateizm', 'Atheism', 'Atıf Hoca, 1876-1926--Biyografi', 'Atıf Hodja, 1876-1926--Biography', 'Austria--Ethnic Relations', 'Austria--History--1867-1918', 'Authoritarianism--China', 'Authors, Turkish--20th Century--Biography', 'Authors, Turkish--Biography', 'Authors--Biography--History and Criticism', 'Authorship', 'Avicenna, 980-1037', 'Avicenna,980-1037', 'Avrupa--Kültürel Yaşam--18. Yüzyıl', 'Avrupa--Kültürel Yaşam--19. Yüzyıl', 'Avrupa--Kültürel Yaşam--Türk Etkileri', 'Avrupa--Tarih--1492-1648', 'Avrupa--Tarih--1648-1789', 'Avrupa--İlişkiler--Osmanlı İmparatorluğu--1500-1800', 'Avrupa--İlişkiler--Türkiye', 'Avusturya--Etnik İlişkiler', 'Avusturya--Tarih--1867-1918', 'Ayasofya--Tarih', 'Aydınlanma', 'Aytaman, Reha--Anılar', 'Aytaman, Reha--Diaries', 'Azınlıklar--Avusturya', 'Azınlıklar--Büyük Britanya', 'Aşk Öyküleri', 'Aşk--Dini Yönler--İslam', 'Babalar ve Oğullları--Roman', 'Balkan Peninsula--Wars--History--19th Century', 'Balkan Peninsula--Wars--History--20th Century', 'Balkan Yarımadası--Savaşlar--Tarih--19. Yüzyıl', 'Balkan Yarımadası--Savaşlar--Tarih--20. Yüzyıl', 'Barış İnşası', 'Basın--Birleşik Devletler', 'Bazaars (Markets)--Turkey--Pictorial Works', 'Başarı', 'Başkanlar--Türkiye', 'Bektashi--Customs and Practices', 'Bektashi--Social Aspects', 'Bektashi--Turkey', 'Bektaşilik--Gelenekler ve Uygulamalar', 'Bektaşilik--Sosyal Yönler', 'Bektaşilik--Türkiye', 'Belediye Yönetimi--Türkiye', 'Belgesel Filmler', 'Besteciler, Türk--Biyografi', 'Besteciler--Biyografi', 'Beyin Felci', 'Bible--Translating', 'Bible. New Testament', 'Bibliyografik Roman', 'Bilgi Kaynakları--Avrupa--Tarih--18. Yüzyıl', 'Bilgi Kaynakları--Avrupa--Tarih--19. Yüzyıl', 'Bilim', 'Bilim Adamları, Türk', 'Bilim Kurgu Filmleri', 'Bilim--Felsefe', 'Bilim--Sosyal Yönler', 'Bilim--Türkiye--Tarih', 'Bilim--İslam', 'Bilim--İslam Ülkeleri--Tarih', 'Biographical Fiction', 'Biography Films', 'Birleşik Devletler--Tarih--1919-1933--Roman', 'Biyografi Filmleri', 'Body Fluids--Analysis', 'Bolivia--Politics and Government--2006-', 'Bolivya--Siyaset ve Yönetim--2006-', 'Book Industries and Trade--Turkey--History', 'Books and Reading', 'Books--Turkey--History', 'Booksellers and Bookselling--Iran--History', 'Booksellers and Bookselling--Turkey--History', 'Bookstores--Turkey--History', 'Borçlar, Kamu--Tarih--Kongreler', 'Bosna ve Hersek--Tarih--Roman', 'Bosnia and Hercegovina--History--Fiction', 'Boyutsal Analiz', 'Brown, Christy, 1932-', 'Buddhism--China--Tibet', 'Buddhists--China--Tibet--Biography', 'Budistler--Çin--Tibet--Biyografi', 'Budizm--Çin--Tibet', 'Bulgar Dili--Gramer', 'Bulgar Edebiyatı--Roman--Türkçe’ye Çeviriler', 'Bulgarian Language--Grammar', 'Bulgarian Literature--Fiction--Translations into Turkish', 'Business Mathematics--Problems, Exercises, etc.', 'Buğra, Tarık, 1918-1994--Criticism and Interpretation', 'Buğra, Tarık, 1918-1994--Eleştiri ve Yorumlama', 'Bütünsel Tıp', 'Büyük Biritanya--Siyaset ve Yönetim--1830-1837', 'Büyük Britanya Parlementosu--Reform--Tarih--19 Yüzyıl', 'Büyük Britanya--Dış İlişkiler--Hollanda', 'Büyük Britanya--Dış İlişkiler--Orta Doğu', 'Büyük Britanya--Ekonomik Dış İlişkiler--Orta Doğu', 'Büyük Britanya--Etnik İlişkiler', 'Büyük Britanya--Koloniler', 'Büyük Britanya--Kırsal Koşullar', 'Büyük Britanya--Tarih--Victoria, 1837-1901', 'Büyükelçiler--Türkiye--Anılar', 'CAD/CAM Sistemleri', 'CAD/CAM Systems ', 'California, Southern--Guidebooks', 'Caliphs', 'Calligraphy--Turkey', 'Calligraphy--Turkey--Exhibitions', 'Camiler--Türkiye', 'Capitalism--Consumption Culture', 'Capitalism--Moral and Ethical Aspects', 'Capitalism--Philosophy', 'Castro, Fidel, 1926---Comic Books, Strips, etc.', 'Castro, Fidel, 1926---Comic Books, Strips, etc.--Fiction', 'Castro, Fidel, 1926---Karikatür Kitapları vb.', 'Castro, Fidel, 1926---Karikatür Kitapları vb.--Roman', 'Catholic Church--Poland--History--20th Century', 'Cebir, Lineer--Ders Kitapları', 'Cenap Şehabettin, 1870-1934', 'Cenova (İtalya)--Tanıtım ve Gezi--1800’den Önceki Çalışmalar', 'Central America--Economic Policy', 'Central-Local Government Relations--Turkey--19th Century', 'Central-Local Government Relations--Turkey--20th Century', 'Cerebral Palsy', 'Cerrahi--Tarih', 'Cevdet, Mehmed, 1883-1935', 'Cevdet, Mehmed, 1883-1935--Biography', 'Cevdet, Mehmed, 1883-1935--Biyografi', 'Change (Psychology)', 'Child Development', 'Child Rearing', 'Children--Travel--California, Southern--Guidebooks', 'Chile--Politics and Government--1988-', 'China--Description and Travel', 'China--History', 'Christianity and Other Religions--Islam', 'Christians--Africa, North--History', 'Christians--Italy--History', 'Chronology, Historical', 'Cihad', 'Cinayet--Kansas', 'Cinsel Davranış Araştırmaları', 'Cinsel Farklılıklar (Psikoloji)', 'Cinsiyetçilik', 'Citizenship--Latin America', 'City Planning', 'City Planning and Redevelopment Law--Turkey', 'City Planning--Turkey--Konya', 'Civics', 'Civil Law--Turkey--Congresses', 'Civil Society', 'Civil Society--China', 'Civil Society--Latin America', 'Civilization, Modern--1950---Philosophy', 'Civilization, Western', 'Civilization, Western--In Literature', 'Civilization--Congresses--Turkey', 'Civilization--Early Works to 1800', 'Civilization--History', 'College Students--Turkey--Marriage--Evaluation', 'College Teachers--Turkey--Biography', 'Comedy Films', 'Comic Books, Strips, etc.--Fiction', 'Commerce--Terminology--History--Congresses', 'Commercial Statistics', 'Communication', 'Communication and Culture', 'Communication in the Family', 'Companions', 'Composers, Turkish--Biography', 'Composers--Biography', 'Conduct of Life--Early Works to 1800', 'Conservatism--Turkey', 'Constituent Assembly--Turkey--History--Periodicals', 'Constituent Assembly--Turkey--Proceedings--Periodicals', 'Consumer Protection--Law and Legislation--Turkey', 'Consumption Culture--Islam ', 'Cooking in Literature', 'Corporations, Foreign--Taxation--Law and Legislation--Turkey', 'Counterinsurgency', 'Creative Thinking--Congresses', 'Crime Films', 'Crusades', 'Cuba--History--1959-1990--Comic Books, Strips, etc.--Fiction', 'Cuba--History--1990---Comic Books, Strips, etc.--Fiction', 'Cultural Centre--Konya (Turkey)', 'Cultural Pluralism--Congresses', 'Culture Diffusion--Congresses', 'Culture and Tourism--Turkey--Congresses', 'Culture--Periodicals', 'Customer Relations', 'Damga Vergileri--Türkiye', 'Danışma Meclisi--Türkiye--Tarih--Süreli Yayınlar', 'Danışma Meclisi--Türkiye--Tutanaklar--Süreli Yayınlar', 'Debts, Public--History--Congresses', 'Democratization--Economic Aspects--Latin America', 'Demografi--Rusya', 'Demography--Russia', 'Demokratikleşme--Ekonomik Yönler--Latin Amerika', 'Deneysel Tasarım', 'Deniz Gücü--Ekonomik Yönler--Fransa--Tarih--18. Yüzyıl', 'Deniz Kuvvetleri--Subaylar', 'Deutscher Zollverein--History--19th Century', 'Devlet Adamlar, Türk--Biyografi', 'Devlet Adamları--Türkiye--Biyografi', 'Devlet Başkanları--Küba--Biyografi--Karikatür Kitapları vb.--Roman', 'Devletadamları--Türkiye--Biyografi', 'Değerler--Eğitim ve Öğretim--Süreli Yayınlar', 'Değişim (Psikoloji)', 'Diffusion of Innovations--History--Congresses', 'Dil ve Diller', 'Dimensional Analysis', 'Din', 'Din Eğitimi, Çocukların--Türkiye', 'Din Eğitimi--Türkiye', 'Din Eğitimi--Yaşlılar', 'Din Eğitimi--İngiltere', 'Din ve Bilim', 'Din ve Sanat', 'Din ve Sosyoloji', 'Din ve Sosyoloji--Türkiye--Örnek Çalışmalar', 'Din--Felsefe', 'Dini Eğitimi', 'Dini Yaşam ve Gelenekler--Türkiye', 'Dini Yaşam-- İslam', 'Dini Yaşam--İslam', 'Dini Yaşam--İslam--1800’den Önceki Çalışmalar', 'Dini Yaşam--İslam--Derleme', 'Dini Yönler--İslam', 'Dinleme', 'Dinler', 'Diplomatlar--Türkiye--Anılar', 'Diplomats--Turkey--Diaries', 'Direct Marketing', 'Direct marketing--Management', 'Discipline of Children', 'Divan Şiiri', 'Documentary Films', 'Doktorlar, Kadınlar', 'Doktorlar--Türkiye--Biyografi', 'Domestic Relations--Turkey', 'Doğa Felsefesi', 'Doğal Seleksiyon', 'Doğrudan Pazarlama', 'Doğrudan Pazarlama--Yönetim', 'Doğrusal Modeller (İstatistikler)', 'Doğu ve Batı', 'Doğu ve Batı--Medeniyet', 'Dram Filmleri', 'Drama Filmleri', 'Drama Films', 'Dyab, Hanna--Gezi', 'Dyâb, Hanna--Travel', 'Dünya Savaşı, 1939-1945--Kadınlar--Sovyetler Birliği', 'Dünya Savaşı, 1939-1945--Katılım, Kadın', 'Dünya Savaşı, 1939-1945--Kişisel Anlatımlar, Rus', 'Dünya Siyaseti--21. Yüzyıl--Süreli Yayınlar', 'Dünya Tarihi', 'Dünya Vatandaşlığı', 'Düşünce Özgürlüğü', 'Early Childhood Education', 'Early Chıldhood Educatıon', 'East and West', 'East and West--Civilization', 'Ebeveyn-Çocuk İlişkileri', 'Ebeveynlik', 'Ebu Said Muhammed Hadimi--Biography', 'Ebu Said Muhammed Hadimi--Biyografi', 'Economic Anthropology', 'Economic Policy--Moral and Ethical Aspects--Congresses', 'Economics', 'Economics--Periodicals', 'Economics--Statistical Methods', 'Economics--Turkey', 'Economics--Turkey--Reports', 'Edirne (Turkey)--Buildings, Structures, etc.', 'Edirne (Türkiye)--Binalar, Yapılar, vb.', 'Education of Children', 'Education of Religion--Turkey', 'Education--Family--Turkey', 'Education--Periodicals', 'Education--Study and teaching', 'Education--Turkey', 'Education--Turkey--History', 'Education--Turkey--Statistics', 'Educatıon, Preschool', 'Ege Adaları (Yunanistan ve Türkiye)', 'Ege Adaları (Yunanistan ve Türkiye)--Siyaset ve Yönetim', 'Ege Denizi--Tarih', 'Ekonomi', 'Ekonomi Politikası--Ahlaki ve Etik Yönler--Kongreler', 'Ekonomi--Süreli Yayınlar', 'Ekonomi--Türkiye', 'Ekonomi--İstatistiksel Metodlar', 'Ekonomik Antropoloji', 'Electric Apparatus and Appliances', 'Electrical Engineering--Materials', 'Elektrik Cihazlar ve Aletler', 'Elektrik Mühendisliği', 'Emigration and Immigration', 'Empire Ottoman--Relations--Europe--1500-1800', 'Empresses--Turkey--Biography', 'Endorfinler', 'Endorphins', 'Endowments--History--Bosnia Herzegovina', 'Engineering--Statistical Methods', 'English Language--Textbooks for Foreign Speakers', 'English Literature--History and Criticism', 'Enlightenment', 'Entity (Philosophy)', 'Environmental Protection--Turkey', 'Epitaphs--Turkey--Istanbul--Pictorial Works', 'Erkek-Kadın İlişkileri', 'Erken Çocukluk Eğitimi', 'Ermeni Edebiyatı', 'Ermeni Edebiyatı--Roman', 'Ermeni Edebiyatı--Tarih ve Eleştiri', 'Ermeni Faaliyetleri--Türkiye--Tarih--Kaynaklar', 'Ermeni Sorunu--Süreli Yayınlar', 'Ermeniler--Türkiye--Ropörtajlar', 'Ermeniler--Türkiye--Tarih', 'Ermeniler--Türkiye--Tarih--Kongreler', 'Ermenistan (Cumhuriyet)--Siyaset ve Yönetim--Süreli Yayınlar', 'Ermenistan--Tarih--Süreli Yayınlar', 'Ethics', 'Etik', 'Etik--Türkiye', 'Etiquette--Turkey', 'Europe--Commerce--History--Congresses', 'Europe--History--1492-1648', 'Europe--History--1648-1789', 'Europe--Intellectual Life--18th Century', 'Europe--Intellectual Life--19th Century', 'Europe--Intellectual Life--Turkish Influences', 'Europe--Relations--Empire Ottoman--1500-1800', 'Europe--Relations--Middle East', 'Europe--Relations--Turkey', 'Evli Kadınlar--Roman', 'Evlilik--Türkiye--Değerlendirme', 'Evolution', 'Evolution (Biology)', 'Evolution (Biology)--History', 'Evolution (Biology)--Philosophy', 'Evolutionary Genetics', 'Evrim', 'Evrim (Biyoloji)', 'Evrim (Biyoloji)--Felsefe', 'Evrim (Biyoloji)--Tarih', 'Evrim Genetiği', 'Executive Power--Turkey', 'Exhibitions--Catalogs--Turkey', 'Experimental Design', 'Eğitim ve Öğretim', 'Eğitim, Anaokulu', 'Eğitim, Dinin--Türkiye', 'Eğitim--Aile--Türkiye', 'Eğitim--Eğitim ve Öğretim', 'Eğitim--Süreli Yayınlar', 'Eğitim--Türkiye', 'Eğitim--Türkiye--Tarih', 'Eğitim--Türkiye--İstatistikler', 'Faith (Islam)', 'Family', 'Family Films', 'Family Policy--Germany', 'Family Recreation--California, Southern--Guidebooks', 'Family--Ethics--Turkey', 'Fantastik Filmler', 'Fantasy Films', 'Fars Edebiyatı', 'Fars Edebiyatı--Şiir', 'Fascism', 'Fascism--Europe', 'Fathers and Sons--Fiction', 'Fatwas', 'Faz Gürültüsü', 'Faşizm', 'Faşizm--Avrupa', 'Felsefe', 'Felsefe ve Din', 'Felsefe, Modern', 'Felsefe, İngiliz--18. Yüzyıl', 'Felsefe--Süreli Yayınlar', 'Felsefi Antropoloji', 'Feminism', 'Feminizm', 'Fetvalar', 'Fiction', 'Finance--Turkey', 'Finance--Turkey--History', 'Financial Law--Turkey', 'Finans--Türkiye', 'Finans--Türkiye--Tarihi', 'Fine Art--Miniature', 'First Loves--Fiction', 'Fiyatlar--Türkiye--İstanbul--İstatistikler', 'Fiyatlar--Türkiye--İstatistikler', 'Fizik--Felsefe', 'Folk Literature, Turkish', 'Folk Literature, Turkish--History and Criticism', 'Folklor (Halkbilim)--Türkiye', 'Folklor (Halkbilim)--Türkiye--Süreli Yayınlar', 'Folklore--Turkey', 'Folklore--Turkey--Periodicals', 'Food Habits in Literature', 'Food--Biotechnology--Congresses ', 'Food--Religious Aspects--Islam', 'Fotoğrafçılar--Türkiye', 'Fotoğrafçılar--Türkiye--Biyografi', 'Fotoğrafçılık, Sanatsal--Türkiye', 'Fotoğrafçılık--Dışsal', 'Fotoğrafçılık--Türkiye--İstanbul', 'Foundations--Turkey--History', 'Foundations--Turkey--Konya', 'France--History, Naval', 'France--History, Naval--18th Century', 'France--Relations--Turkey', 'France. Marine--History--18th Century', 'Fransa--Tarih, Deniz', 'Fransa--Tarih, Deniz--18. Yüzyıl', 'Fransa--İlişkiler--Türkiye', 'Fransa. Denizciler--Tarih--18. Yüzyıl', 'Freedom of Thought', 'Frekans Kararlılığı', 'Frequency Stability', 'Freud, Sigmund', 'Fromm, Eric', 'Frontal Lobe--Physiology--Congresses', 'Frontal Lobes--Congresses', 'Frontal Lobes--Kongreler', 'Frontal Lobes--Psikoloji--Kongreler', 'Future Life--Islam', 'Games', 'Gelenek ve Görenekler', 'Gelir Vergisi--Yasa ve Mevzuat--Türkiye', 'Gemi İnşa Sanayi--Fransa--Tarih--18. Yüzyıl', 'Genetics', 'Genetik', 'Genoa (Italy)--Description and Travel--Early Works to 1800', 'Genç Erkekler--Roman', 'Genç Kadınlar--Roman', 'Gençlik--Sosyal Koşullar', 'Gençlik--Sosyal Yönler', 'Gençlik--Tarih, Modern', 'Gençlik--Türkiye', 'Gençlik--Türkiye--Din', 'Gerilim Filmleri', 'German Literature--Fiction', 'German Literature--Story', 'Germany--Fiction--19th Century', 'Germany--History--1918-1933', 'Germany.Heer.Freikorps', 'Gizem Filmleri', 'Globalization--Social Aspects--Congresses', 'God (Islam)--Attributes', 'God (Islam)--Name', 'Graphic Novels', 'Great Britain--Colonies', 'Great Britain--Ethnic Relations', 'Great Britain--Foreign Economic Relations--Middle East', 'Great Britain--Foreign Relations--Middle East', 'Great Britain--Foreign Relations--Netherlands', 'Great Britain--History--Victoria, 1837-1901', 'Great Britain--Politics and Government--1830-1837', 'Great Britain--Rural Conditions', 'Great Britain.Parliament--Reform--History--19th Century', 'Greco-Turkish War, 1897--Sources', 'Greece--Foreign Relations--Turkey', 'Göç ve Göçmenlik', 'Gümrük--Almanya--Tarih--19. Yüzyıl', 'Güner, Sami', 'Güzel Sanatlar--Minyatür', 'Gıda--Biyoteknoloji--Kongreler', 'Gıda--Dini Yönler--İslam', 'Hacı Hüseyin Ağa, 1825-1923', 'Hadis', 'Hadis Çalışmaları', 'Hadis--Deliller, Otorite, vb.', 'Hadis--Eleştiri, Yorum, vb.', 'Hadis--Eğitim ve Öğretim--Tarih', 'Hadis--Metinler', 'Hadis--Otoriteler', 'Hadis--Tarih', 'Hadis--Türkçeye Çeviriler', 'Hadis--İslam', 'Hadit--Islam', 'Hadith', 'Hadith Studies', 'Hadith--Authorities', 'Hadith--Criticism, Interpretation, etc.', 'Hadith--Evidences, Authority, etc.', 'Hadith--History', 'Hadith--Study and Teaching--History', 'Hadith--Texts', 'Hadith--Translations into Turkish', 'Hagia Sophia--History', 'Halep (Suriye)--Tanıtım ve Gezi--1800’den Önceki Çalışmalar', 'Halifeler', 'Halk Edebiyatı, Türk', 'Halk Edebiyatı, Türk--Tarih ve Eleştiri', 'Halk Edebiyatı, Türkçe--Tarih ve Eleştiri', 'Halk Sağlığı Yasaları--Türkiye', 'Happiness', 'Hareket Kabiliyeti, Çocuklarda', 'Hastaneler, Mimari--Türkiye', 'Hat Sanatı--Türkiye', 'Hat Sanatı--Türkiye--Sergiler', 'Hayal Gücü (Felsefe)--Kongreler', 'Hayal Gücü--Sosyal Yönler--Kongreler', 'Haçlı Seferleri', 'Heads of State--Cuba--Biography--Comic Books, Strips, etc.--Fiction', 'Health Facilities--Turkey--Edirne--History', 'Hejaz (Saudi Arabia)--Description and Travel', 'Heritage Tourism--Turkey--Congresses', 'Hicaz (Suudi Arabistan)--Tanıtım ve Gezi', 'Hilye-i Şerif--Exhibitions', 'Hilye-i Şerif--Sergiler', 'Historical Fiction', 'Historical Fiction, Turkish', 'History, Ancient', 'History, Modern', 'History, Modern--19th Century', 'History--Methodology', 'History--Philosophy', 'History--Philosophy--Early Works to 1800', 'History--Turkey--Istanbul', 'Hitabet', 'Hoca Mesut, 14. Yüzyıl--Eleştiri ve Yorumlama', 'Hoca Mesut, 14th Century--Criticism and Interpretation', 'Holistic Medicine', 'Hollanda--Dış İlişkiler--Büyük Britanya', 'Hollanda--Dış İlişkiler--Orta Doğu', 'Hollanda--Ekonomik Dış İlişkiler--Orta Doğu', 'Holocaust, Jewish (1939-1945)--Poland--Krakow--Personal Narratives', 'Holy Birth Week', 'Horror Films', 'Hospital of Aladdin--Konya', 'Hospital of Konya Alaeddin--Documentation', 'Hospitals, Architectural--Turkey', 'Hristiyanlık ve Diğer Dinler--İslam', 'Hristiyanlıktan Dönen Müslümanlar--Biyografi', 'Hukuk-- Türkiye', 'Hukuk--Süreli Yayınlar', 'Hukuk--Türkiye--Süreli Yayınlar', 'Human Rights--Turkey', 'Humanism', 'Hz. Muhammad, 571-632', 'Hz. Muhammed Peygamber, ö. 632', 'Hz. Muhammed ve Eşleri', 'Hz. Muhammed, 571-632', 'Hz. Muhammed, 571-632--Hadisler', 'Hz. Muhammed, 571-632--Sahabeler', 'Hz. Muhammed, Peygamber', 'Hz. Muhammed, Peygamber, 571-632', 'Hz. Muhammed, Peygamber, 571-632--Biyografi', 'Hz. Muhammed, Peygamber, 571-632--Karakter', 'Hz. Muhammed, Peygamber, ö.632--Biyografi ', 'Hz. Muhammed, ö. 632--Biyografi', 'Hz. Muhammed--Aile Hayatı', 'Hümanizm', 'Hıristiyanlar--Afrika, Kuzey--Tarih', 'Hıristiyanlar--İtalya--Tarih', 'Hıristiyanlık ve Diğer Dinler--İslam', 'Hızlı Prototipleme', 'I. Dünya Savaşı, 1914-1918--Seferler--Türkiye', 'I. Dünya Savaşı, 1914-1918--Seferler--Türkiye--Gelibolu Yarımadası', 'I. Dünya Savaşı, 1939-1945--İtalya', 'I.Dünya Savaşı, 1914-1918--Türkiye--Gelibolu Yarımadası--Edebiyat ve Savaş', 'I.Dünya Savaşı, 1914-1918--Türkiye--Gelibolu Yarımadası--Kişisel Anlatılar', 'II. Dünya Savaşı, 1939-1945--Dini Yönler--Katolik Kilisesi', 'II. Dünya Savaşı, 1939-1945--Yahudiler--Kurtarma--Polonya', 'Ibn Al-ʻarabī, 1165-1240', 'Ibn Al-ʻarabī, 1165-1240', 'Imagination (Philosophy)--Congresses', 'Imagination--Social Aspects--Congresses', 'Imams (Mosque Officers)--Turkey', 'Imparatoriçeler--Türkiye--Biyografi', 'Income Tax--Law and Legislation--Turkey', 'Indians', 'Information Resources--Europe--History--18th Century', 'Information Resources--Europe--History--19th Century', 'Insurgency', 'Insurgency--Serbia--History', 'Interest', 'International Law--Moral and Ethical Aspects--Congresses', 'International Relation--History', 'International Relations', 'International Relations--Moral and Ethical Aspects--Congresses', 'Internet Marketing', 'Interpersonal Communication', 'Interpersonal Relations', 'Interpersonal Relations--Turkey', 'Iqbal, Muhammad Sir, 1877-1938--Biography', 'Iqbal, Muhammad Sir, 1877-1938--Criticism and Interpretation', 'Iran Literature--13th Century', 'Islam', 'Islam (Education)', 'Islam and Politics--Congresses', 'Islam and Politics--Turkey', 'Islam and Science--History', 'Islam and State', 'Islam and State--Turkey', 'Islam and World Politics', 'Islam in Literature', 'Islam, Aqaid', 'Islam--20th Century', 'Islam--20th Century--Congresses', 'Islam--20th Century--Congresses ', 'Islam--21st Century', 'Islam--Children', 'Islam--Congresses', 'Islam--Customs and Practices', 'Islam--Daily Life Daily Life--Questions', 'Islam--Dictionaries--Turkish', 'Islam--Doctrines', 'Islam--Doctrines ', 'Islam--Doctrines--History', 'Islam--Economy', 'Islam--Egypt--History--Congresses', 'Islam--Ending', 'Islam--Fasting', 'Islam--France--History', 'Islam--Funeral', 'Islam--Hadith', 'Islam--Historiography', 'Islam--History', 'Islam--Kutlu Doğum Haftası', 'Islam--Kılavuzlar', 'Islam--Manuals', 'Islam--Mosques', 'Islam--Periodicals', 'Islam--Prayer', 'Islam--Prayer-Books', 'Islam--Prayers and Devotions ', 'Islam--Psychology', 'Islam--Public Opinion--Congresses', \"Islam--Qur'an Precept\", 'Islam--Relations--Christianity', 'Islam--Relations--Jesus Christ', 'Islam--Relations--Judaism', 'Islam--Sacred Space', 'Islam--Science', 'Islam--Social Aspects--Turkey--Case Studies', 'Islam--Study and Teaching', 'Islam--Study and Teaching (Elementary)--Turkey', 'Islam--Study and Teaching--Turkey', 'Islam--Sufism--Mevleviyeh', 'Islam--Theosophy--Sacred Books--Hadith Literature', 'Islam--Turkey', 'Islam--Turkey--21st Century', 'Islam--Turkey--History', 'Islam--Turkey--History--20th Century', 'Islam--Turkey--Periodicals', 'Islam--Universality', 'Islam--Worship--Prayer', 'Islam--Youngs--Suggestion', 'Islam--Öğretiler', 'Islamic Countries--Economic Conditions--Congresses', 'Islamic Countries--Social Conditions--Congresses', 'Islamic Education--Preschool', 'Islamic Education--Turkey', 'Islamic Empire--History  622-661', 'Islamic Empire--Relations--Europe', 'Islamic Ethics', 'Islamic Ethics ', 'Islamic Ethics--Study and Teaching (Elementary)--Turkey', 'Islamic Law', 'Islamic Law--Turkey', 'Islamic Morality', 'Islamic Morality and Propriety of', 'Islamic Movements', 'Islamic Philosophy', 'Islamic Religious Education of Children', 'Islamic Religious Education--Turkey', 'Islamic Scholars, Turkish--Biography', 'Islamic Sociology', 'Islamic Sociology--Turkey--Case Studies', 'Islamophobia--Europe', 'Israel--Description and Travel', 'Israel--Foreign Public Opinion, American', 'Istanbul (Turkey)--Description and Travel', 'Istanbul (Turkey)--Guidebooks', 'Istanbul (Turkey)--History', 'Istanbul (Turkey)--Reports', 'Istanbul (Turkey)--The Capital of Cultures, 2010', 'Istanbul--Hagia Sophia--Description and Travel', 'Istanbul--Social Life and Customs', 'Italy--Politics and Government--1922-1945', 'Italy--Relations--Africa, North--Congresses', 'Jalal Al-Din Rumi, Maulana, 1207-1273', 'Jalal al-Din Rumi, Maulana, 1207-1273', 'Jalal al-Din Rumi, Maulana, 1207-1273--Poetry', \"Jalalu'ddin Mavlana, 1207-1273\", 'Jerusalem', 'Jerusalem--History', 'Jewish Children--Poland', 'Jews--Arabian Peninsula--History', 'Jews--Persecutions--Poland--Krakow', 'Jews--Social Life and Customs', 'Jihad', 'Judaism--Relations--Islam', 'Justice', 'Kadın Doktorlar--Türkiye--Biyografi', 'Kadın Hakları', 'Kadın Hakları--Türkiye', 'Kadın Organizasyonları--Türkiye', 'Kadınlar, Hadislerde', \"Kadınlar, İslam'da\", 'Kadınlar, İslamda', 'Kadınlar, İslam’da', 'Kadınlar--Bizans İmparatorluğu--Tarih--Orta Çağ, 500-1500', 'Kadınlar--Eğitim--Türkiye--Tarih', 'Kadınlar--Hukuki Durum, Kanunlar, vb.--Türkiye', 'Kadınlar--Siyasi Faaliyetler--Türkiye', 'Kadınlar--Sosyal Politika', 'Kadınlar--Türkiye', 'Kaliforniya, Güney--Rehberler', 'Kamuoyu--Birleşik Devletler', 'Kamuoyu--Türkiye--Kongreler', 'Kapitalizm--Ahlaki ve Etiksel Yönler', 'Kapitalizm--Felsefe', 'Kapitalizm--Tüketim Kültürü', 'Karay, Refik Halit, 1888-1965', 'Karikatür Kitapları vb.--Roman', 'Kartpostallar--Yunanistan--Selanik', 'Katalik Kilisesi--Polonya--Tarih--20. Yüzyıl', 'Kelime Haznesi', 'Kent Politikası', 'Kentleşme', 'Kitap Endüstrisi ve Ticaret--Türkiye--Tarih', 'Kitaplar ve Okuma', 'Kitaplar--Türkiye--Tarih', 'Kitapçılar ve Kitapçılık--Türkiye--Biyografi', 'Kitapçılar ve Kitapçılık--İran--Tarih', 'Kitapçılar--Türkiye--Tarih', 'Kitchens in Literature', 'Kitle İletişim Araçları--Arap Ülkeleri', 'Kitle İletişim Politikası--Latin Amerika', 'Kitle İletişim--Sosyal Yönler--Latin Amerika', 'Kişilerarası İletişim', 'Kişilerarası İletişim--Türkiye', 'Kişilik', 'Kişilik Gelişimi', 'Kişisel Anlatılar--Türkiye', 'Koca Ragıb, Paşa, 1699-1763', 'Koca Ragıb, Paşa,1699-1763', 'Komedi Filmleri', 'Kontrgerilla Harekatı', 'Konya (Turkey)--Biography', 'Konya (Türkiye)--Biyografi', 'Konya Alaeddin Darüşşifası--Belgeler', 'Konya--Turkey--Buildings, etc.', 'Konya--Turkey--Description and Travel', 'Konya--Turkey--History', 'Konya--Türkiye--Tanıtım ve Gezi', 'Konya--Türkiye--Tarih', 'Konya--Türkiye--Yapılar, vb.', 'Koral, Füreya, 1910-1997--Biography', 'Koral, Füreya, 1910-1997--Biyografi', 'Koran--Commentaries--History and Criticism', 'Koran--Criticism, Interpretation, etc.', 'Koran--Criticism, Interpretation, etc.--History--19th Century', 'Koran--Criticism, Interpretation, etc.--History--20th Century', 'Koran--History', 'Koran--Indexes', 'Koran--Readings', 'Korku Filmleri', 'Korsanlık--Akdeniz Bölgesi--Tarih', 'Köprülü Fazıl Ahmed Paşa, 1635-1676', 'Köprülü Mehmed Paşa, 1575?-1661', 'Kösem, Consort of Ahmed I, Sultan of The Turks, Approximately 1585-1651', 'Krakov (Polonya)--Etnik İlişkiler', 'Krakow (Poland)--Ethnic Relations', 'Kronoloji, Tarihi', 'Kudüs', 'Kudüs--Tarih', \"Kur'an--Anlama Çalışmaları\", \"Kur'an--Eleştiri, Yorum, vb.\", \"Kur'an--Tartışma Metotları\", \"Kur'an-ı Kerim\", \"Kur'an-ı Kerim-- Eleştiri, Yorum, vb.\", \"Kur'an-ı Kerim--Değerlendirme\", \"Kur'an-ı Kerim--Dil, Üslup\", \"Kur'an-ı Kerim--Dizinler\", \"Kur'an-ı Kerim--Eleştiri, Yorum vb.--Tarih--19. Yüzyıl\", \"Kur'an-ı Kerim--Eleştiri, Yorum vb.--Tarih--20. Yüzyıl\", \"Kur'an-ı Kerim--Yorumlar\", 'Kuran--Ahlak', 'Kurds--History', 'Kurucu Meclis--Türkiye--Tarih--Süreli Yayınlar', 'Kurucu Meclis--Türkiye--Tutanaklar--Süreli Yayınlar', 'Kur’an Öyküleri', 'Kur’an--Tarih', 'Kur’an-I Kerim ve Bilim--Kongreler', 'Kur’an-I Kerim--Hermenötik (Yorumbilim)--Kongreler', 'Kur’an-ı Kerim', 'Kur’an-ı Kerim--Ayetler', 'Kur’an-ı Kerim--Ayetler--Dualar', 'Kur’an-ı Kerim--Okumalar', 'Kur’an-ı Kerim--Sözlükler', 'Kur’an-ı Kerim--Yorumlar--Tarih ve Eleştiri', 'Kur’an-ı Kerîm-- Eleştiri, Yorum, vb.', 'Kutlu Doğum Haftası', 'Kuzey Atlantik Anlaşması Örgütü', 'Köle Ticareti--Afrika, Kuzey--Tarih', 'Köle Ticareti--Akdeniz Bölgesi--Tarih--Kongreler', 'Köle Ticareti--İtalya--Tarih', 'Kölelik--Akdeniz Bölgesi--Tarih--Kongreler', 'Köprülü Fazıl Ahmed Paşa, 1635-1676', 'Köprülü Mehmed Paşa, 1575? -1661', 'Köyler, Edebiyatta', 'Köylüler, Edebiyatta', \"Köşem, Ahmed'in Eşi, Türk Sultanı, Yaklaşık 1585-1651\", 'Küba--Tarih--1959-1990--Karikatür Kitapları vb.--Roman', 'Küba--Tarih--1990--Karikatür Kitapları vb.--Roman', 'Kültür Merkezleri-- Konya (Türkiye)', 'Kültür Turizmi--Türkiye--Kongreler', 'Kültür Yayılımı--Kongreler', 'Kültür ve Turizm--Türkiye--Kongreler', 'Kültür--Süreli Yayınlar', 'Kültürel Çoğulculuk--Kongreler', 'Küreselleşme--Sosyal Yönler--Kongreler', 'Kürtler--Tarih', 'Kısa Hikayeler, Türkçe--20. Yüzyıl', 'Kısa Öyklüler, Türkçe', 'Kısa Öyküler, Bulgar--Koleksiyonlar', 'Kısa Öyküler, Rus', 'Kısa Öyküler, Türkçe', 'Kısakürek, Necip Fâzıl, 1904-1983', 'Kızılay ve Kızılay Dernekleri--Türkiye', 'Labor Laws and Legislation--Islamic Law', 'Land Reform--Turkey', 'Land Settlement--Turkey', 'Land Tenure--Turkey', 'Land Tenure--Turkey--Law and Legislation', 'Language and Languages', 'Latin America--Politics and Government--1980-', 'Latin Amerika--Siyaset ve Yönetim--1980-', 'Law Reports, Digests, etc.--Turkey--Periodicals', 'Law--Periodicals', 'Law--Turkey', 'Law--Turkey--Periodicals', 'Leadership', 'Learning and Scholarship--Europe--History--18th Century', 'Learning and Scholarship--Europe--History--19th Century', 'Lecture Method in Teaching', 'Legislation--Turkey--Periodicals', 'Letter Writing, Turkish--History', 'Liability (Law)--Turkey', 'Liberalism', 'Liberalizm', 'Liderlik', 'Life', 'Linear Models (Statistics)', 'Listening', 'Livorno (Italy)--Description and Travel--Early Works to 1800', 'Livorno (İtalya)--Tanıtım ve Gezi--1800’den Önceki Çalışmalar', 'Local Government--Turkey', 'Local Taxation--Law and Legislation--Turkey', 'Long Island (N.Y.)--Fiction', 'Long Island (N.Y.)--Roman', 'Love Stories', 'Love--Religious Aspects--Islam', 'Lucas, Paul,1664-1737', 'Macera Filmleri', 'Mali Hukuk--Türkiye', 'Man-Woman Relationships', 'Manastır ve Tarikatlar, Kadınlar İçin--Polonya--Tarih', 'Manners and Customs', 'Marketing', 'Maronites--Biography--Congresses', 'Maronites--Syria--Biography', 'Marriage--Turkey--Evaluation', 'Married Women--Fiction', 'Marseille (France)--Description and Travel--Early Works to 1800', 'Marsilya (Fransa)--Tanıtım ve Gezi--1800’den Önceki Çalışmalar', 'Maruniler--Biyografi--Kongreler', 'Maruniler--Suriye--Biyografi', 'Marx, Karl, 1818-1883. Das Kapital', 'Marx, Karl, 1818-1883. Kapital', 'Masallar--Türkiye', 'Masallar--Türkiye--Tarih ve Eleştiri', 'Masjid Al-Aqsa (Jerusalem)', 'Masnavis, Turkish--History and Criticism', 'Mass Media Policy--Latin America', 'Mass Media--Arab Countries', 'Mass Media--Social Aspects--Latin America', 'Medeni Hukuk--Türkiye--Kongreler', 'Medeniyet, Batı--Edebiyatta', 'Medeniyet, Modern--1950--Felsefe', 'Medeniyet--1800’den Önceki Çalışmalar', 'Medeniyet--Kongreler--Türkiye', 'Medeniyet--Tarih', 'Medical Laws and Legislation--Turkey', 'Medicine, Arab', 'Medicine--History ', 'Mediterranean Region--Commerce--History', 'Mediterranean Region--Commerce--History--Congresses', 'Mediterranean Sea--Navigation--History', 'Meetings, Turkish Culture', 'Mehmed Nazım Paşa, 1840-1926', 'Meksika--Siyaset ve Yönetim--2000-', 'Mektup Yazarlığı, Türkçe--Tarih', 'Meragi, Abdulkadir--Biography', 'Meragi, Abdülkadir--Biyografi', 'Merak', 'Merchants--Europe--History--Congresses', 'Merchants--Mediterranean Region--History--Congresses', 'Merkezi-Yerel Yönetim İlişkileri--Türkiye--19. Yüzyıl', 'Merkezi-Yerel Yönetim İlişkileri--Türkiye--20. Yüzyıl', \"Mescid'ül-Aksa (Kudüs)\", 'Mesnevi, Türk--Eleştiri ve Tarih', 'Metal İşleri--Türkiye', 'Metal-work--Turkey', 'Mevlana Celaladdin-i Rumi, 1207-1273', 'Mevlana Celaladdin-i Rumi, 1207-1273--Şiir', 'Mevlana Celaleddin Rumi, 1207-1273', 'Mevlana Celaleddin-i Rumi, 1207-1273', 'Mevlana Celaleddin-i Rumi, 1207-1273 ', 'Mevlevilik', 'Mevlevilik--Türkiye', 'Mevleviyeh', 'Mevleviyeh--Turkey', 'Mevlâna Celâleddin Rumî, 1207-1273', 'Mevzuat--Türkiye--Süreli Yayınlar', 'Mexico--Politics and Government--2000-', 'Mezar Taşları--Türkiye--İstanbul', 'Mezar Yazıtları--Türkiye--İstanbul--Görsel Çalışmalar', 'Mezarlar--Türkiye--İstanbul--Görsel Çalışmalar', 'Middle Ages', 'Middle East Specialists', 'Middle East--Description and Travel--Early Works to 1800', 'Middle East--Foreign Economic Relations--Great Britain', 'Middle East--Foreign Economic Relations--Netherlands', 'Middle East--Foreign Public Opinion, American', 'Middle East--Foreign Relations--Great Britain', 'Middle East--Foreign Relations--Netherlands', 'Middle East--Relations--Europe', 'Milenyum (Eskatologya)', 'Millennium (Eschatology)', 'Milli Egemenlik--Kongreler', 'Mimarlık, Selçuklu--Türkiye--Konya', 'Mimarlık, İslam--Tarih', 'Mimarlık, İslam--Türkiye', 'Mimarlık--İsviçre--Tarih--20. Yüzyıl--Sergiler', 'Mind and Body', 'Mind and Body Therapies', 'Miniatures--Exhibitions', 'Minorities--Austria', 'Minorities--Great Britain', 'Minyatürler--Sergiler', 'Mitoloji', 'Monasticism and Religious Orders for Women--Poland--History', 'Money--Turkey', 'Moral Education--Periodicals', 'Morality and Propriety of Society', 'Morfogenez', 'Morphogenesis', 'Mosques--Turkey', 'Motion Picture Producers and Directors--Turkey', 'Motion Pictures--History', 'Motion Pictures--Turkey', 'Motor Ability in Children', 'Muhafazakarlık--Türkiye', 'Muhammad Prophet, d. 632', 'Muhammad, 571-632--Hadith', 'Muhammad, Prophet', 'Muhammad, Prophet and Wives', 'Muhammad, Prophet, 570-632--Biography', 'Muhammad, Prophet, 571-632', 'Muhammad, Prophet, 571-632--Biography', 'Muhammad, Prophet, 571-632--Personality', 'Muhammad, Prophet, d. 632', 'Muhammad, Prophet, d. 632--Biography', 'Muhammad--Home Life', 'Muhammed, Hz Peygamber, 570-632--Biyografi', 'Muhammed, Hz Peygamber, ö. 632--Biyografi', 'Muhammed, Hz. Peygamber, 570-632--Biyografi', 'Muhammed, Prophet, 571-632', 'Muhammed, Prophet, 571-632--Companions', 'Multilevel Marketing', 'Municipal Government--Turkey', 'Murder--Kansas', 'Murâd Nakşibendî, 1788-1848--Criticism and Interpretation', 'Murâd Nakşibendî, 1788-1848--Eleştiri ve Yorumlama', 'Museum Exhibits--Congresses', 'Museum Techniques--Congresses', 'Museums--Economic Aspects--Congresses', 'Museums--Political Aspects--Congresses', 'Museums--Social Aspects--Congresses', 'Muslim Converts from Christianity--Biography', 'Muslim Pilgrims and Pilgrimages--Saudi Arabia--Mecca', 'Muslim Scholars--Biography', 'Muslim Women--Turkey--Biography', 'Muslims--Africa, North--History', 'Muslims--Asia', 'Muslims--Biography', 'Muslims--East Asia', 'Muslims--France--History', 'Muslims--Intellectual Life', 'Muslims--Italy--History', 'Muslims--Japan', 'Muslims--Russia (Federation)--Caucasus, Northern--Biography', 'Muslims--Turkey--Konya', 'Mussolini, Benito, 1883-1945', 'Mustafa Paşa, Ibşir, -1655?', 'Mustafa Paşa, Ibşir, -1655?', 'Mutfaklar, Edebiyatta', 'Mutluluk', 'Muğla (Turkey)--History', 'Muğla (Türkiye)--Tarih', 'Münif Paşa, 1830?-1910', 'Muḥammad, Prophet, d. 632--Biography', 'Muḥammad, Prophet, d. 632--Political and Social Views', 'Muḥammad, Prophet, d. 632--Relations--Jews', 'Muḥammad, Prophet, d.632--Biography', 'Mystery Films', 'Mythology', 'Mühendislik---İstatistiksel Yöntemler', 'Münif Paşa, 1830?-1910', 'Müslüman Alimler--Biyografi', 'Müslüman Hacılar ve Hac--Suudi Arabistan--Mekke', 'Müslüman Kadınlar--Türkiye--Biyografi', 'Müslümanlar-- Biyografi', 'Müslümanlar--Afrika, Kuzey--Tarih', 'Müslümanlar--Asya', 'Müslümanlar--Biyografi', 'Müslümanlar--Doğu Asya', 'Müslümanlar--Fransa--Tarih', 'Müslümanlar--Japonya', 'Müslümanlar--Kültürel Yaşam', 'Müslümanlar--Rusya (Federasyon)--Kafkasya, Kuzey--Biyografi', 'Müslümanlar--Türkiye--Konya', 'Müslümanlar--İtalya--Tarih', 'Müze Sergileri--Kongreler', 'Müze Teknikleri--Kongreler', 'Müzeler--Ekonomik Yönler--Kongreler', 'Müzeler--Siyasi Yönler--Kongreler', 'Müzeler--Sosyal Yönler--Kongreler', 'Müşteri İlişkileri', 'Nabi, 1641 or 2-1712. Hayriyye.', 'Naci, Muallim, 1850-1893--Correspondence', 'Naci, Muallim, 1850-1893--Turkish Literature', 'Naci, Muallim, 1850-1893--Türk Edebiyatı', 'Naci, Muallim, 1850-1893--Yazışmalar', 'Namaz', 'Namaz (İslam)', 'Namaz--İslam', 'Namık Kemal, 1840-1888', 'National Characteristics, Turkish', 'National Sovereignty--Congresses', 'Natural selection', 'Navies--Officers', 'Negligence--Turkey', 'Netherlands--Foreign Economic Relations--Middle East', 'Netherlands--Foreign Relations--Great Britain', 'Netherlands--Foreign Relations--Middle East', 'Neuropsychology--Congresses', 'New Age Movement', 'North Atlantic Treaty Organization', 'Not Alma', 'Note-Taking', 'Novara (Italy)--History', 'Novara (İtalya)--Tarih', 'Nöropsikoloji--Kongreler', 'Okuduğunu Anlama', 'Okuma Yöntemi, Öğretimde', 'Olasılıklar', 'Ontology', 'Ontoloji', 'Opioidler', 'Opioids', 'Optimism', 'Optimizasyon', 'Oratory', 'Ordular--Subaylar', 'Organizational Behavior ', 'Organizational Behavior--Case Studies', 'Orhan Kemal, 1914-1970', 'Orta Amerika--Ekonomi Politikası', 'Orta Doğu Uzmanları', 'Orta Doğu--Dış Kamuoyu, Amerikan', 'Orta Doğu--Dış İlişkiler--Büyük Britanya', 'Orta Doğu--Dış İlişkiler--Hollanda', 'Orta Doğu--Ekonomik Dış İlişkiler--Büyük Britanya', 'Orta Doğu--Ekonomik Dış İlişkiler--Hollanda', 'Orta Doğu--Tanıtım ve Gezi--1800’den Önceki Çalışmalar', 'Orta Doğu--İlişkiler--Avrupa', 'Orta Çağ', 'Oscillations', 'Osmanlı İmparatorluğu--Askeri Yapı', 'Osmanlı İmparatorluğu--Coğrafya--Haritalar--16. Yüzyıl', 'Osmanlı İmparatorluğu--Tarih', 'Osmanlı İmparatorluğu--İlişkiler--Avrupa--1500-1800', 'Otoriterlik--Çin', 'Ottoman Empire--Geography--Maps--16th Century', 'Ottoman Empire--History', 'Ottoman Empire--Military Structure', 'Ottoman Poetry', 'Oyunlar', 'Painting, Turkish--21th Century--Exhibitions', 'Painting--Turkey--Exhibitions', 'Painting--Turkey--History', 'Painting--Turkey--Istanbul--Exhibitions', 'Panislamism', 'Panislamizm', 'Para--Türkiye', 'Parent and Children', 'Parent-Child Relations', 'Parenting', 'Paris (France)--Description and Travel--Early Works to 1800', 'Paris (Fransa)--Tanıtım ve Gezi--1800’den Önceki Çalışmalar', 'Pazarlama', 'Peace-Building', 'Peasants in Literature', 'People with Disabilities--Portraits', 'Persian Literature', 'Persian Literature--Poetry', 'Personal Narratives--Turkey', 'Personality', 'Personality Development', 'Peygamber, Hz. Muhammad, ö. 632', 'Peygamber, Hz. Muhammad, ö. 632--Siyasi ve Sosyal Görüşleri', 'Peygamber, Hz. Muhammad, ö. 632--İlişkiler--Yahudiler', 'Phase Noise', 'Philosophical Anthropology', 'Philosophy', 'Philosophy and Religion', 'Philosophy of Mind', 'Philosophy of Nature', 'Philosophy, British--18th Century', 'Philosophy, Islamic--Early Works to 1800', 'Philosophy, Modern', 'Philosophy--Periodicals', 'Photographers--Turkey', 'Photographers--Turkey--Biography', 'Photography, Artistic--Turkey', 'Photography--Exteriors', 'Photography--Turkey--Istanbul', 'Physicians, Women', 'Physicians--Turkey--Biography', 'Physics--Philosophy', 'Piracy--Mediterranean Region--History', 'Piri Reis--Haritalar--Denizcilik', 'Piri Reis--Maps--Maritime', 'Poetry--Social Aspects--Turkey', 'Poets,Turkish--Biography', 'Poland--History--Occupation, 1939-1945', 'Political Anthropology', 'Political Ethics--Congresses', 'Political Ethics--Turkey--Congresses', 'Political Science -- Periodicals', 'Polonya--Tarih--İşgal, 1939-1945', 'Popular Culture--Congresses', 'Popular Culture--Religious Aspects--Islam--Case Studies', 'Popular Culture--Turkey--Case Studies', 'Popular Culture--Turkey--History--20th Century', 'Popüler Kültür--Dini Yönler--İslam--Örnek Çalışmalar', 'Popüler Kültür--Kongreler', 'Popüler Kültür--Türkiye--Tarih--20. Yüzyıl', 'Popüler Kültür--Türkiye--Örnek Çalışmalar', 'Post-Traumatic Stress Disorder in Children', 'Post-Traumatic Stress Disorder--Prevention ', 'Post-Traumatic Stress Disorder--Treatment', 'Postcards--Greece--Thessalonikē', 'Prayer', 'Prayer (Islam)', 'Prayer--Islam', 'Presidents--Turkey', 'Press--United States', 'Prices--Turkey--Istanbul--Statistics', 'Prices--Turkey--Statistics', 'Prisoners of War--Mediterranean Region--History--Congresses', 'Privateering--Mediterranean Region--History', 'Probabilities', 'Psikiyatri--Süreli Yayınlar', 'Psikiyatri--Türkiye--Süreli Yayınlar', 'Psikoanaliz', 'Psikoloji, Din', 'Psikoloji, Patalojik', 'Psikoloji--1800’den Önceki Çalışmalar', 'Psikoloji--Araştırma', 'Psikoloji--Araştırma--Metodoloji', 'Psikoterapist--Roman', 'Psychiatry--Periodicals', 'Psychiatry--Turkey--Periodicals', 'Psychoanalysis', 'Psychology, Pathological', 'Psychology, Religious', 'Psychology--Early Works to 1800', 'Psychology--Research', 'Psychology--Research--Methodology', 'Psychotherapists--Fiction', 'Public Health Laws--Turkey', 'Public Opinion--Turkey--Congresses', 'Public Opinion--United States', 'Publishers and Publishing--Turkey--Biography', 'Purity, Ritual--Islam', 'Qoran and Science--Congresses', 'Qoran--Hermeneutics--Congresses', \"Qur'an\", \"Qur'an--Comprehension Studies\", \"Qur'an--Criticism, Interpretation, etc.\", \"Qur'an--Discussion Methods\", 'Quran', 'Quran--Ethics', 'Quran--Verses', 'Qurʼan Stories', 'Qurʼan--Appreciation', 'Qurʼan--Commentaries', 'Qurʼan--Criticism, İnterpretation etc.', 'Qurʼan--Language, Style', 'Qur’an', 'Qur’an--Dictionaries', 'Qur’an--Verses--Prayers', 'Radicalism', 'Radikalizm', 'Ramadan--Religious Holiday', 'Ramazan--Dini Günler', 'Rapid Prototyping', 'Reading Comprehension', 'Red Cross', 'Red Cross and Red Crescent--Turkey', 'Regression Analysis', 'Regresyon Analizi', 'Religion', 'Religion and Art', 'Religion and Science', 'Religion and Sociology', 'Religion and Sociology--Turkey--Case Studies', 'Religion--Philosophy', 'Religions', 'Religious Aspects--Islam', 'Religious Education', 'Religious Education of Children--Turkey', 'Religious Education--England', 'Religious Education--Old Peoples', 'Religious Education--Turkey', 'Religious Life and Customs--Turkey', 'Religious Life-- Islam', 'Religious Life--Islam', 'Religious Life--Islam--Early Works to 1800', 'Religious Life--Islam--Miscellanea', 'Resim Sanatı, Türk--21. Yüzyıl--Sergiler', 'Resim Sanatı--Türkiye--Sergiler', 'Resim Sanatı--Türkiye--Tarih', 'Resim Sanatı--Türkiye--İstanbul--Sergiler', 'Rich People--Fiction', 'Rocks--Testing--Congresses', 'Roma--Ticaret--Tarih', 'Roman', 'Roman Edebiyatı--Roman', 'Romance Films', 'Romanian Literature--Fiction', 'Romantik Filmler', 'Rome--Commerce--History', 'Ruh--İslam', \"Ruh--İslam--1800'den Önceki Çalışmalar\", 'Rumi, Jalal al-Din, 1207-1273', 'Rus Edebiyatı--Roman', 'Rus Edebiyatı--Öykü', 'Russia (Federation)--Foreign Public Opinion', 'Russia (Federation)--Foreign Relations', 'Russia (Federation)--Foreign Relations--21st Century', 'Russian Literature--Fiction', 'Russian Literature--Story', 'Rusya (Federasyon)--Dış Kamuoyu', 'Rusya (Federasyon)--Dış İlişkiler', 'Rusya (Federasyon)--Dış İlişkiler--21. Yüzyıl', 'Rıza Tevfik, 1869?-1949--Correspondence', 'Rıza Tevfik, 1869?-1949--Yazışma', 'Rūmī, Jalāl Al-Dīn (Mevlana Celaleddin Rumi), 1207-1273--Öğretiler', 'Rūmī, Jalāl Al-Dīn, 1207-1273--Teachings', 'Sabahattin Ali, 1907-1948', 'Saflık, Ritüel--İslam', 'Sahabeler', 'Salınımlar', 'Sanat Eleştiri', 'Sanat, Osmanlı', 'Sanat, Türk', 'Sanat, Türk--Batı Etkileri', 'Sanat--Türkiye', 'Sanat--Türkiye--Sergiler', 'Sanatçılar, Türk--Biyografi', 'Savaş Esirleri--Akdeniz Bölgesi--Tarih--Kongreler', 'Savaş Filmleri', 'Savaş, Terörizm, 2001-2009', 'Savaş--Dini Yönler--İslam', 'Sağdıç, Ozan, 1934-', 'Sağlık Kurumları--Türkiye--Edirne--Tarih', 'Sci-Fi Films', 'Science', 'Science--Islam', 'Science--Islamic Countries--History', 'Science--Philosophy', 'Science--Social Aspects', 'Science--Turkey--History', 'Scientists, Turkish', 'Sea-Power--Economic Aspects--France--History--18th Century', 'Selanik (Yunanistan)--Tarih', 'Self-Actualization (Psychology)', 'Senagal Fiction', 'Senegal Romanı', 'Sepulchral Monuments--Turkey--Istanbul', 'Serbia--History--1804-1918', 'Sergiler--Kataloglar--Türkiye', 'Sex Differences (Psychology)', 'Sexism', 'Sexual Behavior Surveys', 'Shamil, Imam, 1798-1871', 'Shipbuilding Industry--France--History--18th Century', 'Short Stories, Bulgarian--Collections', 'Short Stories, Russian', 'Short Stories, Turkish', 'Short Stories, Turkish--20th Century', 'Silah Endüstrisi--Türkiye--Tarih', 'Simulation Methods', 'Simülasyon Yöntemleri', 'Sinema Film Yapımcıları ve Yönetmenleri--Türkiye', 'Sinema Filmleri--Tarih', 'Sinema Filmleri--Türkiye', 'Sivil Toplum', 'Sivil Toplum--Latin Amerika', 'Sivil Toplum--Çin', 'Siyasi Antropoloji', 'Siyasi Bilimler--Süreli Yayınlar', 'Siyasi Etik (Ahlak)--Kongreler', 'Siyasi Etik (Ahlak)--Türkiye--Kongreler', 'Slave Trade--Africa, North--History', 'Slave Trade--Italy--History', 'Slave Trade--Mediterranean Region--History--Congresses', 'Slavery--Mediterranean Region--History--Congresses', 'Social Change--Turkey', 'Social Change--Turkey--History--Congresses', 'Social History--20th Century', 'Social Life and Customs--Congresses--Turkey', 'Social Life--Turkey--History--19th Century', 'Social Sciences--Dictionaries--Turkish', 'Social Sciences--Periodicals', 'Social Sciences--Philosophy', 'Social Scientists', 'Sociobiology', 'Sociologists--Turkey', 'Sociologists--Turkey--Biography', 'Sociology', 'Sociology, Urban', 'Sociology--History', 'Sociology--Turkey', 'Sociology--Turkey--History', 'Sociology--Women--Germany', 'Solid Freeform Fabrication', 'Songs, Turkish', 'Sorumluluk Hukuku--Türkiye', 'Sosyal Bilimciler', 'Sosyal Bilimler--Felsefe', 'Sosyal Bilimler--Sözlükler--Türkçe', 'Sosyal Bilimler--Süreli Yayınlar', 'Sosyal Değişim--Türkiye', 'Sosyal Değişim--Türkiye--Tarih--Kongreler', 'Sosyal Tarih--20. Yüzyıl', 'Sosyal Yaşam ve Gelenekler--Kongreler--Türkiye', 'Sosyal Yaşam--Türkiye--Tarih--19 Yüzyıl', 'Sosyobiyoloji', 'Sosyologlar--Türkiye', 'Sosyologlar--Türkiye--Biyografi', 'Sosyoloji', 'Sosyoloji, Kentsel', 'Sosyoloji--Kadınlar--Almanya', 'Sosyoloji--Tarih', 'Sosyoloji--Türkiye', 'Sosyoloji--Türkiye--Tarih', 'Soul--Islam', 'Soul--Islam--Early Works to 1800', 'Soykırım, Yahudi (1939-1945)--Polonya--Krakov--Kişisel Anlatımlar', 'Soysal, Sevgi, 1936-1976--Criticism and Interpretation', 'Soysal, Sevgi, 1936-1976--Eleştiri ve Yorumlama', 'Spor--Türkiye', 'Spor--Türkiye--Tarih', 'Sports--Turkey', 'Sports--Turkey--History', 'Stamp Duties--Turkey', 'Statesmen, Turkish--Biography', 'Statesmen--Turkey--Biography', 'Statistics', 'Stochastic Analysis', 'Stokastik Analiz', 'Stres Yönetimi', 'Stress Management', 'Students--Turkey--Marriage--Evaluation', 'Study Skills', 'Study and Teaching', 'Success', 'Sufi (Tasavvuf) Edebiyatı--Tarih ve Eleştiri', 'Sufi (Tasavvuf) Müziği--Tarih ve Eleştiri', 'Sufi (Tasavvuf) Şiiri, Farsça', 'Sufi Literature--History and Crtcism', 'Sufi Music--History and Criticism', 'Sufi Poetry', 'Sufi Poetry, Persian', 'Sufi Poetry, Turkish', 'Sufi Training', 'Sufiler--Cezayir--Biyografi', 'Sufis--Algeria--Biography', 'Sufism', 'Sufism--Congress', 'Sufism--Early Works to 1800', 'Sufism--Egypt--History- Congresses', 'Sufism--Islam--Biography', 'Sufism--Turkey', 'Sufism--Turkey--History', 'Sufism--Turkey--Konya', 'Sufizm (Tasavvuf)', 'Sufizm (Tasavvuf)-- Türkiye-- Tarih', 'Sufizm (Tasavvuf)--1800’den Önceki Çalışmalar', 'Sufizm (Tasavvuf)--Mısır--Tarih--Kongreler', 'Sufizm (Tasavvuf)--Sempozyum', 'Sufizm (Tasavvuf)--Türkiye', 'Sufizm (Tasavvuf)--Türkiye--Konya', 'Sufizm (Tasavvuf)--İslâm--Biyografi', 'Suhrawardī, Yaḥyá İbn Ḥabash, 1152 or 1153-1191', 'Suicide in Literature', 'Suicide--Turkey--Zonguldak', 'Suicide--Turkey--Zonguldak--Psychological Aspects', 'Suicide--Turkey--Zonguldak--Social Aspects', 'Surgery--Histroy', 'Suriyeliler--Biyografi', 'Suç Filmleri', 'Swedish Literature--Fiction', 'Syrians--Biography', 'Sırbistan--Tarih--1804-1918', 'TRT (Kurum : Türkiye)--Bibliyografya', 'TRT (Organization : Turkey)--Bibliography', 'Tafsir', 'Tales--Turkey', 'Tales--Turkey--History and Criticism', 'Tarabzon (Türkiye)--Tarih', 'Tariff--Germany--History--19th Century', 'Tarih, Eski', 'Tarih, Modern', 'Tarih, Modern--19. Yüzyıl', 'Tarih--Felsefe', 'Tarih--Felsefe--1800’den Önceki Çalışmalar', 'Tarih--Felsfe--1800’den Önceki Çalışmalar', 'Tarih--Metodoloji', 'Tarih--Türkiye--İstanbul', 'Tarihi Roman', 'Tarihi Roman, Türk', 'Tarım İşçileri--Büyük Britanya--Tarih--19. Yüzyıl', 'Tarım--Türkiye--İstatistikler', 'Tasavvuf Eğitimi', 'Tasavvuf Şiiri', 'Tasavvuf Şiiri, Türk', 'Tasavvuf Şiiri, İran', 'Tax Evasion--Turkey', 'Tax Jurisdiction--Turkey', 'Tax Law--Turkey', 'Tax Penalties--Turkey', 'Tax Protests and Appeals--Turkey', 'Taşlar--Test--Kongreler', 'Teaching', 'Teaching--Methodology', 'Technology--History--Congresses', 'Tefsir', 'Teknik ', 'Teknoloji--Tarih--Kongreler', 'Television Broadcasting--Turkey', 'Television and Children', 'Televizyon Yayıncılığı--Türkiye', 'Terapist ve Hasta--Roman', 'Terrorism--Religious Aspects--Islam', 'Terörizm--Dini Yönler--İslam', 'Therapist  and Patient--Fiction', 'Thessalonikē (Greece)--History', 'Thriller Films', 'Ticaret--Terminoloji--Tarih--Kongreler', 'Ticari İstatistik', 'Tombs--Turkey--Istanbul--Pictorial Works', 'Toplantılar, Türk Kültürü', 'Toplum Ahlâk ve Adâbı', 'Toprak Reformu--Türkiye', 'Toprak Rejimi--Türkiye', 'Toprak Rejimi--Türkiye--Yasa ve Mevzuat', 'Toprak İskanı--Türkiye', 'Trabzon (Turkey)--History', 'Trabzon (Turkey)--History--20th Century', 'Trabzon (Türkiye)--Tarih--20. Yüzyıl', 'Traffic Accidents--Fiction', 'Trafik Kazaları--Roman', 'Travma Sonrası Stres Bozuklukları, Çocuklarda', 'Travma Sonrası Stres Bozuklukları--Tedavi', 'Travma Sonrası Stres Bozuklukları--Önleme', 'Turcologists--Turkey--Biography', 'Turhan, Consort of İbrahim, Sultan of The Turks, -1682 or 1683', 'Turhan, İbrahim’in Eşi, Türk Sultanı, -1682 veya 1683', 'Turkey', 'Turkey--Census, 1897', 'Turkey--Census--History', 'Turkey--Civilization', 'Turkey--Civilization--1288-1918', 'Turkey--Civilization--Western Influences', 'Turkey--Commerce--History--19th Century--Statistics', 'Turkey--Description and Travel', 'Turkey--Description and Travel--Congresses', 'Turkey--Economic Conditions', 'Turkey--Economic Conditions--Congresses', 'Turkey--Economic Policy', 'Turkey--Ethnic Relations--Congresses', 'Turkey--Foreign Economic Relations--Statistics', 'Turkey--Foreign Relations', 'Turkey--Foreign Relations--Greece', 'Turkey--Foreign Relations--Periodicals', 'Turkey--History, Military', 'Turkey--History--1299-1918', 'Turkey--History--1683-1829', 'Turkey--History--1878-1909', 'Turkey--History--19th Century', 'Turkey--History--19th Century--Fiction', 'Turkey--History--20th Century', 'Turkey--History--Ahmed I, 1603-1617', 'Turkey--History--İbrahim, 1640-1648', 'Turkey--History--Mustafa III, 1757-1773', 'Turkey--History--Ottoman Empire, 1288-1918', 'Turkey--History--Ottoman Empire, 1288-1918--Congresses', 'Turkey--History--Periodicals', 'Turkey--Intellectual Life ', 'Turkey--Istanbul', 'Turkey--Periodicals', 'Turkey--Politics and Government--1960-1980', 'Turkey--Politics and Government--1980-', 'Turkey--Politics and Government--1980---Periodicals', 'Turkey--Politics and Government--Congresses', 'Turkey--Politics and Government--History', 'Turkey--Politics and Government--Periodicals', 'Turkey--Population--Statistics--History', 'Turkey--Relations--Armenians', 'Turkey--Relations--Europe', 'Turkey--Relations--France', 'Turkey--Religious Structures--Albums', 'Turkey--Social Conditions', 'Turkey--Social Conditions--Congresses', 'Turkey--Social Conditions--Periodicals', 'Turkey--Social Life and Customs', 'Turkey--Social Life and Customs--History', 'Turkey--Social Life and Customs--Pictorial Works', 'Turkey. Ordu--History', 'Turkic Peoples--Former Soviet Republics--History--Congresses', 'Turkic Peoples--History', 'Turkic Peoples--Periodicals', 'Turkis Literature-Poetry--Biography', 'Turkish Drama--20th Century', 'Turkish Essays--21st Century', 'Turkish Fiction--19th Century--History and Criticism', 'Turkish Fiction--20th Century--History and Criticism', 'Turkish Fiction--20th Century--History and Criticism--Family in Literature', 'Turkish Fiction--History and Criticism--Family in Literature--Family Life Surveys', 'Turkish Language-- to 1500', 'Turkish Language--Dictionaries', 'Turkish Language--Errors of Usage', 'Turkish Language--History', 'Turkish Language--Numerals', 'Turkish Language--Rhetoric', 'Turkish Language--Rhetoric--History', 'Turkish Litarature--Fiction', 'Turkish Litarature--History and Criticism', 'Turkish Litarature--Poetry--Biography', 'Turkish Litarature--Stories', 'Turkish Literature', 'Turkish Literature-- Divan Literature', 'Turkish Literature--19th Century', 'Turkish Literature--20th Century', 'Turkish Literature--20th Century--Correspondence', 'Turkish Literature--20th Century--Travels Writing', 'Turkish Literature--Divan Poetry', 'Turkish Literature--Drama', 'Turkish Literature--Essays', 'Turkish Literature--Fiction', 'Turkish Literature--Fiction--20th Century', 'Turkish Literature--Greece--Thessalonikē--History and Criticism', 'Turkish Literature--History and Criticism', 'Turkish Literature--History and Criticism--Biography', 'Turkish Literature--History and Criticism--Theory, etc.', 'Turkish Literature--Juvenile Stories', 'Turkish Literature--Masnavis', 'Turkish Literature--Miscellanea', 'Turkish Literature--Poetry', 'Turkish Literature--Research', 'Turkish Literature--Short Stories', 'Turkish Literature--Story', 'Turkish Literature-Periodicals', 'Turkish Periodicals--Greece--Thessalonikē', 'Turkish Periodicals--Greece--Thessalonikē--History and Criticism', 'Turkish Poetry', 'Turkish Poetry--19th Century', 'Turks--Civil Rights--Greece--Thrace, Western', 'Turks--Germany--Berlin--Biography', 'Turks--Germany--Berlin--History', 'Turks--Germany--Berlin--Social Conditions', 'Turks--Greece--Thrace, Western--History', 'Turks--History', 'Turks--Periodicals', 'Turks--Social Life and Customs--History', 'Turkısh Literature--Fiction', 'Tüccarlar--Akdeniz Bölgesi--Tarih--Kongreler', 'Tüccarlar--Avrupa--Tarih--Kongreler', 'Tüketicinin Korunması--Yasa ve Mevzuat--Türkiye', 'Tüketim Kültürü--İslam', 'Türk  Edebiyatı--Denemeler', 'Türk  Edebiyatı--Roman', 'Türk  Edebiyatı--Yunanistan--Selanik--Tarih ve Eleştiri', 'Türk Dili--1500’e Kadar', 'Türk Dili--Hatalar, Kullanımda', 'Türk Dili--Rakamlar', 'Türk Dili--Retorik', 'Türk Dili--Retorik--Tarih', 'Türk Dili--Sözlükler', 'Türk Dili--Tarih', 'Türk Edebiyatı', 'Türk Edebiyatı-- Divan Edebiyatı', 'Türk Edebiyatı-- Mesneviler ', 'Türk Edebiyatı--19. Yüzyıl', 'Türk Edebiyatı--20. Yüzyıl', 'Türk Edebiyatı--20. Yüzyıl--Gezi Yazıları', 'Türk Edebiyatı--20. Yüzyıl--Yazışma', 'Türk Edebiyatı--Araştırma', 'Türk Edebiyatı--Denemeler', 'Türk Edebiyatı--Divan Şiiri', 'Türk Edebiyatı--Kısa Hikayeler', 'Türk Edebiyatı--Roman', 'Türk Edebiyatı--Roman--20. Yüzyıl', 'Türk Edebiyatı--Süreli Yayınlar', 'Türk Edebiyatı--Tarih ve Eleştiri', 'Türk Edebiyatı--Tarih ve Eleştiri--Biyografi', 'Türk Edebiyatı--Tarih ve Eleştiri--Teori, vb.', 'Türk Edebiyatı--Tiyatro', 'Türk Edebiyatı--Çocuk Öyküleri', 'Türk Edebiyatı--Öykü', 'Türk Edebiyatı--Şiir', 'Türk Edebiyatı--Şiir--Biyografi', 'Türk Edebıyatı--Roman', 'Türk Edebıyatı--Çeşitli', 'Türk Edebıyatı--Öyküler', 'Türk Edebıyatı--Şiir', 'Türk Edebıyatı--Şiir--Biyografi', 'Türk Halkları--Süreli Yayınlar', 'Türk Romanı--19. Yüzyıl--Tarih ve Eleştiri', 'Türk Romanı--20. Yüzyıl--Tarih ve Eleştiri', 'Türk Romanı--20. Yüzyıl--Tarih ve Eleştiri--Aile, Edebiyatta', 'Türk Romanı--Tarih ve Eleştiri--Aile, Edebiyatta--Aile Yaşamı Araştırmaları', 'Türk Tiyatrosu--20. Yüzyıl', 'Türk Şiiri', 'Türk Şiiri--19. Yüzyıl', 'Türki Halklar--Eski Sovyet Cumhuriyetleri--Tarih--Kongreler', 'Türki Halklar--Tarih', 'Türkiye--Dini Yapılar--Albümler', 'Türkiye--Dış Ekonomik Ticaret--İstatistikler', 'Türkiye--Dış İlişkiler', 'Türkiye--Dış İlişkiler--Yunanistan', 'Türkiye--Ekonomi Politikası', 'Türkiye--Ekonomik Koşullar', 'Türkiye--Ekonomik Koşullar--Kongreler', 'Türkiye--Etnik İlişkiler--Kongreler', 'Türkiye--Kültürel Yaşam', 'Türkiye--Medeniyet', 'Türkiye--Medeniyet--1288-1918', 'Türkiye--Medeniyet--Batı Etkileri', 'Türkiye--Nüfus Sayım, 1897', 'Türkiye--Nüfus Sayım--Tarih', 'Türkiye--Nüfus--İstatistikler--Tarih', 'Türkiye--Siyaset ve Yönetim--1980-', 'Türkiye--Siyaset ve Yönetim--1980---Süreli Yayınlar', 'Türkiye--Siyaset ve Yönetim--Kongreler', 'Türkiye--Siyaset ve Yönetim--Süreli Yayınlar', 'Türkiye--Siyaset ve Yönetim--Tarih', 'Türkiye--Sosyal Koşullar', 'Türkiye--Sosyal Koşullar--Kongereler', 'Türkiye--Sosyal Koşullar--Süreli Yayınlar', 'Türkiye--Sosyal Yaşam ve Gelenekler', 'Türkiye--Sosyal Yaşam ve Gelenekler--Görsel Çalışmalar', 'Türkiye--Sosyal Yaşam ve Gelenekler--Tarih', 'Türkiye--Süreli Yayınlar', 'Türkiye--Tanıtım ve Gezi', 'Türkiye--Tanıtım ve Gezi--Kongreler', 'Türkiye--Tarih, Askeri', 'Türkiye--Tarih--1299-1918', 'Türkiye--Tarih--1683-1829', 'Türkiye--Tarih--1878-1909', 'Türkiye--Tarih--19 Yüzyıl--Roman', 'Türkiye--Tarih--19. Yüzyıl', 'Türkiye--Tarih--20. Yüzyıl', 'Türkiye--Tarih--Ahmed I, 1603-1617', 'Türkiye--Tarih--III. Mustafa, 1757-1773', 'Türkiye--Tarih--Osmanlı İmparatorluğu, 1288-1918', 'Türkiye--Tarih--Osmanlı İmparatorluğu, 1288-1918--Kongreler', 'Türkiye--Tarih--Osmanı İmparatorluğu, 1288-1918', 'Türkiye--Tarih--Süreli Yayınlar', 'Türkiye--Tarih--İbrahim, 1640-1648', 'Türkiye--Ticaret--Tarih--19. Yüzyıl--İstatistikler', 'Türkiye--Uluslararası İlişkiler--Süreli Yayınlar', 'Türkiye--İlişkiler--Avrupa', 'Türkiye--İlişkiler--Ermeniler', 'Türkiye--İlişkiler--Fransa', 'Türkiye--İstanbul', 'Türkiye-Siyaset ve Yönetim--1960-1980', 'Türkiye. Ordu--Tarih', 'Türkler--Almanya--Berlin--Biyografi', 'Türkler--Almanya--Berlin--Sosyal Yaşam', 'Türkler--Almanya--Berlin--Tarih', 'Türkler--Medeni Haklar--Yunanistan--Trakya, Batı', 'Türkler--Sosyal Yaşam ve Gelenekler--Tarih', 'Türkler--Süreli Yayınlar', 'Türkler--Tarih', 'Türkler--Yunanistan--Trakya, Batı--Tarih', 'Türkologlar--Türkiye--Biyografi', 'Türkçe Denemeler--21. Yüzyıl', 'Türkçe Süreli Yayınlar--Yunanistan--Selanik', 'Türkçe Süreli Yayınlar--Yunanistan--Selanik--Tarih ve Eleştiri', 'Tıp Yasaları ve Mevzuat--Türkiye', 'Tıp, Arap', 'Tıp--Tarih', 'Ulama--Biography', 'Ulema--Biyografi', 'Ulusal Özellikler, Türk', 'Uluslararası Hukuk--Ahlaki ve Etik Yönler--Kongreler', 'Uluslararası İlişkiler', 'Uluslararası İlişkiler--Ahlaki ve Etik Yönler--Kongreler', 'Uluslararası İlişkiler--Tarih', 'United States--History--1919-1933--Fiction', 'Urban Policy', 'Urbanization', 'Uygarlık, Batı', 'Vakıflar--Tarih--Bosna Hersek', 'Vakıflar--Türkiye--Konya', 'Vakıflar--Türkiye--Tarih', 'Values--Study and Teaching--Periodicals', 'Varlık (Felsefe)', 'Varyans Analizi', 'Vatandaşlık--Latin Amerika', 'Vergi Cezaları--Türkiye', 'Vergi Hukuku--Türkiye', 'Vergi Kaçırma--Türkiye', 'Vergi Protestoları ve İtirazları--Türkiye', 'Vergi Yargısı--Türkiye', 'Villages in Literature', 'Vocabulary', 'Voltaire, François, 1694-1778--Collected Works', 'Voltaire, François, 1694-1778--Toplu Çalışmalar', 'Vücut Sıvıları--Analiz', 'War Films', 'War On Terrorism, 2001-2009', 'War--Religious Aspects--Islam', 'Weapons Industry--Turkey--History', 'Women Physicians--Turkey--Biography', 'Women Rights', 'Women Rights--Turkey', 'Women in Islam', 'Women in The Hadith', \"Women's Organizations--Turkey\", 'Women--Byzantine Empire--History--Middle Ages, 500-1500', 'Women--Education--Turkey--History', 'Women--Legal Status, Laws, etc.--Turkey', 'Women--Political Activity--Turkey', 'Women--Social Policy', 'Women--Turkey', 'Women--Turkey--Biography', 'World Citizenship', 'World History', 'World Politics--21st Century--Periodicals', 'World War, 1914-1918--Campaigns--Turkey', 'World War, 1914-1918--Campaigns--Turkey--Gallipoli Peninsula', 'World War, 1914-1918--Turkey--Gallipoli Peninsula--Literature and The War', 'World War, 1914-1918--Turkey--Gallipoli Peninsula--Personal Narratives', 'World War, 1939-1945--Italy', 'World War, 1939-1945--Jews--Rescue--Poland', 'World War, 1939-1945--Participation, Female', 'World War, 1939-1945--Personal Narratives, Russian', 'World War, 1939-1945--Religious Aspects--Catholic Church', 'World War, 1939-1945--Women--Soviet Union', 'Worry', 'Worship (Islam)', 'Writing and Art', 'Yahudi Çocuklar--Polonya', 'Yahudiler--Arap Yarımadası--Tarih', 'Yahudiler--Sosyal Yaşam ve Gelenekler ', 'Yahudiler--Zulümler--Polonya--Krakov', 'Yahudilik--İlişkiler--İslam', 'Yalman, Osman Tevfik, d. 1948', 'Yalman, Osman Tevfik, ö. 1948', 'Yalova (Turkey)--Labor Market', 'Yalova (Türkiye)--İş Piyasası', 'Yapay Zeka', 'Yaratıcı Düşünce--Kongreler', 'Yayıncılar ve Yayıncılık--Türkiye--Biyografi', 'Yazarlar, Türk--20. Yüzyıl--Biyografi', 'Yazarlar, Türk--Biyografi', 'Yazarlar--Biyografi--Tarih ve Eleştiri', 'Yazarlık', 'Yazım ve Sanat', 'Yaşam', 'Yeme Alışkanlıkları, Edebiyatta', 'Yemek Yapma, Edebiyatta', 'Yeni Çağ Akımı', 'Yeniliklerin Yayılması--Tarih--Kongreler', 'Yerel Vergi--Yasa ve Mevzuat--Türkiye', 'Yerel Yönetim--Türkiye', 'Yerliler', 'Young Men--Fiction', 'Young Women--Fiction', 'Youth--History, Modern', 'Youth--Social Aspects', 'Youth--Social Conditions', 'Youth--Turkey', 'Youth--Turkey--Religion', 'Yunan-Türk Savaşı, 1897--Kaynaklar', 'Yunanistan--Dış İlişkiler--Türkiye', 'Yurttaşlık', 'Yüksekokul Öğretmenleri--Türkiye--Biyografi', 'Yürütme Yetkisi--Türkiye', 'Zengin İnsanlar--Roman', 'Zenginler--Roman', 'Zihin Felsefesi', 'Zihin ve Beden', 'Zihin ve Beden Terapileri', 'Ziya Paşa, 1825-1880', 'Çalışma Metotları', 'Çarşılar (Pazarlar)--Türkiye--Görsel Çalışmalar', 'Çevre Koruma--Türkiye', 'Çin--Tanıtım ve Gezi', 'Çin--Tarih', 'Çizgi Romanlar', 'Çocuk Eğitimi', 'Çocuk Gelişimi', 'Çocuk Yetiştirme', 'Çocuk ve Televizyon', 'Çocuklar--Seyahat--Kaliforniya, Güney--Rehberler', 'Çocuklarda Disiplin', 'Çok Katlı Pazarlama', 'Çorum (Turkey)--Religion--Case Studies', 'Çorum (Türkiye)--Din--Örnek Çalışmalar', 'Ökten, Ayşe Hümeyra', 'Ökten, Ayşe Hümeyra, 1925-', 'Örgütsel Davranış', 'Örgütsel Davranış--Örnek Çalışmalar', 'Öteki Yaşam--İslam', 'Öz Yapabilirlik (Psikoloji)', 'Özel Gemilerin Kullanılması--Akdeniz Bölgesi--Tarih', 'Özel, İsmet, 1944-', 'Özgerçekleştirm (Psikoloji)', 'Öğrenciler--Türkiye--Evlilik--Değerlendirme', 'Öğrenim ve Burslar--Avrupa--Tarih--18. Yüzyıl', 'Öğrenim ve Burslar--Avrupa--Tarih--19. Yüzyıl', 'Öğretim--Metodoloji', 'Öğütler', 'Üniversite Öğrencileri--Türkiye--Evlilik--Değerlendirme', 'Üzüntü', 'İbadet (İslam)', 'İbn Sina, 980-1037', 'İdari Hukuk--Türkiye', 'İdari Yargılama Hukuku--Türkiye', 'İhmal--Türkiye', 'İkbal, Muhammed Efendi, 1877-1938--Biyografi', 'İkbal, Muhammed Efendi, 1877-1938--Eleştiri ve Yorumlama', 'İktisat', 'İktisat--Türkiye--Raporlar', 'İletişim', 'İletişim ve Kültür', 'İlk Aşklar--Roman', 'İmam Şamil, 1798-1871', 'İmamlar (Cami Görevlileri)--Türkiye', 'İman (İslam)', 'İncil--Çeviri', 'İncil. Yeni Ahit', 'İngiliz Dili--Ders Kitapları, Yabancılar İçin', 'İngiliz Edebiyatı--Tarih ve Eleştiri', 'İnsan Hakları--Türkiye', 'İnsanlar, Engelli--Portreler', 'İnternet Pazarlamacılığı', 'İntihar, Edebiyatta', 'İntihar--Türkiye--Zonguldak', 'İntihar--Türkiye--Zonguldak--Psikolojik Yönler', 'İntihar--Türkiye--Zonguldak--Sosyal Yönler', 'İran Edebiyatı--13. Yüzyıl', 'İslam', 'İslam (Eğitim)', 'İslam Ahlakı', 'İslam Ahlakı--Çalışma ve Öğretim (Temel)--Türkiye', 'İslam Ahlâk ve Adâbı', 'İslam Ahlâkı', 'İslam Alimleri, Türk--Biyografi', 'İslam Dini Eğitimi, Çocukların', 'İslam Dini Eğitimi--Türkiye', 'İslam Dini-- İman', 'İslam Etiği (Ahlakı)', 'İslam Felsefesi', \"İslam Felsefesi--1800'den Önceki Çalışmalar\", 'İslam Hukuku', 'İslam Hukuku--Türkiye', 'İslam Sosyolojisi', 'İslam Sosyolojisi--Türkiye--Örnek Çalışmalar', 'İslam ve Bilim--Tarih', 'İslam ve Devlet', 'İslam ve Devlet--Türkiye', 'İslam ve Dünya Siyaseti', 'İslam ve Siyaset--Kongreler', 'İslam ve Siyaset--Türkiye', 'İslam Ülkeleri--Ekonomik Koşullar--Kongreler', 'İslam Ülkeleri--Sosyal Koşullar--Kongereler', 'İslam İmparatorluğu--Tarih,  622-661', 'İslam İmparatorluğu--İlişkiler--Avrupa', 'İslam, Akaid', 'İslam, Edebiyatta', 'İslam--20 Yüzyıl--Kongreler', 'İslam--20. Yüzyıl', 'İslam--20. Yüzyıl--Kongreler', 'İslam--21. Yüzyıl', 'İslam--Bilim', 'İslam--Camiler', 'İslam--Cenaze', 'İslam--Doktrinler', 'İslam--Dua Kitapları', 'İslam--Dualar ve İbadetler', 'İslam--Ecel', 'İslam--Ekonomi', 'İslam--Evrensellik', 'İslam--Eğitim ve Öğretim', 'İslam--Eğitim ve Öğretim--Türkiye', 'İslam--Fransa--Tarih', 'İslam--Gelenekler ve Uygulamalar', 'İslam--Gençler--Öneriler', 'İslam--Hadis', 'İslam--Holy Birth Week', 'İslam--Kamuoyu--Kongreler', 'İslam--Kongreler', 'İslam--Kur’an Öğretileri', 'İslam--Kutsal Mekan', 'İslam--Mısır--Tarih--Kongreler', 'İslam--Namaz', 'İslam--Oruç', 'İslam--Psikoloji', 'İslam--Sosyal Yönler--Türkiye--Örnek Çalışmalar', 'İslam--Sufizm (Tasavvuf)--Mevlevilik', 'İslam--Sözlükler--Türkçe', 'İslam--Süreli Yayınlar', 'İslam--Tarih', 'İslam--Tarihyazımı', 'İslam--Teozofi--Kutsal Kitaplar--Hadis Edebiyatı', 'İslam--Türkiye', 'İslam--Türkiye--21. Yüzyıl', 'İslam--Türkiye--Süreli Yayınlar', 'İslam--Türkiye--Tarih', 'İslam--Türkiye--Tarih--20. Yüzyıl', 'İslam--Çalışma ve Öğretim', 'İslam--Çalışma ve Öğretim (Temel)--Türkiye', 'İslam--Çocuklar', 'İslam--Öğretiler', 'İslam--Öğretiler--Tarih', 'İslam--İbadet--Namaz', 'İslam--İlişkiler--Hristiyanlık', 'İslam--İlişkiler--Hz. İsa', 'İslam--İlişkiler--Hıristiyanlık', 'İslam--İlişkiler--Yahudilik', 'İslami Eğitim--Okul Öncesi', 'İslami Eğitim--Türkiye', 'İslami Hareketler', 'İslamic Religious--Faith', 'İslamofobi--Avrupa', 'İslâm--Günlük Hayat--Sorular', 'İsrail--Dış Kamuoyu, Amerikan', 'İsrail--Tanıtım ve Gezi', 'İstanbul (Türkiye)--Kültür Başkenti, 2010', 'İstanbul (Türkiye)--Raporlar', 'İstanbul (Türkiye)--Rehberler', 'İstanbul (Türkiye)--Tanıtım ve Gezi', 'İstanbul (Türkiye)--Tarih', 'İstanbul--Ayasofya--Tanıtım ve Gezi', 'İstanbul--Sosyal Yaşam ve Gelenekler', 'İstatistik', 'İsveç Edebiyatı--Roman', 'İsyan', 'İsyan--Sırbistan--Tarih--19. Yüzyıl', 'İtalya--Siyaset ve Yönetim--1922-1945', 'İtalya--İlişkiler--Afrika, Kuzey--Kongreler', 'İç İlişkiler--Türkiye', 'İçtihatlar--Türkiye--Süreli Yayınlar', 'İş Hukuku ve Mevzuat--İslam Hukuku', 'İşletme Matematiği--Problemler, Alıştırmalar vb.', 'Şairler, Türk--Biyografi', 'Şarkılar, Türkçe', 'Şehir Planlaması', 'Şehir Planlaması ve Kalkınma Hukuku--Türkiye', 'Şehir Planlaması--Türkiye--Konya', 'Şeyh Galip, 1757 or 8-1799', 'Şeyh Galip, 1757 veya 8-1799', 'Şiir--Sosyal Yönler--Türkiye', 'Şili--Siyaset ve Yönetim--1988-', 'Şirketler, Yabancı--Vergilendirme--Hukuk ve Mevzuat--Türkiye']\n"
     ]
    }
   ],
   "source": [
    "topics = project.topics_get(df, 'Konu Başlıkları', '\\n')\n",
    "print(topics)"
   ]
  },
  {
   "cell_type": "code",
   "execution_count": 17,
   "metadata": {},
   "outputs": [],
   "source": [
    "#df2 = df.groupBy('Dil').count()\n",
    "#df2.select(sum(df2['count'])).show()\n",
    "#df.select(sum(df['Ödünç Sayısı'])).show()\n",
    "#df.filter(df['Ödünç Sayısı'].isNull()).count()\n",
    "#df.groupBy(df['Sınıflama']).count().show()\n",
    "#df_s = df.groupBy(df['Sınıflama']).count()\n",
    "#print(df_s.filter(df_s['count'] > 1).count())\n",
    "#print(df_s.filter(df_s['count'] < 1).count())\n",
    "#print(df_s.filter(df_s['count'] == 1).count())"
   ]
  },
  {
   "cell_type": "code",
   "execution_count": 18,
   "metadata": {},
   "outputs": [],
   "source": [
    "#df_s.filter(df_s['Sınıflama'].like('%D%')).show()\n",
    "#df_s.filter(split(df_s['Sınıflama'], \" \")[0].like(\"%D%\")).show()\n",
    "#df_s.groupBy(split(df_s['Sınıflama'], \" \")[0]).count().show()\n",
    "#df_s.groupBy(split(df_s['Sınıflama'], \" \")[0].alias(\"group\")).count().orderBy(\"group\").collect()"
   ]
  },
  {
   "cell_type": "code",
   "execution_count": 19,
   "metadata": {},
   "outputs": [],
   "source": [
    "#df.groupBy(df['Sınıflama']).agg(collect_list('Konu Başlıkları').alias('gruplanmış konu başlıkları')).show()\n",
    "#df.groupBy(df['Sınıflama']).agg(collect_list('Konu Başlıkları'), collect_list('Yazar')).show()\n",
    "#df.filter(df['Ödünç Sayısı'] != 0.0).select(\"Eser Adı\").collect()"
   ]
  },
  {
   "cell_type": "code",
   "execution_count": 20,
   "metadata": {},
   "outputs": [],
   "source": [
    "#df3 = df.groupBy(split(split(df['Sınıflama'], \" \")[0], \"\")[0].alias(\"group\")).count().orderBy(\"group\")\n",
    "#group_count = df3.count()\n",
    "#groups = np.empty(group_count, dtype=\"S30\")\n",
    "#counts = np.empty(group_count)\n",
    "#for (index,row) in enumerate(df3.collect()):\n",
    "#    groups[index] = row['group']\n",
    "#    counts[index] = row['count']\n",
    "#sns.barplot(x=groups, y=counts)\n",
    "#plt.xticks(rotation='vertical')\n",
    "#sns.despine()"
   ]
  },
  {
   "cell_type": "code",
   "execution_count": 21,
   "metadata": {},
   "outputs": [],
   "source": [
    "#df4 = df.groupBy(df['Dil']).count().orderBy('Dil')\n",
    "#lang_count = df4.count()\n",
    "#langs = np.empty(lang_count, dtype=\"S30\")\n",
    "#counts = np.empty(lang_count)\n",
    "#for (index,row) in enumerate(df4.collect()):\n",
    "#    langs[index] = row['Dil']\n",
    "#    counts[index] = row['count']\n",
    "#sns.barplot(x=langs, y=counts)\n",
    "#plt.xticks(rotation='vertical')\n",
    "#sns.despine()"
   ]
  },
  {
   "cell_type": "code",
   "execution_count": 22,
   "metadata": {},
   "outputs": [
    {
     "name": "stdout",
     "output_type": "stream",
     "text": [
      "+----+----+---------+\n",
      "|user|item|fav_items|\n",
      "+----+----+---------+\n",
      "|  u1|   1|[1, 2, 3]|\n",
      "|  u1|   4|[1, 2, 3]|\n",
      "+----+----+---------+\n",
      "\n",
      "+----+----+---------+------+\n",
      "|user|item|fav_items|result|\n",
      "+----+----+---------+------+\n",
      "|  u1|   1|[1, 2, 3]|     1|\n",
      "|  u1|   4|[1, 2, 3]|     0|\n",
      "+----+----+---------+------+\n",
      "\n"
     ]
    }
   ],
   "source": [
    "# Imports\n",
    "from pyspark.sql.types import IntegerType\n",
    "from pyspark.sql.functions import udf\n",
    "# First we create a RDD in order to create a dataFrame:\n",
    "rdd = sc.parallelize([('u1', 1, [1 ,2, 3]), ('u1', 4, [1, 2, 3])])\n",
    "df2 = rdd.toDF(['user', 'item', 'fav_items'])\n",
    "# Print dataFrame\n",
    "df2.show()\n",
    "\n",
    "# We make an user define function that receives two columns and do operation\n",
    "function = udf(lambda item, items: 1 if item in items else 0, IntegerType())\n",
    "\n",
    "df2.select('user', 'item', 'fav_items', function(col('item'), col('fav_items')).alias('result')).show()"
   ]
  },
  {
   "cell_type": "code",
   "execution_count": 23,
   "metadata": {},
   "outputs": [
    {
     "name": "stdout",
     "output_type": "stream",
     "text": [
      "+----+-----+\n",
      "|user|items|\n",
      "+----+-----+\n",
      "|  u1|  a\n",
      "b|\n",
      "|  u1|d\n",
      "e\n",
      "a|\n",
      "+----+-----+\n",
      "\n",
      "+----+-----+---------------+\n",
      "|user|items|         result|\n",
      "+----+-----+---------------+\n",
      "|  u1|  a\n",
      "b|[1, 1, 0, 0, 0]|\n",
      "|  u1|d\n",
      "e\n",
      "a|[1, 0, 0, 1, 1]|\n",
      "+----+-----+---------------+\n",
      "\n"
     ]
    }
   ],
   "source": [
    "from pyspark.sql.types import IntegerType\n",
    "from pyspark.sql.functions import udf\n",
    "from pyspark.sql.types import ArrayType, IntegerType\n",
    "\n",
    "list_all1 = ['a', 'b', 'c', 'd', 'e']\n",
    "\n",
    "rdd = sc.parallelize([('u1', 'a\\nb'), ('u1', 'd\\ne\\na')])\n",
    "df1 = rdd.toDF(['user', 'items'])\n",
    "\n",
    "df1.show()\n",
    "\n",
    "def exist_list(list_all, list_compared):\n",
    "    results = []\n",
    "    for item in list_all:\n",
    "        if item in list_compared:\n",
    "            results.append(1)\n",
    "        else:\n",
    "            results.append(0)\n",
    "    return results\n",
    "\n",
    "function = udf(lambda item: exist_list(list_all1, item.split('\\n')), ArrayType(IntegerType()))\n",
    "\n",
    "df1.withColumn('result', function(col('items'))).show()"
   ]
  },
  {
   "cell_type": "code",
   "execution_count": null,
   "metadata": {},
   "outputs": [],
   "source": []
  },
  {
   "cell_type": "code",
   "execution_count": 24,
   "metadata": {},
   "outputs": [
    {
     "data": {
      "text/plain": [
       "[Row(Eser Adı=\"Psikoloji şerhi =  Telhisu kitabi'n-nefs\"),\n",
       " Row(Eser Adı='Çağımızın sorunları üstüne düşünceler'),\n",
       " Row(Eser Adı=\"Heidegger'in kulübesi\"),\n",
       " Row(Eser Adı='Bana bilgiçlik taslayan adamlar = Men explain things to me'),\n",
       " Row(Eser Adı='Sahip olmak ya da olmak'),\n",
       " Row(Eser Adı='Geliştiren anne baba'),\n",
       " Row(Eser Adı='Research design and methods : a process approach'),\n",
       " Row(Eser Adı='Hayriyye-i Nabi : inceleme-metin'),\n",
       " Row(Eser Adı='Din psikolojisi'),\n",
       " Row(Eser Adı=\"Mitoloji Kur'an kıssaları ve tarihi gerçeklik\"),\n",
       " Row(Eser Adı='Hadislerin dili : ilk hadis belgesi Hemmam’ın Sahifesi : tertip, terceme, yorum'),\n",
       " Row(Eser Adı='Güncel Dini Meseleler İstişare Toplantısı'),\n",
       " Row(Eser Adı='Neoliberal İslamcılık 1980-2015 : İslamcıların dünya sistemine entegrasyonu'),\n",
       " Row(Eser Adı='Cumhuriyet Türkiyesi’nde bir mesele olarak İslam'),\n",
       " Row(Eser Adı='Cumhuriyet Türkiyesi’nde bir mesele olarak İslam'),\n",
       " Row(Eser Adı='Kapitalizme eklemlenme : dindar orta sınıfta tüketim kültürü'),\n",
       " Row(Eser Adı='İslam’da münakaşaya hedef olan mes’eleler'),\n",
       " Row(Eser Adı='Kur’an ve sünnette itikat-ibadet ve ruh terbiyesi'),\n",
       " Row(Eser Adı=\"Manzum ve mensur Osmanlı hac seyahatnameleri ve Nabi'nin Tuhfetü'l Harameyn'i\"),\n",
       " Row(Eser Adı='Rumi ve aşkın terapi'),\n",
       " Row(Eser Adı='Yaşlanma dönemi din eğitimi'),\n",
       " Row(Eser Adı='Modernleşme, sekülerleşme ve protestanlaşma sürecinde degişen kentte dinî hayat ve fetva soruları'),\n",
       " Row(Eser Adı='Yirminci yüzyılda bir veli = A sufi saint of the twentieth century'),\n",
       " Row(Eser Adı='Hayal alemleri : Ibn Arabi ve dinlerin çeşitliliği meselesi = Imaginal worlds : Ibn al-ʻArabī and the problem of religious diversity'),\n",
       " Row(Eser Adı='Uygarlık tarihi'),\n",
       " Row(Eser Adı='When information came of age : technologies of knowledge in the age of reason and revolution, 1700-1850'),\n",
       " Row(Eser Adı='Le mythe de croisade'),\n",
       " Row(Eser Adı='Mukaddime III'),\n",
       " Row(Eser Adı='Kısa dünya tarihi'),\n",
       " Row(Eser Adı='Dünya tarihi : dünyamızı biçimlendiren olayların en güncel görsel kılavuzu : kronolojik zaman çizelgeli = History year by year'),\n",
       " Row(Eser Adı='Worlds together, worlds apart : a history of the world from the beginnings of humankind to the present'),\n",
       " Row(Eser Adı='Worlds together, worlds apart : a history of the world from the beginnings of humankind to the present'),\n",
       " Row(Eser Adı='Turcs et Turqueries : XVIe - XVIIIe siecles'),\n",
       " Row(Eser Adı='Kadın yok savaşın yüzünde = U voynu nye jenskoye litzo'),\n",
       " Row(Eser Adı=\"Berlin'den Türkler geçti 1871-1945 : Osmanlılı ve Türk tanıkların anılarında bir metropol = Türken in Berlin 1871-1945 : Erinnerungen eines Zeitzeugen\"),\n",
       " Row(Eser Adı='Doğu Batı : Düşünce Dergisi'),\n",
       " Row(Eser Adı='Türk dikkati'),\n",
       " Row(Eser Adı='Bir değirmendir bu dünya'),\n",
       " Row(Eser Adı='İzi kalır hatıraların : 30 söyleşi, 30 hayat hikâyesi'),\n",
       " Row(Eser Adı='Pour en finir avec la Croisade : mythes et réalités de la lutte contre les Turcs aux XVIe et XVIIe siècles'),\n",
       " Row(Eser Adı='Bildiğin gibi değil Osmanlı'),\n",
       " Row(Eser Adı='Belgrad 500 yıl sonra'),\n",
       " Row(Eser Adı='Arzın kapısı Kudüs : Mescid-i Aksa'),\n",
       " Row(Eser Adı='Kudüs : bir şehrin biyografisi = Jerusalem : the biography'),\n",
       " Row(Eser Adı='Osmanlı hakimiyetinde Arap toprakları, 1516-1800 = The Arab lands under Ottoman rule, 1516-1800'),\n",
       " Row(Eser Adı=\"D'Alep à Paris : les pérégrinations d'un jeune syrien au temps de Louis XIV\"),\n",
       " Row(Eser Adı='Friends and rivals in the East : studies in Anglo-Dutch relations in the Levant from the seventeenth to the early nineteenth century'),\n",
       " Row(Eser Adı='Ben, öteki ve ötesi : İslam-batı ilişkileri tarihine giriş'),\n",
       " Row(Eser Adı='Toplum ve bilim'),\n",
       " Row(Eser Adı='Sosyoloji yazıları = Essays in sociology'),\n",
       " Row(Eser Adı='Kapitalizmin ahlakı : üniversite hocanızın size söylemeyecekleri'),\n",
       " Row(Eser Adı='Kapital : ekonomi politiğin eleştirisi : sermayenin üretim süreci = Das kapital'),\n",
       " Row(Eser Adı='Örneklerle kolay ekonomi'),\n",
       " Row(Eser Adı='Modernleşme, İslam Dünyası ve Türkiye : Milletlerarası Tartışmalı İlmi Toplantı, 17-19 Kasım 2000, İstanbul'),\n",
       " Row(Eser Adı='Organizational theory, design, and change'),\n",
       " Row(Eser Adı='Osmanlı’da strateji ve askeri güç'),\n",
       " Row(Eser Adı='Statistics for business and economics'),\n",
       " Row(Eser Adı='Die höheren Beamten des Deutschen Zollvereins : eine bürokratische Funktionselite zwischen einzelstaatlichen Interessen und zwischenstaatlicher Integration (1834-1871)'),\n",
       " Row(Eser Adı=\"Langues et langages du commerce en Méditerranée et en Europe à l'époque moderne\"),\n",
       " Row(Eser Adı='Les Romains et le commerce'),\n",
       " Row(Eser Adı='Pazarlama ilkeleri'),\n",
       " Row(Eser Adı='Ticari cemaatler : kapitalizm dininin para tarikatları mı? : çok katmanlı pazarlama sisteminin açmazları'),\n",
       " Row(Eser Adı='La dette publique dans l\\'histoire : \"Les journées du Centre de recherches historiques\" des 26, 27 et 28 novembre 2001'),\n",
       " Row(Eser Adı='Küresel çağda nasıl bir gençlik?'),\n",
       " Row(Eser Adı=\"Türkiye'de sosyoloji : isimler-eserler\"),\n",
       " Row(Eser Adı='Sosyoloji nedir?'),\n",
       " Row(Eser Adı='Sosyolojik düşünmek = Thinking sociologically'),\n",
       " Row(Eser Adı=\"Bütün-beyinli çocuk = The whole-brain child : 12 revolutionary strategies to nurture your child's developing mind\"),\n",
       " Row(Eser Adı='Dest-i izdivaç'),\n",
       " Row(Eser Adı='Kar için değil halk için : eleştirel kent teorisi ve kent hakkı = Cities for people, not for profit : critical urban theory and the right to the city'),\n",
       " Row(Eser Adı=\"Le commerce des captifs : les intermédiaires dans l'échange et le rachat des prisonniers en Méditerraneé, XVe-XVIIIe siècle\"),\n",
       " Row(Eser Adı='Civil society : a reader in history, theory and global politics'),\n",
       " Row(Eser Adı='Tekno muhafazakarlığın eleştirisi : politik denemeler'),\n",
       " Row(Eser Adı='Liberalizm'),\n",
       " Row(Eser Adı='Liberalizm ve adaletin sınırları = Liberalism and the limits of justice'),\n",
       " Row(Eser Adı='Cumhurbaşkanlığı, başkanlık sistemi : nasıl bir sistem ve nasıl bir anayasa?'),\n",
       " Row(Eser Adı='Sustaining civil society : economic change, democracy, and the social construction of citizenship in Latin America'),\n",
       " Row(Eser Adı='Civil society under authoritarianism : the China model'),\n",
       " Row(Eser Adı='Staatsbürger, Untertanen und Andere : der Umgang mit ethnischer Heterogenität im Britischen Weltreich und im Habsburgerreich 1867-1918'),\n",
       " Row(Eser Adı='Göç sosyolojisi'),\n",
       " Row(Eser Adı='Barışın ideolojisi : liberal perspektiften uluslararası ilişkiler'),\n",
       " Row(Eser Adı='İdari yargı'),\n",
       " Row(Eser Adı='İdari yargılama hukuku'),\n",
       " Row(Eser Adı='İdare hukuku açısından kentsel dönüşüm'),\n",
       " Row(Eser Adı='Tüketici hukuku dersleri : 28.11.2013 tarih ve 6502 sayılı (yeni) tüketicinin korunması hakkında kanun ile açıklamalar, ilgili mevzuat ve tablolar'),\n",
       " Row(Eser Adı='Gelir vergisi : ders notları'),\n",
       " Row(Eser Adı='Vergi ceza hukuku : vergi kabahatleri ve suçları'),\n",
       " Row(Eser Adı='Lecture ready 2: strategies for academic listening, note- taking, and discussion'),\n",
       " Row(Eser Adı='Değerler eğitimi dergisi = Journal of values education'),\n",
       " Row(Eser Adı='Değerler eğitimi dergisi = Journal of values education'),\n",
       " Row(Eser Adı=\"Ta'lim-ül-müteallim : metin, tercüme, şerh\"),\n",
       " Row(Eser Adı='Media movements : civil society and media policy reform in Latin America'),\n",
       " Row(Eser Adı='Real reading : creating an authentic reading experience'),\n",
       " Row(Eser Adı='Lecture ready 3 : strategies for academic listening and speaking'),\n",
       " Row(Eser Adı='The Islamic context of the Thousand and one nights'),\n",
       " Row(Eser Adı='Doğu ve Batı = Orient et Occident'),\n",
       " Row(Eser Adı=\"İkbal'e dair\\n\\n\"),\n",
       " Row(Eser Adı='Mevlana Celaleddin-i Rumi : bütün eserleri : seçmeler'),\n",
       " Row(Eser Adı='Tanrı’nın seyir defteri ve bir öykü Hokecaş'),\n",
       " Row(Eser Adı='Sürgün ruhum = Hokis aksoryal'),\n",
       " Row(Eser Adı='Hece : aylık edebiyat dergisi'),\n",
       " Row(Eser Adı='Edebiyat tarihi yazıları : arşiv kayıtları, yazma eserler ve kayıp metinler'),\n",
       " Row(Eser Adı='Türk romanında aile kurumu : 1870-1970'),\n",
       " Row(Eser Adı='60 Türk romanı'),\n",
       " Row(Eser Adı='Meşrutiyet romanında yapı ve tema II'),\n",
       " Row(Eser Adı='Meşrutiyet romanında yapı ve tema I'),\n",
       " Row(Eser Adı='Batılılaşma açısından servet-i fünun romanı'),\n",
       " Row(Eser Adı=\"Türk romanına eleştirel bir bakış : Ahmet Mithat'tan Ahmet Hamdi Tanpınar'a\"),\n",
       " Row(Eser Adı='Türk romanına eleştirel bir bakış III : Sevgi Soysal’dan Bilge Karasu’ya'),\n",
       " Row(Eser Adı=\"Türk romanına eleştirel bir bakış 2 : Sabahattin Ali'den Yusuf Atılgan'a\"),\n",
       " Row(Eser Adı='19. yüzyıl Türk musikisinde Haşim Bey mecmuası'),\n",
       " Row(Eser Adı='Bir “Sabahattin Ali” romanı : yeşil mürekkep'),\n",
       " Row(Eser Adı='Güzel sanat suçları'),\n",
       " Row(Eser Adı='Memleket yazıları 8 : ağaç ve ahlak'),\n",
       " Row(Eser Adı='Huzursuzluk'),\n",
       " Row(Eser Adı='Osmanlı cadısı : bir İstanbul bilimkurgusu'),\n",
       " Row(Eser Adı='Necati Bey divanı'),\n",
       " Row(Eser Adı='Nedim divanı : metin ve tıpkıbasım'),\n",
       " Row(Eser Adı='Karun ve anarşist'),\n",
       " Row(Eser Adı='Esir şehir üçlemesi : esir şehrin insanları'),\n",
       " Row(Eser Adı='Esir şehir üçlemesi : esir şehrin mahpusu'),\n",
       " Row(Eser Adı='Depresyon hırkası'),\n",
       " Row(Eser Adı='Motorcycle diaries = Diarios de motocicleta = Motosiklet günlüğü'),\n",
       " Row(Eser Adı='Adaptation. = Tersyüz.'),\n",
       " Row(Eser Adı='Jason Bourne'),\n",
       " Row(Eser Adı=\"The Huntsman : winter's war = Avcı : kış savaşı\"),\n",
       " Row(Eser Adı=\"Don't breathe = Nefesini tut\"),\n",
       " Row(Eser Adı='Finding Dory = Kayıp balık Dori'),\n",
       " Row(Eser Adı='Ghostbusters = Hayalet avcıları'),\n",
       " Row(Eser Adı='Imperium = Köstebek'),\n",
       " Row(Eser Adı=\"Kidnapping of Freddy Heineken = Heineken'i kaçırmak\"),\n",
       " Row(Eser Adı='The nice guys = İyi adamlar'),\n",
       " Row(Eser Adı='Miss Peregrine’s home for peculiar children = Bayan Peregrine’in tuhaf çocukları'),\n",
       " Row(Eser Adı=\"Pete's dragon = Pete ve ejderhası\"),\n",
       " Row(Eser Adı='Me before you'),\n",
       " Row(Eser Adı='Kitap nasıl okunmalı? : bir okur olarak 2 = The common reader'),\n",
       " Row(Eser Adı='Muhteşem gatsby = The great Gatsby'),\n",
       " Row(Eser Adı='The great Gatsby'),\n",
       " Row(Eser Adı='Divan = Lying on the couch'),\n",
       " Row(Eser Adı='Kelebek adası'),\n",
       " Row(Eser Adı='Yeşil deniz kabuğu'),\n",
       " Row(Eser Adı='Artificial intelligence : a modern approach'),\n",
       " Row(Eser Adı='Linear algebra and its applications'),\n",
       " Row(Eser Adı='Yeryüzündeki en büyük gösteri : evrimin kanıtları = The greatest show on earth : the evidence for evolution'),\n",
       " Row(Eser Adı='Gen bencildir = The selfish gene'),\n",
       " Row(Eser Adı='Kaplanı uyandırmak : travmayı iyileştirmek, boğucu deneyimleri dönüştürmek için yaradılışımızdan gelen bir potansiyele sahibiz = Waking the tiger : healing trauma : the innate capacity  to transform overwhelming experiences'),\n",
       " Row(Eser Adı='Ey travma bizden uzak dur! = Trauma-proofing your kids'),\n",
       " Row(Eser Adı='Circulations techniques en amont de l’innovation : hommes, objets et idées en mouvement'),\n",
       " Row(Eser Adı='Probability and statistics for engineers and scientists'),\n",
       " Row(Eser Adı='Ara Güler'),\n",
       " Row(Eser Adı='La Marine française et ses réseaux économiques au XVIIIe siècle'),\n",
       " Row(Eser Adı='Ben buradan okuyorum : kitapların değişen dünyası = Where I’m reading from : the changing world of books'),\n",
       " Row(Eser Adı=\"Dersaadet'te bir Acem kitapçı : kitap-füruş Hacı Hüseyin Ağa\")]"
      ]
     },
     "execution_count": 24,
     "metadata": {},
     "output_type": "execute_result"
    }
   ],
   "source": [
    "df.filter(df['Ödünç Sayısı'] != 0.0).select(\"Eser Adı\").collect()"
   ]
  },
  {
   "cell_type": "code",
   "execution_count": 25,
   "metadata": {},
   "outputs": [
    {
     "data": {
      "text/plain": [
       "153"
      ]
     },
     "execution_count": 25,
     "metadata": {},
     "output_type": "execute_result"
    }
   ],
   "source": [
    "df.filter(df['Ödünç Sayısı'] != 0.0).count()"
   ]
  },
  {
   "cell_type": "code",
   "execution_count": null,
   "metadata": {},
   "outputs": [],
   "source": []
  }
 ],
 "metadata": {
  "kernelspec": {
   "display_name": "Python 3",
   "language": "python",
   "name": "python3"
  },
  "language_info": {
   "codemirror_mode": {
    "name": "ipython",
    "version": 3
   },
   "file_extension": ".py",
   "mimetype": "text/x-python",
   "name": "python",
   "nbconvert_exporter": "python",
   "pygments_lexer": "ipython3",
   "version": "3.6.5"
  }
 },
 "nbformat": 4,
 "nbformat_minor": 2
}

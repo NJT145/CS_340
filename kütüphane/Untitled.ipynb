{
 "cells": [
  {
   "cell_type": "code",
   "execution_count": 1,
   "metadata": {},
   "outputs": [],
   "source": [
    "#import pyspark\n",
    "#sc = pyspark.SparkContext.getOrCreate()\n",
    "#sqlContext = pyspark.sql.SQLContext(sc)\n",
    "from pyspark.sql import Row\n",
    "import pandas as pd # also need \"xlrd\" module in our system\n",
    "import xlrd"
   ]
  },
  {
   "cell_type": "code",
   "execution_count": 2,
   "metadata": {},
   "outputs": [
    {
     "data": {
      "text/html": [
       "\n",
       "        <div>\n",
       "            <p><b>SparkContext</b></p>\n",
       "\n",
       "            <p><a href=\"http://DESKTOP-IUICSM2:4040\">Spark UI</a></p>\n",
       "\n",
       "            <dl>\n",
       "              <dt>Version</dt>\n",
       "                <dd><code>v2.3.0</code></dd>\n",
       "              <dt>Master</dt>\n",
       "                <dd><code>local[*]</code></dd>\n",
       "              <dt>AppName</dt>\n",
       "                <dd><code>PySparkShell</code></dd>\n",
       "            </dl>\n",
       "        </div>\n",
       "        "
      ],
      "text/plain": [
       "<SparkContext master=local[*] appName=PySparkShell>"
      ]
     },
     "execution_count": 2,
     "metadata": {},
     "output_type": "execute_result"
    }
   ],
   "source": [
    "sc"
   ]
  },
  {
   "cell_type": "code",
   "execution_count": 3,
   "metadata": {},
   "outputs": [],
   "source": [
    "xl_workbook = xlrd.open_workbook(\"lib-statistics.xlsx\")\n",
    "#sheet_names = xl_workbook.sheet_names()\n",
    "#print('Sheet Names', sheet_names)\n",
    "#xl_sheet = xl_workbook.sheet_by_name(sheet_names[0])\n",
    "xl_sheet = xl_workbook.sheet_by_index(0)\n",
    "#print ('Sheet name: %s' % xl_sheet.name)\n",
    "data = []\n",
    "for row in range(xl_sheet.nrows):\n",
    "    line = []\n",
    "    for col in range(xl_sheet.ncols):\n",
    "        line.append(str(xl_sheet.cell(row, col).value))\n",
    "    data.append(line)\n",
    "#print((data))"
   ]
  },
  {
   "cell_type": "code",
   "execution_count": 4,
   "metadata": {},
   "outputs": [],
   "source": [
    "columnNames = data[0]\n",
    "dataValues = data[1:]\n",
    "dataPairs = []\n",
    "for row in range(len(dataValues)):\n",
    "    line = {}\n",
    "    for col in range(len(columnNames)):\n",
    "        line[columnNames[col]] = dataValues[row][col]\n",
    "    dataPairs.append(Row(**line))\n",
    "#dataPairs"
   ]
  },
  {
   "cell_type": "code",
   "execution_count": 5,
   "metadata": {},
   "outputs": [],
   "source": [
    "dataRDD = sc.parallelize(dataPairs)\n",
    "df = dataRDD.toDF()\n",
    "#df.show()"
   ]
  },
  {
   "cell_type": "code",
   "execution_count": null,
   "metadata": {},
   "outputs": [],
   "source": []
  },
  {
   "cell_type": "code",
   "execution_count": null,
   "metadata": {},
   "outputs": [],
   "source": []
  },
  {
   "cell_type": "code",
   "execution_count": null,
   "metadata": {},
   "outputs": [],
   "source": []
  }
 ],
 "metadata": {
  "kernelspec": {
   "display_name": "Python 3",
   "language": "python",
   "name": "python3"
  },
  "language_info": {
   "codemirror_mode": {
    "name": "ipython",
    "version": 3
   },
   "file_extension": ".py",
   "mimetype": "text/x-python",
   "name": "python",
   "nbconvert_exporter": "python",
   "pygments_lexer": "ipython3",
   "version": "3.6.5"
  }
 },
 "nbformat": 4,
 "nbformat_minor": 2
}

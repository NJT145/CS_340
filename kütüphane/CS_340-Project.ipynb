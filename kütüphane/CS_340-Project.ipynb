{
 "cells": [
  {
   "cell_type": "code",
   "execution_count": 1,
   "metadata": {},
   "outputs": [],
   "source": [
    "#import pyspark\n",
    "#sc = pyspark.SparkContext.getOrCreate()\n",
    "#sqlContext = pyspark.sql.SQLContext(sc)\n",
    "from pyspark.sql import Row\n",
    "from pyspark.sql.functions import *\n",
    "import pandas as pd # also need \"xlrd\" module in our system\n",
    "import xlrd"
   ]
  },
  {
   "cell_type": "code",
   "execution_count": 2,
   "metadata": {
    "scrolled": true
   },
   "outputs": [
    {
     "data": {
      "text/html": [
       "\n",
       "        <div>\n",
       "            <p><b>SparkContext</b></p>\n",
       "\n",
       "            <p><a href=\"http://NBS213861517.sehir.edu.local:4040\">Spark UI</a></p>\n",
       "\n",
       "            <dl>\n",
       "              <dt>Version</dt>\n",
       "                <dd><code>v2.3.0</code></dd>\n",
       "              <dt>Master</dt>\n",
       "                <dd><code>local[*]</code></dd>\n",
       "              <dt>AppName</dt>\n",
       "                <dd><code>PySparkShell</code></dd>\n",
       "            </dl>\n",
       "        </div>\n",
       "        "
      ],
      "text/plain": [
       "<SparkContext master=local[*] appName=PySparkShell>"
      ]
     },
     "execution_count": 2,
     "metadata": {},
     "output_type": "execute_result"
    }
   ],
   "source": [
    "sc"
   ]
  },
  {
   "cell_type": "code",
   "execution_count": null,
   "metadata": {},
   "outputs": [],
   "source": []
  },
  {
   "cell_type": "code",
   "execution_count": 3,
   "metadata": {},
   "outputs": [],
   "source": [
    "xl_workbook = xlrd.open_workbook(\"lib-statistics.xlsx\")\n",
    "#sheet_names = xl_workbook.sheet_names()\n",
    "#print('Sheet Names', sheet_names)\n",
    "#xl_sheet = xl_workbook.sheet_by_name(sheet_names[0])\n",
    "xl_sheet = xl_workbook.sheet_by_index(0)\n",
    "#print ('Sheet name: %s' % xl_sheet.name)\n",
    "data = []\n",
    "for row in range(xl_sheet.nrows):\n",
    "    line = []\n",
    "    for col in range(xl_sheet.ncols):\n",
    "        line.append(str(xl_sheet.cell(row, col).value))\n",
    "    data.append(line)\n",
    "#print((data))"
   ]
  },
  {
   "cell_type": "code",
   "execution_count": 4,
   "metadata": {},
   "outputs": [],
   "source": [
    "columnNames = data[0]\n",
    "dataValues = data[1:]\n",
    "dataPairs = []\n",
    "for row in range(len(dataValues)):\n",
    "    line = {}\n",
    "    for col in range(len(columnNames)):\n",
    "        line[columnNames[col]] = dataValues[row][col]\n",
    "    dataPairs.append(Row(**line))\n",
    "#dataPairs"
   ]
  },
  {
   "cell_type": "code",
   "execution_count": 5,
   "metadata": {},
   "outputs": [
    {
     "name": "stdout",
     "output_type": "stream",
     "text": [
      "+---+--------------------+--------------------+-----------------+--------------------+------------+\n",
      "|Dil|            Eser Adı|     Konu Başlıkları|        Sınıflama|               Yazar|Ödünç Sayısı|\n",
      "+---+--------------------+--------------------+-----------------+--------------------+------------+\n",
      "|eng|Museum frictions ...|Museums--Social A...|      AM 7/.M8713|                    |            |\n",
      "|tur|Tahayyül gücünü y...|Imagination (Phil...|   B 105 .I49/T34|                    |            |\n",
      "|tur|Bir yol var : Min...|Ontology\n",
      "Stress M...|  B 3279 .H48/D36|        Damcı, Taner|            |\n",
      "|tur|Psikoloji şerhi =...|Aristotle\n",
      "Aristot...|  B 415 .A9/A7519|            İbn Rüşd|         2.0|\n",
      "|eng|An examination of...|Özel, İsmet, 1944...| B 5074 .S544/K39|      Kaya, Vefa Can|            |\n",
      "|eng|An examination of...|Özel, İsmet, 1944...| B 5074 .S544/K39|      Kaya, Vefa Can|            |\n",
      "|tur|Ruhun uyanışı, ya...|Philosophy, Islam...| B 753 .I53/R5320|İbn Ṭufeyl, Muḥam...|            |\n",
      "|tur|Çağımızın sorunla...|Philosophy, Moder...|   B 790 .R87/C34|   Russell, Bertrand|         1.0|\n",
      "|tur|Heidegger'in kulü...|Entity (Philosoph...|  BD 336 .H47/S53|         Sharr, Adam|         1.0|\n",
      "|tur|İnsan ve tabiat =...|Philosophical Ant...|  BD 450 .N37/I57|Nasr, Seyyid Hüseyin|            |\n",
      "|tur|Erich Fromm'un ve...|Psychoanalysis\n",
      "Fr...|  BF 173 .D63/E75|     Dobrenkov, V.İ.|            |\n",
      "|tur|Hayatı kolaylaştı...|Happiness\n",
      "Persona...|  BF 575 .H27/Y88|        Yüter, Ahmet|            |\n",
      "|tur|Üzüntüden kurtulm...|Worry\n",
      "Success\n",
      "Üzü...|  BF 575 .K56/U98|ebu yusuf s-Sabba...|            |\n",
      "|tur|Çağdaş yaşam ve n...|Psychology, Patho...|  BF 635 .G43/C34|       Geçtan, Engin|            |\n",
      "|tur|Düşünce gücüyle t...|Self-Actualizatio...| BF 637 .S4/H3819|      Hay, Louise L.|            |\n",
      "|tur|Bana bilgiçlik ta...|Sex Differences (...|BF 692.2 .S65/B36|     Solnit, Rebecca|         2.0|\n",
      "|tur|Sahip olmak ya da...|Personality\n",
      "Ontol...|     BF 698/.F746|        Fromm, Erich|         1.0|\n",
      "|tur|Geliştiren anne baba|Parent-Child Rela...|  BF 723 .P25/C83|    Cüceloğlu, Doğan|         2.0|\n",
      "|eng|Research design a...|Psychology--Resea...|     BF 76.5/.B67| Bordens, Kenneth S.|         4.0|\n",
      "|tur|İslam büyüklerini...|Islamic Ethics\n",
      "İs...| BJ 1291 .I43/I85|        İmam Şa’rani|            |\n",
      "+---+--------------------+--------------------+-----------------+--------------------+------------+\n",
      "only showing top 20 rows\n",
      "\n"
     ]
    }
   ],
   "source": [
    "dataRDD = sc.parallelize(dataPairs)\n",
    "df = dataRDD.toDF()\n",
    "df.show()"
   ]
  },
  {
   "cell_type": "code",
   "execution_count": 6,
   "metadata": {},
   "outputs": [
    {
     "name": "stdout",
     "output_type": "stream",
     "text": [
      "root\n",
      " |-- Dil: string (nullable = true)\n",
      " |-- Eser Adı: string (nullable = true)\n",
      " |-- Konu Başlıkları: string (nullable = true)\n",
      " |-- Sınıflama: string (nullable = true)\n",
      " |-- Yazar: string (nullable = true)\n",
      " |-- Ödünç Sayısı: string (nullable = true)\n",
      "\n"
     ]
    }
   ],
   "source": [
    "df.printSchema()"
   ]
  },
  {
   "cell_type": "code",
   "execution_count": 7,
   "metadata": {},
   "outputs": [
    {
     "data": {
      "text/plain": [
       "[Row(Dil='tur', Eser Adı='Edebiyat tarihi yazıları : arşiv kayıtları, yazma eserler ve kayıp metinler', Konu Başlıkları='', Sınıflama='PL 216 .E777/E34', Yazar='Erünsal, İsmail E.', Ödünç Sayısı='1.0')]"
      ]
     },
     "execution_count": 7,
     "metadata": {},
     "output_type": "execute_result"
    }
   ],
   "source": [
    "df.filter(df['Konu Başlıkları']=='').collect()"
   ]
  },
  {
   "cell_type": "code",
   "execution_count": 8,
   "metadata": {},
   "outputs": [],
   "source": [
    "def countEmptyAndNull(df):\n",
    "    for i in df.columns:\n",
    "        print(\"Column '%s' has %d empty, %d not empty, and %d null rows.\" % (i, df.filter(df[i]=='').count(), df.filter(df[i]!='').count(), df.filter(df[i].isNull()).count()))\n"
   ]
  },
  {
   "cell_type": "code",
   "execution_count": 9,
   "metadata": {},
   "outputs": [
    {
     "name": "stdout",
     "output_type": "stream",
     "text": [
      "Column 'Dil' has 0 empty, 751 not empty, and 0 null rows.\n",
      "Column 'Eser Adı' has 0 empty, 751 not empty, and 0 null rows.\n",
      "Column 'Konu Başlıkları' has 1 empty, 750 not empty, and 0 null rows.\n",
      "Column 'Sınıflama' has 0 empty, 751 not empty, and 0 null rows.\n",
      "Column 'Yazar' has 294 empty, 457 not empty, and 0 null rows.\n",
      "Column 'Ödünç Sayısı' has 598 empty, 153 not empty, and 0 null rows.\n"
     ]
    }
   ],
   "source": [
    "countEmptyAndNull(df)"
   ]
  },
  {
   "cell_type": "code",
   "execution_count": 10,
   "metadata": {},
   "outputs": [
    {
     "name": "stdout",
     "output_type": "stream",
     "text": [
      "+---+-----+\n",
      "|Dil|count|\n",
      "+---+-----+\n",
      "|fre|   18|\n",
      "|tuk|    2|\n",
      "|geo|    1|\n",
      "|Tur|    8|\n",
      "|ara|    4|\n",
      "|eng|   98|\n",
      "|xxx|    2|\n",
      "|tur|  575|\n",
      "|ota|   38|\n",
      "|spa|    1|\n",
      "|chi|    1|\n",
      "|ger|    3|\n",
      "+---+-----+\n",
      "\n"
     ]
    }
   ],
   "source": [
    "df.groupBy('Dil').count().show()"
   ]
  },
  {
   "cell_type": "code",
   "execution_count": 11,
   "metadata": {},
   "outputs": [
    {
     "data": {
      "text/plain": [
       "751"
      ]
     },
     "execution_count": 11,
     "metadata": {},
     "output_type": "execute_result"
    }
   ],
   "source": [
    "df.count()"
   ]
  },
  {
   "cell_type": "code",
   "execution_count": 12,
   "metadata": {},
   "outputs": [
    {
     "name": "stdout",
     "output_type": "stream",
     "text": [
      "+----------+\n",
      "|sum(count)|\n",
      "+----------+\n",
      "|       751|\n",
      "+----------+\n",
      "\n"
     ]
    }
   ],
   "source": [
    "df2 = df.groupBy('Dil').count()\n",
    "df2.select(sum(df2['count'])).show()"
   ]
  },
  {
   "cell_type": "code",
   "execution_count": 13,
   "metadata": {},
   "outputs": [
    {
     "name": "stdout",
     "output_type": "stream",
     "text": [
      "+-----------------+\n",
      "|sum(Ödünç Sayısı)|\n",
      "+-----------------+\n",
      "|            339.0|\n",
      "+-----------------+\n",
      "\n"
     ]
    }
   ],
   "source": [
    "df1 = df.select(df['Sınıflama'], df['Eser Adı'], df['Yazar'], df['Dil'], df['Konu Başlıkları'], df['Ödünç Sayısı'].cast('float'))\n",
    "df1.select(sum(df1['Ödünç Sayısı'])).show()"
   ]
  },
  {
   "cell_type": "code",
   "execution_count": 14,
   "metadata": {},
   "outputs": [
    {
     "data": {
      "text/plain": [
       "598"
      ]
     },
     "execution_count": 14,
     "metadata": {},
     "output_type": "execute_result"
    }
   ],
   "source": [
    "df1.filter(df1['Ödünç Sayısı'].isNull()).count()"
   ]
  },
  {
   "cell_type": "code",
   "execution_count": 15,
   "metadata": {},
   "outputs": [
    {
     "name": "stdout",
     "output_type": "stream",
     "text": [
      "Column 'Sınıflama' has 0 empty, 751 not empty, and 0 null rows.\n",
      "Column 'Eser Adı' has 0 empty, 751 not empty, and 0 null rows.\n",
      "Column 'Yazar' has 294 empty, 457 not empty, and 0 null rows.\n",
      "Column 'Dil' has 0 empty, 751 not empty, and 0 null rows.\n",
      "Column 'Konu Başlıkları' has 1 empty, 750 not empty, and 0 null rows.\n",
      "Column 'Ödünç Sayısı' has 0 empty, 0 not empty, and 598 null rows.\n"
     ]
    }
   ],
   "source": [
    "countEmptyAndNull(df1)"
   ]
  },
  {
   "cell_type": "code",
   "execution_count": 16,
   "metadata": {},
   "outputs": [
    {
     "name": "stdout",
     "output_type": "stream",
     "text": [
      "+------------------+-----+\n",
      "|         Sınıflama|count|\n",
      "+------------------+-----+\n",
      "|   BF 635 .G43/C34|    1|\n",
      "|       D 16/.H3519|    1|\n",
      "|   PL 248 .T67/D47|    1|\n",
      "| BP 189.7 .C58/O57|    1|\n",
      "|    NK 3636.5/.L57|    1|\n",
      "|     PN 1997/.F357|    1|\n",
      "|   DR 479 .E85/P68|    1|\n",
      "|HQ 1726.7 .A37/T67|    1|\n",
      "| HQ 767.9 .C36/R47|    1|\n",
      "|  NA 1363 .K83/K66|    1|\n",
      "|   PN 6757 .K54/C3|    1|\n",
      "|     BP 63 .T8/B37|    1|\n",
      "|       HV 42/.B676|    5|\n",
      "|        Q 335/.R86|    1|\n",
      "|   BP 130.1/.M3719|    1|\n",
      "| DR 438.5 .A36/F45|    1|\n",
      "|   PL 248 .Y55/H35|    1|\n",
      "| BF 692.2 .S65/B36|    1|\n",
      "|        ND 867/.T9|    1|\n",
      "|    GE 160 .T9/T86|    1|\n",
      "+------------------+-----+\n",
      "only showing top 20 rows\n",
      "\n"
     ]
    }
   ],
   "source": [
    "df.groupBy(df['Sınıflama']).count().show()"
   ]
  },
  {
   "cell_type": "code",
   "execution_count": 17,
   "metadata": {},
   "outputs": [
    {
     "data": {
      "text/plain": [
       "614"
      ]
     },
     "execution_count": 17,
     "metadata": {},
     "output_type": "execute_result"
    }
   ],
   "source": [
    "df.groupBy(df['Sınıflama']).count().count()"
   ]
  },
  {
   "cell_type": "code",
   "execution_count": 18,
   "metadata": {},
   "outputs": [
    {
     "name": "stdout",
     "output_type": "stream",
     "text": [
      "43\n",
      "0\n",
      "571\n"
     ]
    }
   ],
   "source": [
    "df_s = df.groupBy(df['Sınıflama']).count()\n",
    "print(df_s.filter(df_s['count'] > 1).count())\n",
    "print(df_s.filter(df_s['count'] < 1).count())\n",
    "print(df_s.filter(df_s['count'] == 1).count())"
   ]
  },
  {
   "cell_type": "code",
   "execution_count": 19,
   "metadata": {},
   "outputs": [
    {
     "name": "stdout",
     "output_type": "stream",
     "text": [
      "+------------------+-----+\n",
      "|         Sınıflama|count|\n",
      "+------------------+-----+\n",
      "|       D 16/.H3519|    1|\n",
      "|   PL 248 .T67/D47|    1|\n",
      "|   DR 479 .E85/P68|    1|\n",
      "| DR 438.5 .A36/F45|    1|\n",
      "|        ND 867/.T9|    1|\n",
      "|QH 366.2 .D379/B58|    1|\n",
      "|     BP 161.2/.D56|    1|\n",
      "|      H 49 .T9/D46|    1|\n",
      "|   DR 486 .D34/B55|    1|\n",
      "|   BP 178 .E73/D67|    1|\n",
      "|       DR 531/.A46|    1|\n",
      "|        DS 47/.D93|    1|\n",
      "|       BP 170/.D64|    1|\n",
      "|       D 20/.H5719|    1|\n",
      "|        DR 401/.T6|    1|\n",
      "|   DF 901 .T75/A94|    1|\n",
      "|   DR 592 .U43/B45|    1|\n",
      "|       BP 166/.D56|    1|\n",
      "| DD 867.5 .T87/B47|    1|\n",
      "|       DR 401/.T84|    2|\n",
      "+------------------+-----+\n",
      "only showing top 20 rows\n",
      "\n"
     ]
    }
   ],
   "source": [
    "df_s.filter(df_s['Sınıflama'].like('%D%')).show()"
   ]
  },
  {
   "cell_type": "code",
   "execution_count": 20,
   "metadata": {},
   "outputs": [
    {
     "name": "stdout",
     "output_type": "stream",
     "text": [
      "+-------------------+-----+\n",
      "|          Sınıflama|count|\n",
      "+-------------------+-----+\n",
      "|        D 16/.H3519|    1|\n",
      "|    DR 479 .E85/P68|    1|\n",
      "|  DR 438.5 .A36/F45|    1|\n",
      "|         ND 867/.T9|    1|\n",
      "|    DR 486 .D34/B55|    1|\n",
      "|        DR 531/.A46|    1|\n",
      "|         DS 47/.D93|    1|\n",
      "|        D 20/.H5719|    1|\n",
      "|         DR 401/.T6|    1|\n",
      "|    DF 901 .T75/A94|    1|\n",
      "|    DR 592 .U43/B45|    1|\n",
      "|  DD 867.5 .T87/B47|    1|\n",
      "|        DR 401/.T84|    2|\n",
      "|          DS 26/.E7|    2|\n",
      "|   DT 197.5 .I8/M34|    1|\n",
      "|    HD 1165 .T8/C57|    1|\n",
      "|    DR 479 .A75/S46|    2|\n",
      "|    DR 448 .A46/O86|    1|\n",
      "|      DR 719/.I8836|    1|\n",
      "|DS 109.32 .M33/U387|    1|\n",
      "+-------------------+-----+\n",
      "only showing top 20 rows\n",
      "\n"
     ]
    }
   ],
   "source": [
    "df_s.filter(split(df_s['Sınıflama'], \" \")[0].like(\"%D%\")).show()"
   ]
  },
  {
   "cell_type": "code",
   "execution_count": 21,
   "metadata": {},
   "outputs": [
    {
     "name": "stdout",
     "output_type": "stream",
     "text": [
      "+----------------------+-----+\n",
      "|split(Sınıflama,  )[0]|count|\n",
      "+----------------------+-----+\n",
      "|                     K|    3|\n",
      "|                    UA|    1|\n",
      "|                    LA|    4|\n",
      "|                    BS|    3|\n",
      "|                    NK|    2|\n",
      "|                    PL|   81|\n",
      "|                    PS|    6|\n",
      "|                    AM|    1|\n",
      "|                    DR|   39|\n",
      "|                    JF|    1|\n",
      "|                     F|    1|\n",
      "|                    BP|  138|\n",
      "|                     Q|    7|\n",
      "|                    NX|    1|\n",
      "|                    JC|    6|\n",
      "|                    NA|    6|\n",
      "|                    HV|    5|\n",
      "|                    BX|    1|\n",
      "|                    VA|    1|\n",
      "|                     E|    1|\n",
      "+----------------------+-----+\n",
      "only showing top 20 rows\n",
      "\n"
     ]
    }
   ],
   "source": [
    "df_s.groupBy(split(df_s['Sınıflama'], \" \")[0]).count().show()"
   ]
  },
  {
   "cell_type": "code",
   "execution_count": 22,
   "metadata": {},
   "outputs": [
    {
     "data": {
      "text/plain": [
       "[Row(group='AM', count=1),\n",
       " Row(group='B', count=6),\n",
       " Row(group='BD', count=2),\n",
       " Row(group='BF', count=9),\n",
       " Row(group='BJ', count=4),\n",
       " Row(group='BL', count=7),\n",
       " Row(group='BP', count=138),\n",
       " Row(group='BQ', count=1),\n",
       " Row(group='BS', count=3),\n",
       " Row(group='BT', count=1),\n",
       " Row(group='BV', count=1),\n",
       " Row(group='BX', count=1),\n",
       " Row(group='CB', count=3),\n",
       " Row(group='CC', count=1),\n",
       " Row(group='D', count=13),\n",
       " Row(group='DD', count=2),\n",
       " Row(group='DF', count=4),\n",
       " Row(group='DG', count=2),\n",
       " Row(group='DK', count=4),\n",
       " Row(group='DR', count=39),\n",
       " Row(group='DS', count=19),\n",
       " Row(group='DT', count=1),\n",
       " Row(group='E', count=1),\n",
       " Row(group='F', count=1),\n",
       " Row(group='GE', count=1),\n",
       " Row(group='GN', count=2),\n",
       " Row(group='GR', count=4),\n",
       " Row(group='GV', count=2),\n",
       " Row(group='H', count=4),\n",
       " Row(group='HA', count=1),\n",
       " Row(group='HB', count=8),\n",
       " Row(group='HC', count=6),\n",
       " Row(group='HD', count=6),\n",
       " Row(group='HF', count=11),\n",
       " Row(group='HJ', count=2),\n",
       " Row(group='HM', count=8),\n",
       " Row(group='HN', count=2),\n",
       " Row(group='HQ', count=13),\n",
       " Row(group='HT', count=3),\n",
       " Row(group='HV', count=5),\n",
       " Row(group='J', count=1),\n",
       " Row(group='JA', count=1),\n",
       " Row(group='JC', count=6),\n",
       " Row(group='JF', count=1),\n",
       " Row(group='JL', count=1),\n",
       " Row(group='JN', count=1),\n",
       " Row(group='JQ', count=3),\n",
       " Row(group='JS', count=2),\n",
       " Row(group='JV', count=2),\n",
       " Row(group='JX', count=1),\n",
       " Row(group='JZ', count=2),\n",
       " Row(group='K', count=3),\n",
       " Row(group='KBP', count=1),\n",
       " Row(group='KKX', count=13),\n",
       " Row(group='LA', count=4),\n",
       " Row(group='LB', count=3),\n",
       " Row(group='LC', count=6),\n",
       " Row(group='ML', count=2),\n",
       " Row(group='NA', count=6),\n",
       " Row(group='NB', count=1),\n",
       " Row(group='ND', count=2),\n",
       " Row(group='NK', count=2),\n",
       " Row(group='NX', count=1),\n",
       " Row(group='P', count=3),\n",
       " Row(group='PB', count=1),\n",
       " Row(group='PE', count=2),\n",
       " Row(group='PG', count=4),\n",
       " Row(group='PJ', count=5),\n",
       " Row(group='PK', count=14),\n",
       " Row(group='PL', count=81),\n",
       " Row(group='PN', count=38),\n",
       " Row(group='PQ', count=2),\n",
       " Row(group='PR', count=4),\n",
       " Row(group='PS', count=6),\n",
       " Row(group='PT', count=4),\n",
       " Row(group='Q', count=7),\n",
       " Row(group='QA', count=2),\n",
       " Row(group='QB', count=1),\n",
       " Row(group='QC', count=1),\n",
       " Row(group='QH', count=5),\n",
       " Row(group='QP', count=2),\n",
       " Row(group='R', count=3),\n",
       " Row(group='RC', count=3),\n",
       " Row(group='RD', count=1),\n",
       " Row(group='RJ', count=1),\n",
       " Row(group='S', count=1),\n",
       " Row(group='T', count=1),\n",
       " Row(group='TA', count=2),\n",
       " Row(group='TK', count=2),\n",
       " Row(group='TP', count=1),\n",
       " Row(group='TR', count=4),\n",
       " Row(group='TS', count=1),\n",
       " Row(group='UA', count=1),\n",
       " Row(group='VA', count=1),\n",
       " Row(group='VB', count=1),\n",
       " Row(group='Z', count=2)]"
      ]
     },
     "execution_count": 22,
     "metadata": {},
     "output_type": "execute_result"
    }
   ],
   "source": [
    "df_s.groupBy(split(df_s['Sınıflama'], \" \")[0].alias(\"group\")).count().orderBy(\"group\").collect()"
   ]
  },
  {
   "cell_type": "code",
   "execution_count": 23,
   "metadata": {},
   "outputs": [
    {
     "name": "stdout",
     "output_type": "stream",
     "text": [
      "+-----------------+--------------------+--------------------+---+--------------------+------------+\n",
      "|        Sınıflama|            Eser Adı|               Yazar|Dil|     Konu Başlıkları|Ödünç Sayısı|\n",
      "+-----------------+--------------------+--------------------+---+--------------------+------------+\n",
      "|      AM 7/.M8713|Museum frictions ...|                    |eng|Museums--Social A...|         0.0|\n",
      "|   B 105 .I49/T34|Tahayyül gücünü y...|                    |tur|Imagination (Phil...|         0.0|\n",
      "|  B 3279 .H48/D36|Bir yol var : Min...|        Damcı, Taner|tur|Ontology\n",
      "Stress M...|         0.0|\n",
      "|  B 415 .A9/A7519|Psikoloji şerhi =...|            İbn Rüşd|tur|Aristotle\n",
      "Aristot...|         2.0|\n",
      "| B 5074 .S544/K39|An examination of...|      Kaya, Vefa Can|eng|Özel, İsmet, 1944...|         0.0|\n",
      "| B 5074 .S544/K39|An examination of...|      Kaya, Vefa Can|eng|Özel, İsmet, 1944...|         0.0|\n",
      "| B 753 .I53/R5320|Ruhun uyanışı, ya...|İbn Ṭufeyl, Muḥam...|tur|Philosophy, Islam...|         0.0|\n",
      "|   B 790 .R87/C34|Çağımızın sorunla...|   Russell, Bertrand|tur|Philosophy, Moder...|         1.0|\n",
      "|  BD 336 .H47/S53|Heidegger'in kulü...|         Sharr, Adam|tur|Entity (Philosoph...|         1.0|\n",
      "|  BD 450 .N37/I57|İnsan ve tabiat =...|Nasr, Seyyid Hüseyin|tur|Philosophical Ant...|         0.0|\n",
      "|  BF 173 .D63/E75|Erich Fromm'un ve...|     Dobrenkov, V.İ.|tur|Psychoanalysis\n",
      "Fr...|         0.0|\n",
      "|  BF 575 .H27/Y88|Hayatı kolaylaştı...|        Yüter, Ahmet|tur|Happiness\n",
      "Persona...|         0.0|\n",
      "|  BF 575 .K56/U98|Üzüntüden kurtulm...|ebu yusuf s-Sabba...|tur|Worry\n",
      "Success\n",
      "Üzü...|         0.0|\n",
      "|  BF 635 .G43/C34|Çağdaş yaşam ve n...|       Geçtan, Engin|tur|Psychology, Patho...|         0.0|\n",
      "| BF 637 .S4/H3819|Düşünce gücüyle t...|      Hay, Louise L.|tur|Self-Actualizatio...|         0.0|\n",
      "|BF 692.2 .S65/B36|Bana bilgiçlik ta...|     Solnit, Rebecca|tur|Sex Differences (...|         2.0|\n",
      "|     BF 698/.F746|Sahip olmak ya da...|        Fromm, Erich|tur|Personality\n",
      "Ontol...|         1.0|\n",
      "|  BF 723 .P25/C83|Geliştiren anne baba|    Cüceloğlu, Doğan|tur|Parent-Child Rela...|         2.0|\n",
      "|     BF 76.5/.B67|Research design a...| Bordens, Kenneth S.|eng|Psychology--Resea...|         4.0|\n",
      "| BJ 1291 .I43/I85|İslam büyüklerini...|        İmam Şa’rani|tur|Islamic Ethics\n",
      "İs...|         0.0|\n",
      "+-----------------+--------------------+--------------------+---+--------------------+------------+\n",
      "only showing top 20 rows\n",
      "\n"
     ]
    }
   ],
   "source": [
    "df1.fillna({'Ödünç Sayısı' : 0.0}).show()"
   ]
  },
  {
   "cell_type": "code",
   "execution_count": 24,
   "metadata": {},
   "outputs": [
    {
     "name": "stdout",
     "output_type": "stream",
     "text": [
      "+------------------+--------------------------+\n",
      "|         Sınıflama|gruplanmış konu başlıkları|\n",
      "+------------------+--------------------------+\n",
      "|   BF 635 .G43/C34|      [Psychology, Path...|\n",
      "|       D 16/.H3519|      [History--Methodo...|\n",
      "|   PL 248 .T67/D47|      [Short Stories, T...|\n",
      "| BP 189.7 .C58/O57|      [Jalal Al-Din Rum...|\n",
      "|    NK 3636.5/.L57|      [Hilye-i Şerif--E...|\n",
      "|     PN 1997/.F357|      [Crime Films\n",
      "Dram...|\n",
      "|   DR 479 .E85/P68|      [Europe--Relation...|\n",
      "|HQ 1726.7 .A37/T67|      [Women--Turkey\n",
      "Hu...|\n",
      "| HQ 767.9 .C36/R47|      [Child Developmen...|\n",
      "|  NA 1363 .K83/K66|      [Architecture, Se...|\n",
      "|   PN 6757 .K54/C3|      [Castro, Fidel, 1...|\n",
      "|     BP 63 .T8/B37|      [Islam--Turkey--2...|\n",
      "|       HV 42/.B676|      [Endowments--Hist...|\n",
      "|        Q 335/.R86|      [Artificial Intel...|\n",
      "|   BP 130.1/.M3719|      [Qur'an\n",
      "Kur’an-ı ...|\n",
      "| DR 438.5 .A36/F45|      [Turkey--History-...|\n",
      "|   PL 248 .Y55/H35|      [Turkish Literatu...|\n",
      "| BF 692.2 .S65/B36|      [Sex Differences ...|\n",
      "|        ND 867/.T9|      [Painting--Turkey...|\n",
      "|    GE 160 .T9/T86|      [Environmental Pr...|\n",
      "+------------------+--------------------------+\n",
      "only showing top 20 rows\n",
      "\n"
     ]
    }
   ],
   "source": [
    "df.groupBy(df['Sınıflama']).agg(collect_list('Konu Başlıkları').alias('gruplanmış konu başlıkları')).show()"
   ]
  },
  {
   "cell_type": "code",
   "execution_count": 25,
   "metadata": {},
   "outputs": [
    {
     "name": "stdout",
     "output_type": "stream",
     "text": [
      "+------------------+-----------------------------+--------------------+\n",
      "|         Sınıflama|collect_list(Konu Başlıkları)| collect_list(Yazar)|\n",
      "+------------------+-----------------------------+--------------------+\n",
      "|   BF 635 .G43/C34|         [Psychology, Path...|     [Geçtan, Engin]|\n",
      "|       D 16/.H3519|         [History--Methodo...|[Halkin, Léon-Ern...|\n",
      "|   PL 248 .T67/D47|         [Short Stories, T...|   [Toprak, Nurcan ]|\n",
      "| BP 189.7 .C58/O57|         [Jalal Al-Din Rum...|  [Çıtlak, M. Fatih]|\n",
      "|    NK 3636.5/.L57|         [Hilye-i Şerif--E...|                  []|\n",
      "|     PN 1997/.F357|         [Crime Films\n",
      "Dram...|                  []|\n",
      "|   DR 479 .E85/P68|         [Europe--Relation...| [Poumarede, Geraud]|\n",
      "|HQ 1726.7 .A37/T67|         [Women--Turkey\n",
      "Hu...|     [Aksoy, Nurgül]|\n",
      "| HQ 767.9 .C36/R47|         [Child Developmen...|    [Canan, İbrahim]|\n",
      "|  NA 1363 .K83/K66|         [Architecture, Se...|   [Küçükdağ, Yusuf]|\n",
      "|   PN 6757 .K54/C3|         [Castro, Fidel, 1...|  [Kleist, Reinhard]|\n",
      "|     BP 63 .T8/B37|         [Islam--Turkey--2...| [Bardakçıoğlu, Ali]|\n",
      "|       HV 42/.B676|         [Endowments--Hist...|          [, , , , ]|\n",
      "|        Q 335/.R86|         [Artificial Intel...|[Russell, Stuart ...|\n",
      "|   BP 130.1/.M3719|         [Qur'an\n",
      "Kur’an-ı ...|[Mevdûdî, Ebu’l-Ala]|\n",
      "| DR 438.5 .A36/F45|         [Turkey--History-...|       [Ahmed Refik]|\n",
      "|   PL 248 .Y55/H35|         [Turkish Literatu...| [Yıldırım, İbrahim]|\n",
      "| BF 692.2 .S65/B36|         [Sex Differences ...|   [Solnit, Rebecca]|\n",
      "|        ND 867/.T9|         [Painting--Turkey...|                  []|\n",
      "|    GE 160 .T9/T86|         [Environmental Pr...|    [Tunçer, Mehmet]|\n",
      "+------------------+-----------------------------+--------------------+\n",
      "only showing top 20 rows\n",
      "\n"
     ]
    }
   ],
   "source": [
    "df.groupBy(df['Sınıflama']).agg(collect_list('Konu Başlıkları'), collect_list('Yazar')).show()"
   ]
  },
  {
   "cell_type": "code",
   "execution_count": 29,
   "metadata": {},
   "outputs": [
    {
     "data": {
      "text/plain": [
       "[Row(Eser Adı=\"Psikoloji şerhi =  Telhisu kitabi'n-nefs\"),\n",
       " Row(Eser Adı='Çağımızın sorunları üstüne düşünceler'),\n",
       " Row(Eser Adı=\"Heidegger'in kulübesi\"),\n",
       " Row(Eser Adı='Bana bilgiçlik taslayan adamlar = Men explain things to me'),\n",
       " Row(Eser Adı='Sahip olmak ya da olmak'),\n",
       " Row(Eser Adı='Geliştiren anne baba'),\n",
       " Row(Eser Adı='Research design and methods : a process approach'),\n",
       " Row(Eser Adı='Hayriyye-i Nabi : inceleme-metin'),\n",
       " Row(Eser Adı='Din psikolojisi'),\n",
       " Row(Eser Adı=\"Mitoloji Kur'an kıssaları ve tarihi gerçeklik\"),\n",
       " Row(Eser Adı='Hadislerin dili : ilk hadis belgesi Hemmam’ın Sahifesi : tertip, terceme, yorum'),\n",
       " Row(Eser Adı='Güncel Dini Meseleler İstişare Toplantısı'),\n",
       " Row(Eser Adı='Neoliberal İslamcılık 1980-2015 : İslamcıların dünya sistemine entegrasyonu'),\n",
       " Row(Eser Adı='Cumhuriyet Türkiyesi’nde bir mesele olarak İslam'),\n",
       " Row(Eser Adı='Cumhuriyet Türkiyesi’nde bir mesele olarak İslam'),\n",
       " Row(Eser Adı='Kapitalizme eklemlenme : dindar orta sınıfta tüketim kültürü'),\n",
       " Row(Eser Adı='İslam’da münakaşaya hedef olan mes’eleler'),\n",
       " Row(Eser Adı='Kur’an ve sünnette itikat-ibadet ve ruh terbiyesi'),\n",
       " Row(Eser Adı=\"Manzum ve mensur Osmanlı hac seyahatnameleri ve Nabi'nin Tuhfetü'l Harameyn'i\"),\n",
       " Row(Eser Adı='Rumi ve aşkın terapi'),\n",
       " Row(Eser Adı='Yaşlanma dönemi din eğitimi'),\n",
       " Row(Eser Adı='Modernleşme, sekülerleşme ve protestanlaşma sürecinde degişen kentte dinî hayat ve fetva soruları'),\n",
       " Row(Eser Adı='Yirminci yüzyılda bir veli = A sufi saint of the twentieth century'),\n",
       " Row(Eser Adı='Hayal alemleri : Ibn Arabi ve dinlerin çeşitliliği meselesi = Imaginal worlds : Ibn al-ʻArabī and the problem of religious diversity'),\n",
       " Row(Eser Adı='Uygarlık tarihi'),\n",
       " Row(Eser Adı='When information came of age : technologies of knowledge in the age of reason and revolution, 1700-1850'),\n",
       " Row(Eser Adı='Le mythe de croisade'),\n",
       " Row(Eser Adı='Mukaddime III'),\n",
       " Row(Eser Adı='Kısa dünya tarihi'),\n",
       " Row(Eser Adı='Dünya tarihi : dünyamızı biçimlendiren olayların en güncel görsel kılavuzu : kronolojik zaman çizelgeli = History year by year'),\n",
       " Row(Eser Adı='Worlds together, worlds apart : a history of the world from the beginnings of humankind to the present'),\n",
       " Row(Eser Adı='Worlds together, worlds apart : a history of the world from the beginnings of humankind to the present'),\n",
       " Row(Eser Adı='Turcs et Turqueries : XVIe - XVIIIe siecles'),\n",
       " Row(Eser Adı='Kadın yok savaşın yüzünde = U voynu nye jenskoye litzo'),\n",
       " Row(Eser Adı=\"Berlin'den Türkler geçti 1871-1945 : Osmanlılı ve Türk tanıkların anılarında bir metropol = Türken in Berlin 1871-1945 : Erinnerungen eines Zeitzeugen\"),\n",
       " Row(Eser Adı='Doğu Batı : Düşünce Dergisi'),\n",
       " Row(Eser Adı='Türk dikkati'),\n",
       " Row(Eser Adı='Bir değirmendir bu dünya'),\n",
       " Row(Eser Adı='İzi kalır hatıraların : 30 söyleşi, 30 hayat hikâyesi'),\n",
       " Row(Eser Adı='Pour en finir avec la Croisade : mythes et réalités de la lutte contre les Turcs aux XVIe et XVIIe siècles'),\n",
       " Row(Eser Adı='Bildiğin gibi değil Osmanlı'),\n",
       " Row(Eser Adı='Belgrad 500 yıl sonra'),\n",
       " Row(Eser Adı='Arzın kapısı Kudüs : Mescid-i Aksa'),\n",
       " Row(Eser Adı='Kudüs : bir şehrin biyografisi = Jerusalem : the biography'),\n",
       " Row(Eser Adı='Osmanlı hakimiyetinde Arap toprakları, 1516-1800 = The Arab lands under Ottoman rule, 1516-1800'),\n",
       " Row(Eser Adı=\"D'Alep à Paris : les pérégrinations d'un jeune syrien au temps de Louis XIV\"),\n",
       " Row(Eser Adı='Friends and rivals in the East : studies in Anglo-Dutch relations in the Levant from the seventeenth to the early nineteenth century'),\n",
       " Row(Eser Adı='Ben, öteki ve ötesi : İslam-batı ilişkileri tarihine giriş'),\n",
       " Row(Eser Adı='Toplum ve bilim'),\n",
       " Row(Eser Adı='Sosyoloji yazıları = Essays in sociology'),\n",
       " Row(Eser Adı='Kapitalizmin ahlakı : üniversite hocanızın size söylemeyecekleri'),\n",
       " Row(Eser Adı='Kapital : ekonomi politiğin eleştirisi : sermayenin üretim süreci = Das kapital'),\n",
       " Row(Eser Adı='Örneklerle kolay ekonomi'),\n",
       " Row(Eser Adı='Modernleşme, İslam Dünyası ve Türkiye : Milletlerarası Tartışmalı İlmi Toplantı, 17-19 Kasım 2000, İstanbul'),\n",
       " Row(Eser Adı='Organizational theory, design, and change'),\n",
       " Row(Eser Adı='Osmanlı’da strateji ve askeri güç'),\n",
       " Row(Eser Adı='Statistics for business and economics'),\n",
       " Row(Eser Adı='Die höheren Beamten des Deutschen Zollvereins : eine bürokratische Funktionselite zwischen einzelstaatlichen Interessen und zwischenstaatlicher Integration (1834-1871)'),\n",
       " Row(Eser Adı=\"Langues et langages du commerce en Méditerranée et en Europe à l'époque moderne\"),\n",
       " Row(Eser Adı='Les Romains et le commerce'),\n",
       " Row(Eser Adı='Pazarlama ilkeleri'),\n",
       " Row(Eser Adı='Ticari cemaatler : kapitalizm dininin para tarikatları mı? : çok katmanlı pazarlama sisteminin açmazları'),\n",
       " Row(Eser Adı='La dette publique dans l\\'histoire : \"Les journées du Centre de recherches historiques\" des 26, 27 et 28 novembre 2001'),\n",
       " Row(Eser Adı='Küresel çağda nasıl bir gençlik?'),\n",
       " Row(Eser Adı=\"Türkiye'de sosyoloji : isimler-eserler\"),\n",
       " Row(Eser Adı='Sosyoloji nedir?'),\n",
       " Row(Eser Adı='Sosyolojik düşünmek = Thinking sociologically'),\n",
       " Row(Eser Adı=\"Bütün-beyinli çocuk = The whole-brain child : 12 revolutionary strategies to nurture your child's developing mind\"),\n",
       " Row(Eser Adı='Dest-i izdivaç'),\n",
       " Row(Eser Adı='Kar için değil halk için : eleştirel kent teorisi ve kent hakkı = Cities for people, not for profit : critical urban theory and the right to the city'),\n",
       " Row(Eser Adı=\"Le commerce des captifs : les intermédiaires dans l'échange et le rachat des prisonniers en Méditerraneé, XVe-XVIIIe siècle\"),\n",
       " Row(Eser Adı='Civil society : a reader in history, theory and global politics'),\n",
       " Row(Eser Adı='Tekno muhafazakarlığın eleştirisi : politik denemeler'),\n",
       " Row(Eser Adı='Liberalizm'),\n",
       " Row(Eser Adı='Liberalizm ve adaletin sınırları = Liberalism and the limits of justice'),\n",
       " Row(Eser Adı='Cumhurbaşkanlığı, başkanlık sistemi : nasıl bir sistem ve nasıl bir anayasa?'),\n",
       " Row(Eser Adı='Sustaining civil society : economic change, democracy, and the social construction of citizenship in Latin America'),\n",
       " Row(Eser Adı='Civil society under authoritarianism : the China model'),\n",
       " Row(Eser Adı='Staatsbürger, Untertanen und Andere : der Umgang mit ethnischer Heterogenität im Britischen Weltreich und im Habsburgerreich 1867-1918'),\n",
       " Row(Eser Adı='Göç sosyolojisi'),\n",
       " Row(Eser Adı='Barışın ideolojisi : liberal perspektiften uluslararası ilişkiler'),\n",
       " Row(Eser Adı='İdari yargı'),\n",
       " Row(Eser Adı='İdari yargılama hukuku'),\n",
       " Row(Eser Adı='İdare hukuku açısından kentsel dönüşüm'),\n",
       " Row(Eser Adı='Tüketici hukuku dersleri : 28.11.2013 tarih ve 6502 sayılı (yeni) tüketicinin korunması hakkında kanun ile açıklamalar, ilgili mevzuat ve tablolar'),\n",
       " Row(Eser Adı='Gelir vergisi : ders notları'),\n",
       " Row(Eser Adı='Vergi ceza hukuku : vergi kabahatleri ve suçları'),\n",
       " Row(Eser Adı='Lecture ready 2: strategies for academic listening, note- taking, and discussion'),\n",
       " Row(Eser Adı='Değerler eğitimi dergisi = Journal of values education'),\n",
       " Row(Eser Adı='Değerler eğitimi dergisi = Journal of values education'),\n",
       " Row(Eser Adı=\"Ta'lim-ül-müteallim : metin, tercüme, şerh\"),\n",
       " Row(Eser Adı='Media movements : civil society and media policy reform in Latin America'),\n",
       " Row(Eser Adı='Real reading : creating an authentic reading experience'),\n",
       " Row(Eser Adı='Lecture ready 3 : strategies for academic listening and speaking'),\n",
       " Row(Eser Adı='The Islamic context of the Thousand and one nights'),\n",
       " Row(Eser Adı='Doğu ve Batı = Orient et Occident'),\n",
       " Row(Eser Adı=\"İkbal'e dair\\n\\n\"),\n",
       " Row(Eser Adı='Mevlana Celaleddin-i Rumi : bütün eserleri : seçmeler'),\n",
       " Row(Eser Adı='Tanrı’nın seyir defteri ve bir öykü Hokecaş'),\n",
       " Row(Eser Adı='Sürgün ruhum = Hokis aksoryal'),\n",
       " Row(Eser Adı='Hece : aylık edebiyat dergisi'),\n",
       " Row(Eser Adı='Edebiyat tarihi yazıları : arşiv kayıtları, yazma eserler ve kayıp metinler'),\n",
       " Row(Eser Adı='Türk romanında aile kurumu : 1870-1970'),\n",
       " Row(Eser Adı='60 Türk romanı'),\n",
       " Row(Eser Adı='Meşrutiyet romanında yapı ve tema II'),\n",
       " Row(Eser Adı='Meşrutiyet romanında yapı ve tema I'),\n",
       " Row(Eser Adı='Batılılaşma açısından servet-i fünun romanı'),\n",
       " Row(Eser Adı=\"Türk romanına eleştirel bir bakış : Ahmet Mithat'tan Ahmet Hamdi Tanpınar'a\"),\n",
       " Row(Eser Adı='Türk romanına eleştirel bir bakış III : Sevgi Soysal’dan Bilge Karasu’ya'),\n",
       " Row(Eser Adı=\"Türk romanına eleştirel bir bakış 2 : Sabahattin Ali'den Yusuf Atılgan'a\"),\n",
       " Row(Eser Adı='19. yüzyıl Türk musikisinde Haşim Bey mecmuası'),\n",
       " Row(Eser Adı='Bir “Sabahattin Ali” romanı : yeşil mürekkep'),\n",
       " Row(Eser Adı='Güzel sanat suçları'),\n",
       " Row(Eser Adı='Memleket yazıları 8 : ağaç ve ahlak'),\n",
       " Row(Eser Adı='Huzursuzluk'),\n",
       " Row(Eser Adı='Osmanlı cadısı : bir İstanbul bilimkurgusu'),\n",
       " Row(Eser Adı='Necati Bey divanı'),\n",
       " Row(Eser Adı='Nedim divanı : metin ve tıpkıbasım'),\n",
       " Row(Eser Adı='Karun ve anarşist'),\n",
       " Row(Eser Adı='Esir şehir üçlemesi : esir şehrin insanları'),\n",
       " Row(Eser Adı='Esir şehir üçlemesi : esir şehrin mahpusu'),\n",
       " Row(Eser Adı='Depresyon hırkası'),\n",
       " Row(Eser Adı='Motorcycle diaries = Diarios de motocicleta = Motosiklet günlüğü'),\n",
       " Row(Eser Adı='Adaptation. = Tersyüz.'),\n",
       " Row(Eser Adı='Jason Bourne'),\n",
       " Row(Eser Adı=\"The Huntsman : winter's war = Avcı : kış savaşı\"),\n",
       " Row(Eser Adı=\"Don't breathe = Nefesini tut\"),\n",
       " Row(Eser Adı='Finding Dory = Kayıp balık Dori'),\n",
       " Row(Eser Adı='Ghostbusters = Hayalet avcıları'),\n",
       " Row(Eser Adı='Imperium = Köstebek'),\n",
       " Row(Eser Adı=\"Kidnapping of Freddy Heineken = Heineken'i kaçırmak\"),\n",
       " Row(Eser Adı='The nice guys = İyi adamlar'),\n",
       " Row(Eser Adı='Miss Peregrine’s home for peculiar children = Bayan Peregrine’in tuhaf çocukları'),\n",
       " Row(Eser Adı=\"Pete's dragon = Pete ve ejderhası\"),\n",
       " Row(Eser Adı='Me before you'),\n",
       " Row(Eser Adı='Kitap nasıl okunmalı? : bir okur olarak 2 = The common reader'),\n",
       " Row(Eser Adı='Muhteşem gatsby = The great Gatsby'),\n",
       " Row(Eser Adı='The great Gatsby'),\n",
       " Row(Eser Adı='Divan = Lying on the couch'),\n",
       " Row(Eser Adı='Kelebek adası'),\n",
       " Row(Eser Adı='Yeşil deniz kabuğu'),\n",
       " Row(Eser Adı='Artificial intelligence : a modern approach'),\n",
       " Row(Eser Adı='Linear algebra and its applications'),\n",
       " Row(Eser Adı='Yeryüzündeki en büyük gösteri : evrimin kanıtları = The greatest show on earth : the evidence for evolution'),\n",
       " Row(Eser Adı='Gen bencildir = The selfish gene'),\n",
       " Row(Eser Adı='Kaplanı uyandırmak : travmayı iyileştirmek, boğucu deneyimleri dönüştürmek için yaradılışımızdan gelen bir potansiyele sahibiz = Waking the tiger : healing trauma : the innate capacity  to transform overwhelming experiences'),\n",
       " Row(Eser Adı='Ey travma bizden uzak dur! = Trauma-proofing your kids'),\n",
       " Row(Eser Adı='Circulations techniques en amont de l’innovation : hommes, objets et idées en mouvement'),\n",
       " Row(Eser Adı='Probability and statistics for engineers and scientists'),\n",
       " Row(Eser Adı='Ara Güler'),\n",
       " Row(Eser Adı='La Marine française et ses réseaux économiques au XVIIIe siècle'),\n",
       " Row(Eser Adı='Ben buradan okuyorum : kitapların değişen dünyası = Where I’m reading from : the changing world of books'),\n",
       " Row(Eser Adı=\"Dersaadet'te bir Acem kitapçı : kitap-füruş Hacı Hüseyin Ağa\")]"
      ]
     },
     "execution_count": 29,
     "metadata": {},
     "output_type": "execute_result"
    }
   ],
   "source": [
    "df.filter(df['Ödünç Sayısı'] != 0.0).select(\"Eser Adı\").collect()"
   ]
  },
  {
   "cell_type": "code",
   "execution_count": null,
   "metadata": {},
   "outputs": [],
   "source": []
  }
 ],
 "metadata": {
  "kernelspec": {
   "display_name": "Python 3",
   "language": "python",
   "name": "python3"
  },
  "language_info": {
   "codemirror_mode": {
    "name": "ipython",
    "version": 3
   },
   "file_extension": ".py",
   "mimetype": "text/x-python",
   "name": "python",
   "nbconvert_exporter": "python",
   "pygments_lexer": "ipython3",
   "version": "3.6.5"
  }
 },
 "nbformat": 4,
 "nbformat_minor": 2
}

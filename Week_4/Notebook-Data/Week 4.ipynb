{
 "cells": [
  {
   "cell_type": "markdown",
   "metadata": {},
   "source": [
    "![\"NetflowData\"](netflowdata.png)"
   ]
  },
  {
   "cell_type": "code",
   "execution_count": 5,
   "metadata": {
    "collapsed": true
   },
   "outputs": [],
   "source": [
    "network = sc.textFile(\"NetflowData.txt\")"
   ]
  },
  {
   "cell_type": "code",
   "execution_count": 6,
   "metadata": {
    "collapsed": false
   },
   "outputs": [
    {
     "data": {
      "text/plain": [
       "[u'10.1.0.2,16.2.3.7,12,20K,http',\n",
       " u'18.6.7.1,12.4.0.3,16,24K,http',\n",
       " u'13.9.4.3,11.6.8.2,15,20K,http',\n",
       " u'15.2.2.9,17.1.2.1,19,40K,http',\n",
       " u'12.4.3.8,14.8.7.4,26,58K,http']"
      ]
     },
     "execution_count": 6,
     "metadata": {},
     "output_type": "execute_result"
    }
   ],
   "source": [
    "network.take(5)"
   ]
  },
  {
   "cell_type": "code",
   "execution_count": 7,
   "metadata": {
    "collapsed": false
   },
   "outputs": [
    {
     "data": {
      "text/plain": [
       "(u'http', u'10.1.0.2,16.2.3.7,12,20K,http')"
      ]
     },
     "execution_count": 7,
     "metadata": {},
     "output_type": "execute_result"
    }
   ],
   "source": [
    "network.map(lambda line: (line.split(\",\")[-1], line)).first()"
   ]
  },
  {
   "cell_type": "code",
   "execution_count": 8,
   "metadata": {
    "collapsed": false
   },
   "outputs": [
    {
     "data": {
      "text/plain": [
       "(u'http', u'20K')"
      ]
     },
     "execution_count": 8,
     "metadata": {},
     "output_type": "execute_result"
    }
   ],
   "source": [
    "network.map(lambda line: (line.split(\",\")[-1], line.split(\",\")[-2])).first()"
   ]
  },
  {
   "cell_type": "code",
   "execution_count": 9,
   "metadata": {
    "collapsed": true
   },
   "outputs": [],
   "source": [
    "tupled = network.map(lambda line: (line.split(\",\")[-1], line.split(\",\")[-2]))"
   ]
  },
  {
   "cell_type": "code",
   "execution_count": 10,
   "metadata": {
    "collapsed": false
   },
   "outputs": [
    {
     "data": {
      "text/plain": [
       "(u'http', u'20')"
      ]
     },
     "execution_count": 10,
     "metadata": {},
     "output_type": "execute_result"
    }
   ],
   "source": [
    "network.map(lambda line: (line.split(\",\")[-1], line.split(\",\")[-2][:-1])).first()"
   ]
  },
  {
   "cell_type": "code",
   "execution_count": 11,
   "metadata": {
    "collapsed": false
   },
   "outputs": [],
   "source": [
    "massaged = network.map(lambda line: (line.split(\",\")[-1], float(line.split(\",\")[-2][:-1])))"
   ]
  },
  {
   "cell_type": "code",
   "execution_count": 12,
   "metadata": {
    "collapsed": false
   },
   "outputs": [
    {
     "data": {
      "text/plain": [
       "(u'http', 20.0)"
      ]
     },
     "execution_count": 12,
     "metadata": {},
     "output_type": "execute_result"
    }
   ],
   "source": [
    "massaged.first()"
   ]
  },
  {
   "cell_type": "code",
   "execution_count": 111,
   "metadata": {
    "collapsed": false
   },
   "outputs": [
    {
     "data": {
      "text/plain": [
       "[(u'http', 1810.0), (u'ftp', 1203.0)]"
      ]
     },
     "execution_count": 111,
     "metadata": {},
     "output_type": "execute_result"
    }
   ],
   "source": [
    "massaged.reduceByKey(lambda x, y: x+y).collect()"
   ]
  },
  {
   "cell_type": "code",
   "execution_count": 47,
   "metadata": {
    "collapsed": false
   },
   "outputs": [
    {
     "data": {
      "text/plain": [
       "1203.0"
      ]
     },
     "execution_count": 47,
     "metadata": {},
     "output_type": "execute_result"
    }
   ],
   "source": [
    "sum([100.0, 300.0, 80.0, 300.0, 58.0, 100.0, 30.0, 80.0, 120.0, 35.0])"
   ]
  },
  {
   "cell_type": "code",
   "execution_count": 53,
   "metadata": {
    "collapsed": false
   },
   "outputs": [
    {
     "data": {
      "text/plain": [
       "(u'http', 20.0)"
      ]
     },
     "execution_count": 53,
     "metadata": {},
     "output_type": "execute_result"
    }
   ],
   "source": [
    "tupled.mapValues(lambda x: float(x[:-1])).first()"
   ]
  },
  {
   "cell_type": "code",
   "execution_count": 14,
   "metadata": {
    "collapsed": false
   },
   "outputs": [],
   "source": [
    "wordCounts = sc.textFile(\"README.md\")\\\n",
    "                .flatMap(lambda line: line.split())\\\n",
    "                .map(lambda word: word.lower())\\\n",
    "                .map(lambda word: (word,1))\\\n",
    "                .reduceByKey(lambda x,y: x+y)"
   ]
  },
  {
   "cell_type": "code",
   "execution_count": 15,
   "metadata": {
    "collapsed": false
   },
   "outputs": [
    {
     "data": {
      "text/plain": [
       "[(u'the', 22),\n",
       " (u'to', 16),\n",
       " (u'spark', 14),\n",
       " (u'for', 13),\n",
       " (u'and', 11),\n",
       " (u'a', 10),\n",
       " (u'##', 8),\n",
       " (u'run', 7),\n",
       " (u'you', 7),\n",
       " (u'is', 6),\n",
       " (u'can', 6),\n",
       " (u'on', 6),\n",
       " (u'also', 5),\n",
       " (u'of', 5),\n",
       " (u'in', 5),\n",
       " (u'with', 4),\n",
       " (u'building', 4),\n",
       " (u'example', 4),\n",
       " (u'if', 4),\n",
       " (u'hadoop', 4),\n",
       " (u'documentation', 4),\n",
       " (u'including', 3),\n",
       " (u'guidance', 3),\n",
       " (u'please', 3),\n",
       " (u'use', 3),\n",
       " (u'this', 3),\n",
       " (u'or', 3),\n",
       " (u'that', 3),\n",
       " (u'particular', 3),\n",
       " (u'an', 3),\n",
       " (u'programs', 3),\n",
       " (u'build', 3),\n",
       " (u'return', 2),\n",
       " (u'python', 2),\n",
       " (u'hive', 2),\n",
       " (u'[project', 2),\n",
       " (u'see', 2),\n",
       " (u'processing,', 2),\n",
       " (u'supports', 2),\n",
       " (u'running', 2),\n",
       " (u'detailed', 2),\n",
       " (u'shell:', 2),\n",
       " (u'following', 2),\n",
       " (u'tests', 2),\n",
       " (u'1000:', 2),\n",
       " (u'./bin/run-example', 2),\n",
       " (u'which', 2),\n",
       " (u'data', 2),\n",
       " (u'hadoop,', 2),\n",
       " (u'should', 2),\n",
       " (u'python,', 2),\n",
       " (u'using', 2),\n",
       " (u'refer', 2),\n",
       " (u'set', 2),\n",
       " (u'be', 2),\n",
       " (u'examples', 2),\n",
       " (u'scala', 2),\n",
       " (u'command,', 2),\n",
       " (u'do', 2),\n",
       " (u'`examples`', 2),\n",
       " (u'interactive', 2),\n",
       " (u'one', 2),\n",
       " (u'shell', 2),\n",
       " (u'versions', 2),\n",
       " (u'how', 2),\n",
       " (u'locally', 2),\n",
       " (u'at', 2),\n",
       " (u'it', 2),\n",
       " (u'general', 2),\n",
       " (u'cluster', 2),\n",
       " (u'sparkpi', 2),\n",
       " (u'online', 2),\n",
       " (u'sql', 2),\n",
       " (u'class', 2),\n",
       " (u'all', 1),\n",
       " (u'when', 1),\n",
       " (u'alternatively,', 1),\n",
       " (u'\"local\"', 1),\n",
       " (u'computation', 1),\n",
       " (u'note', 1),\n",
       " (u'using:', 1),\n",
       " (u'environment', 1),\n",
       " (u'only', 1),\n",
       " (u'spark](#building-spark).', 1),\n",
       " (u'rich', 1),\n",
       " (u'usage', 1),\n",
       " (u'sc.parallelize(range(1000)).count()', 1),\n",
       " (u'guide,', 1),\n",
       " (u'-dskiptests', 1),\n",
       " (u'scala,', 1),\n",
       " (u'print', 1),\n",
       " (u'not', 1),\n",
       " (u'scala>', 1),\n",
       " (u'cluster.', 1),\n",
       " (u'try', 1),\n",
       " (u'./bin/pyspark', 1),\n",
       " (u'have', 1),\n",
       " (u'params', 1),\n",
       " (u'through', 1),\n",
       " (u'[run', 1),\n",
       " (u'abbreviated', 1),\n",
       " (u'library', 1),\n",
       " (u'will', 1),\n",
       " (u'#', 1),\n",
       " (u'provides', 1),\n",
       " (u'readme', 1),\n",
       " (u'[params]`.', 1),\n",
       " (u'available', 1),\n",
       " (u'built,', 1),\n",
       " (u'apache', 1),\n",
       " (u'example:', 1),\n",
       " (u'about', 1),\n",
       " (u'programming', 1),\n",
       " (u'against', 1),\n",
       " (u'site,', 1),\n",
       " (u'comes', 1),\n",
       " (u'package.)', 1),\n",
       " (u'prefer', 1),\n",
       " (u'documentation,', 1),\n",
       " (u'submit', 1),\n",
       " (u'tools', 1),\n",
       " (u'from', 1),\n",
       " (u'package.', 1),\n",
       " (u'fast', 1),\n",
       " (u'systems.', 1),\n",
       " (u'<http://spark.apache.org/>', 1),\n",
       " (u'way', 1),\n",
       " (u'master', 1),\n",
       " (u'[apache', 1),\n",
       " (u'engine', 1),\n",
       " (u'[\"specifying', 1),\n",
       " (u'version\"](http://spark.apache.org/docs/latest/building-with-maven.html#specifying-the-hadoop-version)',\n",
       "  1),\n",
       " (u'instance:', 1),\n",
       " (u'protocols', 1),\n",
       " (u'setup', 1),\n",
       " (u'project', 1),\n",
       " (u'distribution', 1),\n",
       " (u'hadoop-supported', 1),\n",
       " (u'maven](http://maven.apache.org/).', 1),\n",
       " (u'thriftserver', 1),\n",
       " (u'file', 1),\n",
       " (u'stream', 1),\n",
       " (u'higher-level', 1),\n",
       " (u'sample', 1),\n",
       " (u'need', 1),\n",
       " (u'instructions.', 1),\n",
       " (u'[building', 1),\n",
       " (u'different', 1),\n",
       " (u'programs,', 1),\n",
       " (u'storage', 1),\n",
       " (u'same', 1),\n",
       " (u'machine', 1),\n",
       " (u'distributions\"](http://spark.apache.org/docs/latest/hadoop-third-party-distributions.html)',\n",
       "  1),\n",
       " (u'sc.parallelize(1', 1),\n",
       " (u'locally.', 1),\n",
       " (u'optimized', 1),\n",
       " (u'uses', 1),\n",
       " (u'variable', 1),\n",
       " (u'graphx', 1),\n",
       " (u'processing.', 1),\n",
       " (u'./bin/spark-shell', 1),\n",
       " (u'mvn', 1),\n",
       " (u'clean', 1),\n",
       " (u'requires', 1),\n",
       " (u'talk', 1),\n",
       " (u'help', 1),\n",
       " (u'automated', 1),\n",
       " (u'high-level', 1),\n",
       " (u'find', 1),\n",
       " (u'web', 1),\n",
       " (u'system', 1),\n",
       " (u'graph', 1),\n",
       " (u'run:', 1),\n",
       " (u'given.', 1),\n",
       " (u'directory.', 1),\n",
       " (u'big', 1),\n",
       " (u'\"yarn-client\"', 1),\n",
       " (u'name', 1),\n",
       " (u'testing', 1),\n",
       " (u'spark.', 1),\n",
       " (u'[\"third', 1),\n",
       " (u'works', 1),\n",
       " (u'\"yarn-cluster\"', 1),\n",
       " (u'[\"building', 1),\n",
       " (u'thread,', 1),\n",
       " (u'streaming', 1),\n",
       " (u'runs.', 1),\n",
       " (u'hdfs', 1),\n",
       " (u'url,', 1),\n",
       " (u'its', 1),\n",
       " (u'version', 1),\n",
       " (u'`./bin/run-example', 1),\n",
       " (u'core', 1),\n",
       " (u'master=spark://host:7077', 1),\n",
       " (u'downloaded', 1),\n",
       " (u'distributions.', 1),\n",
       " (u'configuration', 1),\n",
       " (u'them,', 1),\n",
       " (u'package', 1),\n",
       " (u'changed', 1),\n",
       " (u'\"local[n]\"', 1),\n",
       " (u'learning,', 1),\n",
       " (u'structured', 1),\n",
       " (u'overview', 1),\n",
       " (u'because', 1),\n",
       " (u'analysis.', 1),\n",
       " (u'yarn,', 1),\n",
       " (u'your', 1),\n",
       " (u'threads.', 1),\n",
       " (u'are', 1),\n",
       " (u'once', 1),\n",
       " (u'>>>', 1),\n",
       " (u'spark://', 1),\n",
       " (u'contains', 1),\n",
       " (u'mllib', 1),\n",
       " (u'start', 1),\n",
       " (u'basic', 1),\n",
       " (u'pi', 1),\n",
       " (u'more', 1),\n",
       " (u'spark\"](http://spark.apache.org/docs/latest/building-spark.html).', 1),\n",
       " (u'configure', 1),\n",
       " (u'java,', 1),\n",
       " (u'guide](http://spark.apache.org/docs/latest/configuration.html)', 1),\n",
       " (u'easiest', 1),\n",
       " (u'must', 1),\n",
       " (u'n', 1),\n",
       " (u'<class>', 1),\n",
       " (u'many', 1),\n",
       " (u'mesos://', 1),\n",
       " (u'computing', 1),\n",
       " (u'1000).count()', 1),\n",
       " (u'wiki](https://cwiki.apache.org/confluence/display/spark).', 1),\n",
       " (u'data.', 1),\n",
       " (u'built', 1),\n",
       " (u'no', 1),\n",
       " (u'apis', 1),\n",
       " (u'application', 1),\n",
       " (u'other', 1),\n",
       " (u'party', 1),\n",
       " (u'several', 1),\n",
       " (u'[configuration', 1),\n",
       " (u'distribution.', 1),\n",
       " (u'tests](https://cwiki.apache.org/confluence/display/spark/contributing+to+spark#contributingtospark-automatedtesting).',\n",
       "  1),\n",
       " (u'page](http://spark.apache.org/documentation.html)', 1),\n",
       " (u'pre-built', 1),\n",
       " (u'graphs', 1),\n",
       " (u'./dev/run-tests', 1),\n",
       " (u'(you', 1),\n",
       " (u'first', 1),\n",
       " (u'latest', 1)]"
      ]
     },
     "execution_count": 15,
     "metadata": {},
     "output_type": "execute_result"
    }
   ],
   "source": [
    "wordCounts.sortBy(lambda x: -1 * x[1]).collect()"
   ]
  },
  {
   "cell_type": "code",
   "execution_count": null,
   "metadata": {
    "collapsed": true
   },
   "outputs": [],
   "source": []
  }
 ],
 "metadata": {
  "kernelspec": {
   "display_name": "Python 2",
   "language": "python",
   "name": "python2"
  },
  "language_info": {
   "codemirror_mode": {
    "name": "ipython",
    "version": 2
   },
   "file_extension": ".py",
   "mimetype": "text/x-python",
   "name": "python",
   "nbconvert_exporter": "python",
   "pygments_lexer": "ipython2",
   "version": "2.7.10"
  }
 },
 "nbformat": 4,
 "nbformat_minor": 0
}

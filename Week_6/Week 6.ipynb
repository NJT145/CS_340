{
 "cells": [
  {
   "cell_type": "markdown",
   "metadata": {},
   "source": [
    "# Create DataFrames and work them out till they are fat-free."
   ]
  },
  {
   "cell_type": "code",
   "execution_count": 2,
   "metadata": {
    "collapsed": true
   },
   "outputs": [],
   "source": [
    "from pyspark.sql import SQLContext\n",
    "sqlContext = SQLContext(sc)\n",
    "\n",
    "spark = sqlContext.sparkSession\n",
    "df = spark.read.json(\"inventory.json\")"
   ]
  },
  {
   "cell_type": "code",
   "execution_count": 3,
   "metadata": {
    "collapsed": false
   },
   "outputs": [
    {
     "name": "stdout",
     "output_type": "stream",
     "text": [
      "+--------+-----------+--------+---------------+--------+--------+----------------+--------------------+------------+---------+-----------+------------+--------------------+------------+-----------------+------+\n",
      "|   Brand|BuyCurrency|BuyPrice|       Category|      Id|LeadTime|MinOrderQuantity|                Name|SellCurrency|SellPrice|StockOnHand|StockOnOrder|         SubCategory|    Supplier|TargetBatchVolume|Volume|\n",
      "+--------+-----------+--------+---------------+--------+--------+----------------+--------------------+------------+---------+-----------+------------+--------------------+------------+-----------------+------+\n",
      "| StarTAC|        GBP|   27.67|     Technology|16342939|      15|               1|      StarTAC Series|         USD|    65.99|         15|          50|Telephones and Co...|Office First|              0.0|   0.8|\n",
      "|   Xerox|        CNY|    29.8|Office Supplies|16346727|       5|               1|          Xerox 1984|         USD|     6.48|         34|           1|               Paper|      Drecom|             67.5|  0.47|\n",
      "|   Xerox|        CNY|  219.54|Office Supplies|16346853|      10|               1|          Xerox 1885|         USD|    48.04|         16|          40|               Paper|      Drecom|             67.5|  0.55|\n",
      "|   Elite|        CNY|   34.12|Office Supplies|16350870|      12|               1|Elite 5 inch Scis...|         USD|     8.45|          0|           3|Scissors, Rulers ...|         FHL|              0.0|  0.85|\n",
      "|  Wilson|        CNY|    31.3|Office Supplies|16359070|      33|              10|Wilson Jones Dubl...|         USD|     6.75|         30|           0|Binders and Binde...| SuperSupply|              0.0|  0.12|\n",
      "|MicroTAC|        CNY|  261.48|     Technology|16376266|       5|               1|        MicroTAC 650|         USD|    65.99|          5|           1|Telephones and Co...|      Drecom|             67.5|  0.55|\n",
      "|   V3682|        CNY|  496.04|     Technology|16379125|       5|               1|               V3682|         USD|   125.99|         10|           0|Telephones and Co...|         FHL|              0.0|  0.41|\n",
      "|   Xerox|        CNY|  218.85|Office Supplies|16395266|      14|               1|          Xerox 1938|         USD|     47.9|         25|           0|               Paper|      Drecom|             67.5|  0.84|\n",
      "| Staples|        CNY|   25.79|Office Supplies|16397221|      17|              25|Staples Standard ...|         USD|     5.68|          0|          75|           Envelopes|     Logipro|             33.1|  0.12|\n",
      "| StarTAC|        GBP|   48.64|     Technology|16402632|      18|               1|        StarTAC 7797|         USD|   115.99|          0|           2|Telephones and Co...|Office First|              0.0|  0.97|\n",
      "|   Avery|        CNY|  188.61|Office Supplies|16405635|      20|              30|Avery Trapezoid R...|         USD|    40.98|          0|          30|Binders and Binde...|         FHL|              0.0|  0.13|\n",
      "|Anderson|        CNY|   54.15|      Furniture|16406897|       5|               1|Anderson Hickey C...|         USD|    15.23|         14|           0|              Tables|         FHL|              0.0|  0.84|\n",
      "|   SAFCO|        CNY| 2187.56|      Furniture|16411763|       5|               1|SAFCO PlanMaster ...|         USD|   349.45|         23|           4|              Tables| SuperSupply|              0.0|  0.55|\n",
      "|   Canon|        GBP|   89.04|     Technology|16413246|      24|               1|Canon PC-428 Pers...|         USD|   199.99|         11|           0|     Copiers and Fax|Office First|              0.0|   0.9|\n",
      "|It's Hot|        CNY|   33.12|Office Supplies|16421400|      33|              20|It's Hot Message ...|         USD|      7.4|          0|          60|               Paper|      Drecom|             67.5|  0.12|\n",
      "|Electrix|        PLN|   36.68|      Furniture|16422303|      20|              30|Electrix 20W Halo...|         USD|     13.4|         22|           0|  Office Furnishings|         RRD|              0.0|  0.11|\n",
      "|   Safco|        CNY|  444.33|      Furniture|16425918|      18|              25|Safco Value Mate ...|         USD|    70.98|          0|          25|           Bookcases| SuperSupply|              0.0|  0.07|\n",
      "| Catalog|        CNY|  300.86|Office Supplies|16429400|      27|              50|Catalog Binders w...|         USD|    67.28|          0|         150|Binders and Binde...|      Drecom|             67.5|  0.11|\n",
      "|  Belkin|        CNY|   42.88|Office Supplies|16431437|      22|               1|Belkin 6 Outlet M...|         USD|    10.89|         35|           0|          Appliances|         FHL|              0.0|  0.99|\n",
      "|    Iris|        CNY|   71.49|Office Supplies|16437390|      17|              45|Iris 3-Drawer Sta...|         USD|    20.89|          0|         135|Storage & Organiz...|     Logipro|             33.1|  0.11|\n",
      "+--------+-----------+--------+---------------+--------+--------+----------------+--------------------+------------+---------+-----------+------------+--------------------+------------+-----------------+------+\n",
      "only showing top 20 rows\n",
      "\n"
     ]
    }
   ],
   "source": [
    "df.show()"
   ]
  },
  {
   "cell_type": "code",
   "execution_count": 4,
   "metadata": {
    "collapsed": false
   },
   "outputs": [
    {
     "name": "stdout",
     "output_type": "stream",
     "text": [
      "root\n",
      " |-- Brand: string (nullable = true)\n",
      " |-- BuyCurrency: string (nullable = true)\n",
      " |-- BuyPrice: double (nullable = true)\n",
      " |-- Category: string (nullable = true)\n",
      " |-- Id: long (nullable = true)\n",
      " |-- LeadTime: long (nullable = true)\n",
      " |-- MinOrderQuantity: long (nullable = true)\n",
      " |-- Name: string (nullable = true)\n",
      " |-- SellCurrency: string (nullable = true)\n",
      " |-- SellPrice: double (nullable = true)\n",
      " |-- StockOnHand: long (nullable = true)\n",
      " |-- StockOnOrder: long (nullable = true)\n",
      " |-- SubCategory: string (nullable = true)\n",
      " |-- Supplier: string (nullable = true)\n",
      " |-- TargetBatchVolume: double (nullable = true)\n",
      " |-- Volume: double (nullable = true)\n",
      "\n"
     ]
    }
   ],
   "source": [
    "df.printSchema()"
   ]
  },
  {
   "cell_type": "code",
   "execution_count": 5,
   "metadata": {
    "collapsed": false
   },
   "outputs": [
    {
     "name": "stdout",
     "output_type": "stream",
     "text": [
      "+---------------+--------+\n",
      "|       Category|   Brand|\n",
      "+---------------+--------+\n",
      "|     Technology| StarTAC|\n",
      "|Office Supplies|   Xerox|\n",
      "|Office Supplies|   Xerox|\n",
      "|Office Supplies|   Elite|\n",
      "|Office Supplies|  Wilson|\n",
      "|     Technology|MicroTAC|\n",
      "|     Technology|   V3682|\n",
      "|Office Supplies|   Xerox|\n",
      "|Office Supplies| Staples|\n",
      "|     Technology| StarTAC|\n",
      "|Office Supplies|   Avery|\n",
      "|      Furniture|Anderson|\n",
      "|      Furniture|   SAFCO|\n",
      "|     Technology|   Canon|\n",
      "|Office Supplies|It's Hot|\n",
      "|      Furniture|Electrix|\n",
      "|      Furniture|   Safco|\n",
      "|Office Supplies| Catalog|\n",
      "|Office Supplies|  Belkin|\n",
      "|Office Supplies|    Iris|\n",
      "+---------------+--------+\n",
      "only showing top 20 rows\n",
      "\n"
     ]
    }
   ],
   "source": [
    "df.select(\"Category\", \"Brand\").show()"
   ]
  },
  {
   "cell_type": "code",
   "execution_count": 6,
   "metadata": {
    "collapsed": false
   },
   "outputs": [
    {
     "name": "stdout",
     "output_type": "stream",
     "text": [
      "+--------+------------------+\n",
      "|   Brand|      (Volume + 1)|\n",
      "+--------+------------------+\n",
      "| StarTAC|               1.8|\n",
      "|   Xerox|              1.47|\n",
      "|   Xerox|              1.55|\n",
      "|   Elite|              1.85|\n",
      "|  Wilson|              1.12|\n",
      "|MicroTAC|              1.55|\n",
      "|   V3682|              1.41|\n",
      "|   Xerox|1.8399999999999999|\n",
      "| Staples|              1.12|\n",
      "| StarTAC|              1.97|\n",
      "|   Avery|              1.13|\n",
      "|Anderson|1.8399999999999999|\n",
      "|   SAFCO|              1.55|\n",
      "|   Canon|               1.9|\n",
      "|It's Hot|              1.12|\n",
      "|Electrix|              1.11|\n",
      "|   Safco|              1.07|\n",
      "| Catalog|              1.11|\n",
      "|  Belkin|              1.99|\n",
      "|    Iris|              1.11|\n",
      "+--------+------------------+\n",
      "only showing top 20 rows\n",
      "\n"
     ]
    }
   ],
   "source": [
    "df.select(df['Brand'], df['Volume'] + 1).show()"
   ]
  },
  {
   "cell_type": "code",
   "execution_count": 7,
   "metadata": {
    "collapsed": false
   },
   "outputs": [
    {
     "name": "stdout",
     "output_type": "stream",
     "text": [
      "+--------+----------+---------+\n",
      "|      Id|  Category|SellPrice|\n",
      "+--------+----------+---------+\n",
      "|16342939|Technology|    65.99|\n",
      "|16376266|Technology|    65.99|\n",
      "|16379125|Technology|   125.99|\n",
      "|16402632|Technology|   115.99|\n",
      "|16413246|Technology|   199.99|\n",
      "|16468556|Technology|    33.98|\n",
      "|16492459|Technology|   499.99|\n",
      "|16505852|Technology|   517.48|\n",
      "|16513635|Technology|    99.99|\n",
      "|16554562|Technology|    15.99|\n",
      "|16579736|Technology|    73.98|\n",
      "|16616835|Technology|   100.98|\n",
      "|16627009|Technology|    14.48|\n",
      "|16645340|Technology|   125.99|\n",
      "|16688388|Technology|    204.1|\n",
      "|16704002|Technology|   100.97|\n",
      "|16711687|Technology|    20.97|\n",
      "|16726527|Technology|      8.5|\n",
      "|16728666|Technology|     4.77|\n",
      "|16730738|Technology|    22.24|\n",
      "+--------+----------+---------+\n",
      "only showing top 20 rows\n",
      "\n"
     ]
    }
   ],
   "source": [
    "df.filter(df['Category'] == 'Technology').select([\"Id\",\"Category\",\"SellPrice\"]).show()"
   ]
  },
  {
   "cell_type": "code",
   "execution_count": 8,
   "metadata": {
    "collapsed": false
   },
   "outputs": [
    {
     "name": "stdout",
     "output_type": "stream",
     "text": [
      "+---------------+-----+\n",
      "|       Category|count|\n",
      "+---------------+-----+\n",
      "|Office Supplies|   68|\n",
      "|      Furniture|   11|\n",
      "|     Technology|   21|\n",
      "+---------------+-----+\n",
      "\n"
     ]
    }
   ],
   "source": [
    "df.groupBy(\"Category\").count().show()"
   ]
  },
  {
   "cell_type": "code",
   "execution_count": null,
   "metadata": {
    "collapsed": true
   },
   "outputs": [],
   "source": []
  }
 ],
 "metadata": {
  "kernelspec": {
   "display_name": "Python 2",
   "language": "python",
   "name": "python2"
  },
  "language_info": {
   "codemirror_mode": {
    "name": "ipython",
    "version": 2
   },
   "file_extension": ".py",
   "mimetype": "text/x-python",
   "name": "python",
   "nbconvert_exporter": "python",
   "pygments_lexer": "ipython2",
   "version": "2.7.10"
  }
 },
 "nbformat": 4,
 "nbformat_minor": 1
}

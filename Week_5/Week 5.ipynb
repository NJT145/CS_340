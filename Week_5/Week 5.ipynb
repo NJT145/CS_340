{
 "cells": [
  {
   "cell_type": "code",
   "execution_count": 2,
   "metadata": {},
   "outputs": [
    {
     "name": "stdout",
     "output_type": "stream",
     "text": [
      "Here are the data columns:\n",
      "\n",
      "Timestamp\n",
      "Standing\n",
      "Do you feel like you are getting a satisfactory undergraduate CS education at ŞEHİR?\n",
      "Would you recommend ŞEHİR CS to your friends?\n",
      "What are the strengths of ŞEHİR CS?\n",
      "What are the weaknesses of ŞEHİR CS?\n",
      "If you were given the opportunity, what would you change regarding undergraduate CS education at ŞEHİR?\n"
     ]
    }
   ],
   "source": [
    "rdd = sc.textFile(\"CS Satisfaction Report.tsv\")\n",
    "print \"Here are the data columns:\\n\"\n",
    "for col in rdd.first().split(\"\\t\"):\n",
    "    print col"
   ]
  },
  {
   "cell_type": "code",
   "execution_count": 3,
   "metadata": {},
   "outputs": [
    {
     "data": {
      "text/plain": [
       "[u'Timestamp\\tStanding\\tDo you feel like you are getting a satisfactory undergraduate CS education at \\u015eEH\\u0130R?\\tWould you recommend \\u015eEH\\u0130R CS to your friends?\\tWhat are the strengths of \\u015eEH\\u0130R CS?\\tWhat are the weaknesses of \\u015eEH\\u0130R CS?\\tIf you were given the opportunity, what would you change regarding undergraduate CS education at \\u015eEH\\u0130R?',\n",
       " u'12/12/2016 11:07:03\\tJunior (Year 3)\\tMaybe\\tMaybe\\tStrength education, homeworks, assignments. They force to study very well\\tTeaching assistants not very effective extends some of these. \\tI dont think about that.',\n",
       " u'12/12/2016 11:07:35\\tJunior (Year 3)\\tYes\\tYes\\tRules \\tRules of the department\\tCurriculum , and some courses  ',\n",
       " u'12/12/2016 11:10:29\\tJunior (Year 3)\\tYes\\tYes\\tExperienced lecturers, courses offered give the opportunity of becoming a versatile engineer after graduation, \\tLow number of lecturers, combination of some CS courses with EE courses, \\tI would make it more CS based rather than mixing some CS stuff with EE(except those that are must-know for CS students). ',\n",
       " u'12/12/2016 11:12:34\\tJunior (Year 3)\\tMaybe\\tNo\\tProjects give experiences about  business life for future.\\tAssistants are not sufficient and they do not have experience about teaching the courses.\\tI want to teach the system and teaching  procedure with assistants. Assistants should have more experience. ']"
      ]
     },
     "execution_count": 3,
     "metadata": {},
     "output_type": "execute_result"
    }
   ],
   "source": [
    "rdd.take(5)"
   ]
  },
  {
   "cell_type": "markdown",
   "metadata": {},
   "source": [
    "<h1>Indexing</h1>\n",
    "\n",
    "<h2><i>zipWithIndex</i> zips this RDD with its element indices.\n",
    "\n",
    "<p>\n",
    "The ordering is first based on the partition index and then \n",
    "the ordering of items within each partition. \n",
    "<p>\n",
    "So the first item in the first partition gets index 0, and \n",
    "the last item in the last partition receives the largest index.\n",
    "</h2>"
   ]
  },
  {
   "cell_type": "code",
   "execution_count": 4,
   "metadata": {},
   "outputs": [],
   "source": [
    "rdd2 = rdd.zipWithIndex()\\\n",
    "            .filter(lambda x: x[1] > 0)\\\n",
    "            .map(lambda x: x[0])\\\n",
    "            .map(lambda t: (t.split(\"\\t\")[1].lower().strip(),t))"
   ]
  },
  {
   "cell_type": "code",
   "execution_count": 5,
   "metadata": {},
   "outputs": [
    {
     "data": {
      "text/plain": [
       "[(u'junior (year 3)',\n",
       "  u'12/12/2016 11:07:03\\tJunior (Year 3)\\tMaybe\\tMaybe\\tStrength education, homeworks, assignments. They force to study very well\\tTeaching assistants not very effective extends some of these. \\tI dont think about that.'),\n",
       " (u'junior (year 3)',\n",
       "  u'12/12/2016 11:07:35\\tJunior (Year 3)\\tYes\\tYes\\tRules \\tRules of the department\\tCurriculum , and some courses  ')]"
      ]
     },
     "execution_count": 5,
     "metadata": {},
     "output_type": "execute_result"
    }
   ],
   "source": [
    "rdd2.take(2)"
   ]
  },
  {
   "cell_type": "code",
   "execution_count": 6,
   "metadata": {},
   "outputs": [],
   "source": [
    "prdd = rdd2.partitionBy(5)"
   ]
  },
  {
   "cell_type": "code",
   "execution_count": 7,
   "metadata": {},
   "outputs": [
    {
     "data": {
      "text/plain": [
       "5"
      ]
     },
     "execution_count": 7,
     "metadata": {},
     "output_type": "execute_result"
    }
   ],
   "source": [
    "prdd.getNumPartitions()"
   ]
  },
  {
   "cell_type": "code",
   "execution_count": 8,
   "metadata": {},
   "outputs": [
    {
     "data": {
      "text/plain": [
       "[2, 11, 20, 0, 25]"
      ]
     },
     "execution_count": 8,
     "metadata": {},
     "output_type": "execute_result"
    }
   ],
   "source": [
    "prdd.mapPartitions(lambda items: [len(list(items))])\\\n",
    "    .collect()"
   ]
  },
  {
   "cell_type": "code",
   "execution_count": 17,
   "metadata": {},
   "outputs": [
    {
     "data": {
      "text/plain": [
       "[(u'freshmen (year 1)', (u'Yes', u'Yes')),\n",
       " (u'', (u'No', u'No')),\n",
       " (u'sophomore (year 2)', (u'No', u'No')),\n",
       " (u'sophomore (year 2)', (u'No', u'No')),\n",
       " (u'sophomore (year 2)', (u'Maybe', u'Maybe')),\n",
       " (u'sophomore (year 2)', (u'No', u'Maybe')),\n",
       " (u'sophomore (year 2)', (u'No', u'No')),\n",
       " (u'sophomore (year 2)', (u'No', u'No')),\n",
       " (u'sophomore (year 2)', (u'Maybe', u'Maybe')),\n",
       " (u'sophomore (year 2)', (u'Maybe', u'Maybe')),\n",
       " (u'sophomore (year 2)', (u'Maybe', u'No')),\n",
       " (u'sophomore (year 2)', (u'No', u'Maybe')),\n",
       " (u'sophomore (year 2)', (u'Maybe', u'Yes')),\n",
       " (u'senior (year 4)', (u'Maybe', u'Yes')),\n",
       " (u'senior (year 4)', (u'Maybe', u'No')),\n",
       " (u'senior (year 4)', (u'Maybe', u'Maybe')),\n",
       " (u'senior (year 4)', (u'Maybe', u'Maybe')),\n",
       " (u'senior (year 4)', (u'Yes', u'Yes')),\n",
       " (u'senior (year 4)', (u'No', u'Maybe')),\n",
       " (u'senior (year 4)', (u'Maybe', u'Maybe')),\n",
       " (u'senior (year 4)', (u'Maybe', u'No')),\n",
       " (u'senior (year 4)', (u'Maybe', u'Maybe')),\n",
       " (u'senior (year 4)', (u'Maybe', u'Yes')),\n",
       " (u'senior (year 4)', (u'No', u'No')),\n",
       " (u'senior (year 4)', (u'Maybe', u'Maybe')),\n",
       " (u'senior (year 4)', (u'Maybe', u'Maybe')),\n",
       " (u'senior (year 4)', (u'Maybe', u'Maybe')),\n",
       " (u'senior (year 4)', (u'Yes', u'No')),\n",
       " (u'senior (year 4)', (u'Yes', u'Yes')),\n",
       " (u'senior (year 4)', (u'No', u'Yes')),\n",
       " (u'senior (year 4)', (u'Maybe', u'Maybe')),\n",
       " (u'senior (year 4)', (u'No', u'Yes')),\n",
       " (u'senior (year 4)', (u'No', u'No')),\n",
       " (u'junior (year 3)', (u'Maybe', u'Maybe')),\n",
       " (u'junior (year 3)', (u'Yes', u'Yes')),\n",
       " (u'junior (year 3)', (u'Yes', u'Yes')),\n",
       " (u'junior (year 3)', (u'Maybe', u'No')),\n",
       " (u'junior (year 3)', (u'Yes', u'Yes')),\n",
       " (u'junior (year 3)', (u'No', u'Maybe')),\n",
       " (u'junior (year 3)', (u'Maybe', u'No')),\n",
       " (u'junior (year 3)', (u'Maybe', u'Maybe')),\n",
       " (u'junior (year 3)', (u'Maybe', u'Yes')),\n",
       " (u'junior (year 3)', (u'No', u'Yes')),\n",
       " (u'junior (year 3)', (u'Yes', u'Yes')),\n",
       " (u'junior (year 3)', (u'Maybe', u'Yes')),\n",
       " (u'junior (year 3)', (u'Yes', u'Yes')),\n",
       " (u'junior (year 3)', (u'Maybe', u'No')),\n",
       " (u'junior (year 3)', (u'Maybe', u'No')),\n",
       " (u'junior (year 3)', (u'Maybe', u'Maybe')),\n",
       " (u'junior (year 3)', (u'No', u'No')),\n",
       " (u'junior (year 3)', (u'Maybe', u'No')),\n",
       " (u'junior (year 3)', (u'No', u'Yes')),\n",
       " (u'junior (year 3)', (u'No', u'Yes')),\n",
       " (u'junior (year 3)', (u'Maybe', u'Maybe')),\n",
       " (u'junior (year 3)', (u'Maybe', u'Maybe')),\n",
       " (u'junior (year 3)', (u'Maybe', u'Maybe')),\n",
       " (u'junior (year 3)', (u'Maybe', u'Maybe')),\n",
       " (u'junior (year 3)', (u'Maybe', u'Maybe'))]"
      ]
     },
     "execution_count": 17,
     "metadata": {},
     "output_type": "execute_result"
    }
   ],
   "source": [
    "prdd.mapValues(lambda t: (t.split(\"\\t\")[2],t.split(\"\\t\")[3]))\\\n",
    "    .collect()"
   ]
  },
  {
   "cell_type": "code",
   "execution_count": 10,
   "metadata": {},
   "outputs": [],
   "source": [
    "cleaned = prdd.mapValues(lambda t: (t.split(\"\\t\")[2],t.split(\"\\t\")[3]))"
   ]
  },
  {
   "cell_type": "code",
   "execution_count": 11,
   "metadata": {},
   "outputs": [],
   "source": [
    "def transformValues(t):\n",
    "    l = []\n",
    "    for val in t:\n",
    "        tv = 0\n",
    "        if val == \"Yes\":\n",
    "            tv = 1\n",
    "        elif val == \"No\":\n",
    "            tv = -1\n",
    "        l.append(tv)\n",
    "    return tuple(l)"
   ]
  },
  {
   "cell_type": "code",
   "execution_count": 12,
   "metadata": {},
   "outputs": [
    {
     "data": {
      "text/plain": [
       "[(u'freshmen (year 1)', (1, 1)), (u'', (-1, -1))]"
      ]
     },
     "execution_count": 12,
     "metadata": {},
     "output_type": "execute_result"
    }
   ],
   "source": [
    "cleaned.mapValues(transformValues)\\\n",
    "        .take(2)"
   ]
  },
  {
   "cell_type": "code",
   "execution_count": 13,
   "metadata": {},
   "outputs": [
    {
     "data": {
      "text/plain": [
       "[(u'', [(-1, -1)]),\n",
       " (u'freshmen (year 1)', [(1, 1)]),\n",
       " (u'sophomore (year 2)',\n",
       "  [(-1, -1),\n",
       "   (-1, -1),\n",
       "   (0, 0),\n",
       "   (-1, 0),\n",
       "   (-1, -1),\n",
       "   (-1, -1),\n",
       "   (0, 0),\n",
       "   (0, 0),\n",
       "   (0, -1),\n",
       "   (-1, 0),\n",
       "   (0, 1)]),\n",
       " (u'senior (year 4)',\n",
       "  [(0, 1),\n",
       "   (0, -1),\n",
       "   (0, 0),\n",
       "   (0, 0),\n",
       "   (1, 1),\n",
       "   (-1, 0),\n",
       "   (0, 0),\n",
       "   (0, -1),\n",
       "   (0, 0),\n",
       "   (0, 1),\n",
       "   (-1, -1),\n",
       "   (0, 0),\n",
       "   (0, 0),\n",
       "   (0, 0),\n",
       "   (1, -1),\n",
       "   (1, 1),\n",
       "   (-1, 1),\n",
       "   (0, 0),\n",
       "   (-1, 1),\n",
       "   (-1, -1)]),\n",
       " (u'junior (year 3)',\n",
       "  [(0, 0),\n",
       "   (1, 1),\n",
       "   (1, 1),\n",
       "   (0, -1),\n",
       "   (1, 1),\n",
       "   (-1, 0),\n",
       "   (0, -1),\n",
       "   (0, 0),\n",
       "   (0, 1),\n",
       "   (-1, 1),\n",
       "   (1, 1),\n",
       "   (0, 1),\n",
       "   (1, 1),\n",
       "   (0, -1),\n",
       "   (0, -1),\n",
       "   (0, 0),\n",
       "   (-1, -1),\n",
       "   (0, -1),\n",
       "   (-1, 1),\n",
       "   (-1, 1),\n",
       "   (0, 0),\n",
       "   (0, 0),\n",
       "   (0, 0),\n",
       "   (0, 0),\n",
       "   (0, 0)])]"
      ]
     },
     "execution_count": 13,
     "metadata": {},
     "output_type": "execute_result"
    }
   ],
   "source": [
    "interim = cleaned.mapValues(transformValues)\n",
    "interim.groupByKey().mapValues(list).collect()"
   ]
  },
  {
   "cell_type": "code",
   "execution_count": 14,
   "metadata": {},
   "outputs": [
    {
     "name": "stdout",
     "output_type": "stream",
     "text": [
      "[(u'', (-1, -1)), (u'freshmen (year 1)', (1, 1)), (u'sophomore (year 2)', (-6, -4)), (u'senior (year 4)', (-2, 1)), (u'junior (year 3)', (0, 4))]\n"
     ]
    }
   ],
   "source": [
    "results = interim.reduceByKey(lambda x,y:(x[0]+y[0],x[1]+y[1]))\\\n",
    "                 .collect()\n",
    "print results"
   ]
  },
  {
   "cell_type": "code",
   "execution_count": 15,
   "metadata": {},
   "outputs": [],
   "source": [
    "results = filter(lambda x: x[0], results)\n",
    "results = sorted(results, key = lambda x: x[0][-2:])"
   ]
  },
  {
   "cell_type": "code",
   "execution_count": 30,
   "metadata": {},
   "outputs": [
    {
     "data": {
      "image/png": "[encoded data removed]",
      "text/plain": [
       "<matplotlib.figure.Figure at 0x10f7a2f50>"
      ]
     },
     "metadata": {},
     "output_type": "display_data"
    }
   ],
   "source": [
    "% matplotlib inline\n",
    "import numpy as np\n",
    "import matplotlib.pyplot as plt\n",
    " \n",
    "# data to plot\n",
    "n_groups = 4\n",
    "satisfaction = map(lambda x: x[1][0], results)\n",
    "recommendation = map(lambda x: x[1][1], results)\n",
    "xticks = map(lambda x: x[0], results)\n",
    " \n",
    "# create plot\n",
    "fig, ax = plt.subplots()\n",
    "index = np.arange(n_groups)\n",
    "bar_width = 0.25\n",
    "opacity = 0.9\n",
    " \n",
    "bars1 = plt.bar(index, satisfaction, bar_width,\n",
    "                 alpha=opacity,\n",
    "                 color='b',\n",
    "                 label='satisfaction')\n",
    " \n",
    "bars2 = plt.bar(index + bar_width, recommendation, bar_width,\n",
    "                 alpha=opacity,\n",
    "                 color='g',\n",
    "                 label='recommendation')\n",
    " \n",
    "plt.ylim([-10,10])\n",
    "plt.ylabel('Total Score')\n",
    "plt.xticks(index + bar_width / 2, xticks)\n",
    "plt.legend()\n",
    " \n",
    "plt.tight_layout()\n",
    "plt.show()"
   ]
  },
  {
   "cell_type": "markdown",
   "metadata": {},
   "source": [
    "<h1>Computation of ProductRanks</h1>\n",
    "\n",
    "<h2>You are given a network of frequently co-purchased products.</h2>\n",
    "\n",
    "<h2>Iterative Algorithm for computing product ranks:</h2>\n",
    "<h3>\n",
    "<p>\n",
    "i. Initialise each product $p$’s rank to $1.0$.   \n",
    "<p>\n",
    "ii. On each iteration, have each product $p$ send a contribution \n",
    "of $contribution = \\frac{p}{numOfNeighbours(p)}$ to its neighbours. \n",
    "<p>\n",
    "iii. Set each product’s rank to $ 0.15 + 0.85 \\times \\sum contributions\\_received $.\n",
    "</h3>"
   ]
  },
  {
   "cell_type": "code",
   "execution_count": 26,
   "metadata": {
    "collapsed": true
   },
   "outputs": [],
   "source": [
    "network = [(1,[2,3,4,5,6]),(2,[1]),(3,[1]),(4,[1]),(5,[1,6,8]),\n",
    "           (6,[1,5,7,10,14]),(7,[6,8]),(8,[5,7,9]),(9,[8,10]),\n",
    "           (10,[6,9]),(11,[14]),(12,[14,15]),(13,[14]),\n",
    "           (14,[6,11,12,13]),(15,[12])]"
   ]
  },
  {
   "cell_type": "code",
   "execution_count": 27,
   "metadata": {},
   "outputs": [
    {
     "name": "stdout",
     "output_type": "stream",
     "text": [
      "[(1, 1.0), (2, 1.0), (3, 1.0), (4, 1.0), (5, 1.0), (6, 1.0), (7, 1.0), (8, 1.0), (9, 1.0), (10, 1.0), (11, 1.0), (12, 1.0), (13, 1.0), (14, 1.0), (15, 1.0)]\n"
     ]
    }
   ],
   "source": [
    "initialranks = []\n",
    "for i in range(1,16):\n",
    "    initialranks.append((i,1.0))\n",
    "print initialranks"
   ]
  },
  {
   "cell_type": "code",
   "execution_count": 28,
   "metadata": {},
   "outputs": [],
   "source": [
    "links = sc.parallelize(network)\n",
    "ranks = sc.parallelize(initialranks)\n",
    "flattened_links = links.flatMapValues(lambda l: [(e, 1.0/len(l)) for e in l])\n",
    "\n",
    "p_flattened_links = flattened_links.partitionBy(2).persist()\n",
    "\n",
    "for i in range(20):\n",
    "    ranks = p_flattened_links.join(ranks)\\\n",
    "    .map(lambda v: (v[1][0][0],v[1][0][1]*v[1][1]))\\\n",
    "    .reduceByKey(lambda x,y:x+y)\\\n",
    "    .mapValues(lambda v: v*0.85+0.15)\n",
    "    \n",
    "ranks = ranks.collect()\n",
    "ranks.sort(key = lambda v: v[1], reverse = True)"
   ]
  },
  {
   "cell_type": "code",
   "execution_count": 17,
   "metadata": {},
   "outputs": [
    {
     "name": "stdout",
     "output_type": "stream",
     "text": [
      "(1, 2.1049836932457753)\n",
      "(6, 1.9377628683793553)\n",
      "(14, 1.8432928919203775)\n",
      "(8, 1.1865791688644425)\n",
      "(5, 1.1736178413373295)\n",
      "(12, 1.0519462092628655)\n",
      "(9, 0.8423012970898414)\n",
      "(10, 0.8360108464294258)\n",
      "(7, 0.8147899753247987)\n",
      "(15, 0.5946235277491624)\n",
      "(11, 0.5438040411795152)\n",
      "(13, 0.5438040411795152)\n",
      "(2, 0.5088278660125308)\n",
      "(3, 0.5088278660125308)\n",
      "(4, 0.5088278660125308)\n"
     ]
    }
   ],
   "source": [
    "for (p, rank) in ranks:\n",
    "    print (p, rank)"
   ]
  },
  {
   "cell_type": "code",
   "execution_count": null,
   "metadata": {
    "collapsed": true
   },
   "outputs": [],
   "source": []
  }
 ],
 "metadata": {
  "kernelspec": {
   "display_name": "Python 2",
   "language": "python",
   "name": "python2"
  },
  "language_info": {
   "codemirror_mode": {
    "name": "ipython",
    "version": 2
   },
   "file_extension": ".py",
   "mimetype": "text/x-python",
   "name": "python",
   "nbconvert_exporter": "python",
   "pygments_lexer": "ipython2",
   "version": "2.7.10"
  }
 },
 "nbformat": 4,
 "nbformat_minor": 1
}

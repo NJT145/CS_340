{
 "cells": [
  {
   "cell_type": "code",
   "execution_count": 1,
   "metadata": {},
   "outputs": [],
   "source": [
    "from pyspark.sql import SQLContext\n",
    "sqlContext = SQLContext(sc)\n",
    "df = sqlContext.read.format(\"json\").load(\"inventory.json\")"
   ]
  },
  {
   "cell_type": "code",
   "execution_count": 3,
   "metadata": {},
   "outputs": [
    {
     "name": "stdout",
     "output_type": "stream",
     "text": [
      "root\n",
      " |-- Brand: string (nullable = true)\n",
      " |-- BuyCurrency: string (nullable = true)\n",
      " |-- BuyPrice: double (nullable = true)\n",
      " |-- Category: string (nullable = true)\n",
      " |-- Id: long (nullable = true)\n",
      " |-- LeadTime: long (nullable = true)\n",
      " |-- MinOrderQuantity: long (nullable = true)\n",
      " |-- Name: string (nullable = true)\n",
      " |-- SellCurrency: string (nullable = true)\n",
      " |-- SellPrice: double (nullable = true)\n",
      " |-- StockOnHand: long (nullable = true)\n",
      " |-- StockOnOrder: long (nullable = true)\n",
      " |-- SubCategory: string (nullable = true)\n",
      " |-- Supplier: string (nullable = true)\n",
      " |-- TargetBatchVolume: double (nullable = true)\n",
      " |-- Volume: double (nullable = true)\n",
      "\n"
     ]
    }
   ],
   "source": [
    "df.printSchema()"
   ]
  },
  {
   "cell_type": "code",
   "execution_count": 2,
   "metadata": {},
   "outputs": [
    {
     "data": {
      "text/plain": [
       "Row(Brand=u'StarTAC', BuyCurrency=u'GBP', BuyPrice=27.67, Category=u'Technology', Id=16342939, LeadTime=15, MinOrderQuantity=1, Name=u'StarTAC Series', SellCurrency=u'USD', SellPrice=65.99, StockOnHand=15, StockOnOrder=50, SubCategory=u'Telephones and Communication', Supplier=u'Office First', TargetBatchVolume=0.0, Volume=0.8)"
      ]
     },
     "execution_count": 2,
     "metadata": {},
     "output_type": "execute_result"
    }
   ],
   "source": [
    "df.first()"
   ]
  },
  {
   "cell_type": "code",
   "execution_count": 5,
   "metadata": {},
   "outputs": [
    {
     "data": {
      "text/plain": [
       "100"
      ]
     },
     "execution_count": 5,
     "metadata": {},
     "output_type": "execute_result"
    }
   ],
   "source": [
    "df.count()"
   ]
  },
  {
   "cell_type": "code",
   "execution_count": 4,
   "metadata": {},
   "outputs": [
    {
     "name": "stdout",
     "output_type": "stream",
     "text": [
      "+---------------+\n",
      "|count(Supplier)|\n",
      "+---------------+\n",
      "|            100|\n",
      "+---------------+\n",
      "\n"
     ]
    }
   ],
   "source": [
    "from pyspark.sql.functions import count\n",
    "df.select(count(\"Supplier\")).show()"
   ]
  },
  {
   "cell_type": "code",
   "execution_count": 6,
   "metadata": {},
   "outputs": [
    {
     "name": "stdout",
     "output_type": "stream",
     "text": [
      "+------------------------+\n",
      "|count(DISTINCT Supplier)|\n",
      "+------------------------+\n",
      "|                       6|\n",
      "+------------------------+\n",
      "\n"
     ]
    }
   ],
   "source": [
    "from pyspark.sql.functions import countDistinct\n",
    "df.select(countDistinct(\"Supplier\")).show()"
   ]
  },
  {
   "cell_type": "code",
   "execution_count": 7,
   "metadata": {},
   "outputs": [
    {
     "name": "stdout",
     "output_type": "stream",
     "text": [
      "+----------------+----------------+\n",
      "|min(StockOnHand)|max(StockOnHand)|\n",
      "+----------------+----------------+\n",
      "|               0|              35|\n",
      "+----------------+----------------+\n",
      "\n"
     ]
    }
   ],
   "source": [
    "from pyspark.sql.functions import min, max\n",
    "df.select(min(\"StockOnHand\"), max(\"StockOnHand\")).show() "
   ]
  },
  {
   "cell_type": "code",
   "execution_count": 8,
   "metadata": {},
   "outputs": [
    {
     "name": "stdout",
     "output_type": "stream",
     "text": [
      "+----------------+\n",
      "|sum(StockOnHand)|\n",
      "+----------------+\n",
      "|            1144|\n",
      "+----------------+\n",
      "\n"
     ]
    }
   ],
   "source": [
    "from pyspark.sql.functions import sum\n",
    "df.select(sum(\"StockOnHand\")).show()"
   ]
  },
  {
   "cell_type": "code",
   "execution_count": 12,
   "metadata": {},
   "outputs": [
    {
     "name": "stdout",
     "output_type": "stream",
     "text": [
      "+------------+----------------+\n",
      "|    Supplier|sum(StockOnHand)|\n",
      "+------------+----------------+\n",
      "|         RRD|             130|\n",
      "|      Drecom|             449|\n",
      "|     Logipro|             235|\n",
      "|         FHL|             134|\n",
      "| SuperSupply|              97|\n",
      "|Office First|              99|\n",
      "+------------+----------------+\n",
      "\n"
     ]
    }
   ],
   "source": [
    "df.groupBy(\"Supplier\")\\\n",
    ".agg(sum(\"StockOnHand\"))\\\n",
    ".show()"
   ]
  },
  {
   "cell_type": "code",
   "execution_count": 20,
   "metadata": {},
   "outputs": [
    {
     "name": "stdout",
     "output_type": "stream",
     "text": [
      "+---------------------------+---------+----------+\n",
      "|(total_units / total_goods)|avg_units|mean_units|\n",
      "+---------------------------+---------+----------+\n",
      "|                      11.44|    11.44|     11.44|\n",
      "+---------------------------+---------+----------+\n",
      "\n"
     ]
    }
   ],
   "source": [
    "from pyspark.sql.functions import sum, count, avg, expr\n",
    "df.select(\n",
    "    count(\"StockOnHand\").alias(\"total_goods\"),\n",
    "    sum(\"StockOnHand\").alias(\"total_units\"),\n",
    "    avg(\"StockOnHand\").alias(\"avg_units\"),\n",
    "    expr(\"mean(StockOnHand)\").alias(\"mean_units\"))\\\n",
    "  .selectExpr(\"total_units/total_goods\",\"avg_units\",\"mean_units\")\\\n",
    "  .show()"
   ]
  },
  {
   "cell_type": "code",
   "execution_count": 25,
   "metadata": {},
   "outputs": [
    {
     "name": "stdout",
     "output_type": "stream",
     "text": [
      "+---------------------------+---------+----------+\n",
      "|(total_units / total_goods)|avg_units|mean_units|\n",
      "+---------------------------+---------+----------+\n",
      "|                      11.44|    11.44|     11.44|\n",
      "+---------------------------+---------+----------+\n",
      "\n"
     ]
    }
   ],
   "source": [
    "df.select(\n",
    "    expr(\"count(StockOnHand) AS total_goods\"),\n",
    "    expr(\"sum(StockOnHand) AS total_units\"),\n",
    "    expr(\"avg(StockOnHand) AS avg_units\"),\n",
    "    expr(\"mean(StockOnHand) AS mean_units\"))\\\n",
    "  .selectExpr(\"total_units/total_goods\",\"avg_units\",\"mean_units\")\\\n",
    "  .show()"
   ]
  },
  {
   "cell_type": "code",
   "execution_count": 28,
   "metadata": {},
   "outputs": [
    {
     "name": "stdout",
     "output_type": "stream",
     "text": [
      "+------------+--------+------------------+\n",
      "|    Supplier|quantity|count(StockOnHand)|\n",
      "+------------+--------+------------------+\n",
      "|         RRD|      11|                11|\n",
      "|      Drecom|      33|                33|\n",
      "|     Logipro|      21|                21|\n",
      "|         FHL|      14|                14|\n",
      "| SuperSupply|      11|                11|\n",
      "|Office First|      10|                10|\n",
      "+------------+--------+------------------+\n",
      "\n"
     ]
    }
   ],
   "source": [
    "df.groupBy(\"Supplier\").agg(\n",
    "        count(\"StockOnHand\").alias(\"quantity\"),\n",
    "        expr(\"count(StockOnHand)\")).show()"
   ]
  },
  {
   "cell_type": "code",
   "execution_count": 13,
   "metadata": {},
   "outputs": [
    {
     "name": "stdout",
     "output_type": "stream",
     "text": [
      "+---------------+------------+-----------+\n",
      "|       Category|    Supplier|total_units|\n",
      "+---------------+------------+-----------+\n",
      "|           null|        null|       1144|\n",
      "|      Furniture|        null|        133|\n",
      "|      Furniture|         RRD|         22|\n",
      "|      Furniture|         FHL|         14|\n",
      "|      Furniture|     Logipro|         24|\n",
      "|      Furniture| SuperSupply|         36|\n",
      "|      Furniture|      Drecom|         37|\n",
      "|Office Supplies|         RRD|         48|\n",
      "|Office Supplies|      Drecom|        345|\n",
      "|Office Supplies| SuperSupply|         36|\n",
      "|Office Supplies|     Logipro|        184|\n",
      "|Office Supplies|        null|        734|\n",
      "|Office Supplies|         FHL|        110|\n",
      "|Office Supplies|Office First|         11|\n",
      "|     Technology|         RRD|         60|\n",
      "|     Technology|         FHL|         10|\n",
      "|     Technology|      Drecom|         67|\n",
      "|     Technology| SuperSupply|         25|\n",
      "|     Technology|        null|        277|\n",
      "|     Technology|Office First|         88|\n",
      "+---------------+------------+-----------+\n",
      "only showing top 20 rows\n",
      "\n"
     ]
    }
   ],
   "source": [
    "rolledUpDF = df.rollup(\"Category\", \"Supplier\").agg(sum(\"StockOnHand\"))\\\n",
    "    .withColumnRenamed(\"sum(StockOnHand)\",\"total_units\")\\\n",
    "    .select(\"Category\", \"Supplier\", \"total_units\")\\\n",
    "    .orderBy(\"Category\")\n",
    "rolledUpDF.show()"
   ]
  },
  {
   "cell_type": "code",
   "execution_count": 15,
   "metadata": {},
   "outputs": [
    {
     "name": "stdout",
     "output_type": "stream",
     "text": [
      "+--------+--------+-----------+\n",
      "|Category|Supplier|total_units|\n",
      "+--------+--------+-----------+\n",
      "|    null|    null|       1144|\n",
      "+--------+--------+-----------+\n",
      "\n"
     ]
    }
   ],
   "source": [
    "rolledUpDF.where(\"Category IS NULL\").show()"
   ]
  },
  {
   "cell_type": "code",
   "execution_count": 32,
   "metadata": {},
   "outputs": [
    {
     "name": "stdout",
     "output_type": "stream",
     "text": [
      "+---------------+--------+-----------+\n",
      "|       Category|Supplier|total_units|\n",
      "+---------------+--------+-----------+\n",
      "|           null|    null|       1144|\n",
      "|      Furniture|    null|        133|\n",
      "|Office Supplies|    null|        734|\n",
      "|     Technology|    null|        277|\n",
      "+---------------+--------+-----------+\n",
      "\n"
     ]
    }
   ],
   "source": [
    "rolledUpDF.where(\"Supplier IS NULL\").show()"
   ]
  },
  {
   "cell_type": "code",
   "execution_count": 16,
   "metadata": {},
   "outputs": [
    {
     "name": "stdout",
     "output_type": "stream",
     "text": [
      "+---------------+------------+-----------+\n",
      "|       Category|    Supplier|total_units|\n",
      "+---------------+------------+-----------+\n",
      "|      Furniture|        null|        133|\n",
      "|Office Supplies|        null|        734|\n",
      "|           null|        null|       1144|\n",
      "|     Technology|        null|        277|\n",
      "|           null|      Drecom|        449|\n",
      "|     Technology|      Drecom|         67|\n",
      "|      Furniture|      Drecom|         37|\n",
      "|Office Supplies|      Drecom|        345|\n",
      "|Office Supplies|         FHL|        110|\n",
      "|     Technology|         FHL|         10|\n",
      "|           null|         FHL|        134|\n",
      "|      Furniture|         FHL|         14|\n",
      "|     Technology|     Logipro|         27|\n",
      "|Office Supplies|     Logipro|        184|\n",
      "|      Furniture|     Logipro|         24|\n",
      "|           null|     Logipro|        235|\n",
      "|           null|Office First|         99|\n",
      "|     Technology|Office First|         88|\n",
      "|Office Supplies|Office First|         11|\n",
      "|           null|         RRD|        130|\n",
      "+---------------+------------+-----------+\n",
      "only showing top 20 rows\n",
      "\n"
     ]
    }
   ],
   "source": [
    "df.cube(\"Category\", \"Supplier\").agg(sum(\"StockOnHand\"))\\\n",
    "    .withColumnRenamed(\"sum(StockOnHand)\",\"total_units\")\\\n",
    "    .select(\"Category\", \"Supplier\", \"total_units\")\\\n",
    "    .orderBy(\"Supplier\")\\\n",
    "    .show()"
   ]
  },
  {
   "cell_type": "code",
   "execution_count": null,
   "metadata": {
    "collapsed": true
   },
   "outputs": [],
   "source": []
  }
 ],
 "metadata": {
  "kernelspec": {
   "display_name": "Python 2",
   "language": "python",
   "name": "python2"
  },
  "language_info": {
   "codemirror_mode": {
    "name": "ipython",
    "version": 2
   },
   "file_extension": ".py",
   "mimetype": "text/x-python",
   "name": "python",
   "nbconvert_exporter": "python",
   "pygments_lexer": "ipython2",
   "version": "2.7.10"
  }
 },
 "nbformat": 4,
 "nbformat_minor": 1
}
